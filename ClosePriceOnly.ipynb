{
  "cells": [
    {
      "cell_type": "markdown",
      "metadata": {
        "id": "view-in-github",
        "colab_type": "text"
      },
      "source": [
        "<a href=\"https://colab.research.google.com/github/delpretemarcus/156StockClosingPricePrediction/blob/main/ClosePriceOnly.ipynb\" target=\"_parent\"><img src=\"https://colab.research.google.com/assets/colab-badge.svg\" alt=\"Open In Colab\"/></a>"
      ]
    },
    {
      "cell_type": "markdown",
      "metadata": {
        "id": "OkXCFN61XmVC"
      },
      "source": [
        "### Stock Market Prediction And Forecasting Using Stacked LSTM"
      ]
    },
    {
      "cell_type": "code",
      "execution_count": 78,
      "metadata": {
        "id": "OCZI7vauXmVF"
      },
      "outputs": [],
      "source": [
        "import pandas as pd\n",
        "import numpy as np\n",
        "import matplotlib.pyplot as plt\n",
        "from sklearn.preprocessing import MinMaxScaler\n",
        "from keras.models import Sequential\n",
        "from keras.layers import Dense\n",
        "from keras.layers import LSTM\n",
        "import math\n",
        "from sklearn.metrics import mean_squared_error\n",
        "import numpy"
      ]
    },
    {
      "cell_type": "code",
      "execution_count": 79,
      "metadata": {
        "id": "9o97588kXmVF"
      },
      "outputs": [],
      "source": [
        "\n",
        "aplurl = 'https://raw.githubusercontent.com/delpretemarcus/156StockClosingPricePrediction/main/HistoricalQuotes.csv'\n",
        "\n",
        "df = pd.read_csv(aplurl, index_col='Date')"
      ]
    },
    {
      "cell_type": "code",
      "execution_count": 80,
      "metadata": {
        "id": "fjabJ9xXXmVF"
      },
      "outputs": [],
      "source": [
        "#Data Cleaning --\n",
        "\n",
        "df.columns = ['Close', 'Volume', 'Open', 'High', 'Low']\n",
        "df.index = pd.to_datetime(df.index)\n",
        "df.sort_index()\n",
        "\n",
        "df.Close = df.Close.apply(lambda x: x[2:]).astype(np.double)\n",
        "df.Open = df.Open.apply(lambda x: x[2:]).astype(np.double)\n",
        "df.High = df.High.apply(lambda x: x[2:]).astype(np.double)\n",
        "df.Low = df.Low.apply(lambda x: x[2:]).astype(np.double)\n",
        "\n",
        "df = df.reindex(index=df.index[::-1])\n"
      ]
    },
    {
      "cell_type": "code",
      "execution_count": 81,
      "metadata": {
        "id": "bA5L0g42XmVG"
      },
      "outputs": [],
      "source": [
        "df1=df.reset_index()['Close']"
      ]
    },
    {
      "cell_type": "code",
      "execution_count": 82,
      "metadata": {
        "colab": {
          "base_uri": "https://localhost:8080/"
        },
        "id": "wG5OV2gGXmVH",
        "outputId": "98932284-a41c-4c53-d3c0-7c72ffd3da67"
      },
      "outputs": [
        {
          "output_type": "execute_result",
          "data": {
            "text/plain": [
              "0        29.8557\n",
              "1        29.8357\n",
              "2        29.9043\n",
              "3        30.1014\n",
              "4        31.2786\n",
              "          ...   \n",
              "2513    298.1800\n",
              "2514    288.0800\n",
              "2515    292.6500\n",
              "2516    273.5200\n",
              "2517    273.3600\n",
              "Name: Close, Length: 2518, dtype: float64"
            ]
          },
          "metadata": {},
          "execution_count": 82
        }
      ],
      "source": [
        "df1"
      ]
    },
    {
      "cell_type": "code",
      "execution_count": 83,
      "metadata": {
        "colab": {
          "base_uri": "https://localhost:8080/",
          "height": 283
        },
        "id": "gMekuFdQXmVH",
        "outputId": "61d41e6c-b312-4c7d-8269-c83a50c76199"
      },
      "outputs": [
        {
          "output_type": "execute_result",
          "data": {
            "text/plain": [
              "[<matplotlib.lines.Line2D at 0x7fa0aa493310>]"
            ]
          },
          "metadata": {},
          "execution_count": 83
        },
        {
          "output_type": "display_data",
          "data": {
            "text/plain": [
              "<Figure size 432x288 with 1 Axes>"
            ],
            "image/png": "[encoded data removed]"
          },
          "metadata": {
            "needs_background": "light"
          }
        }
      ],
      "source": [
        "plt.plot(df1)"
      ]
    },
    {
      "cell_type": "code",
      "execution_count": 84,
      "metadata": {
        "id": "jYKZpZpuXmVI"
      },
      "outputs": [],
      "source": [
        "scaler=MinMaxScaler(feature_range=(0,1))\n",
        "df1=scaler.fit_transform(np.array(df1).reshape(-1,1))"
      ]
    },
    {
      "cell_type": "code",
      "execution_count": 85,
      "metadata": {
        "id": "3DBJxgf6XmVI"
      },
      "outputs": [],
      "source": [
        "##splitting dataset into train and test split\n",
        "training_size=int(len(df1)*0.80)\n",
        "test_size=len(df1)-training_size\n",
        "train_data,test_data=df1[0:training_size,:],df1[training_size:len(df1),:1]"
      ]
    },
    {
      "cell_type": "code",
      "execution_count": 86,
      "metadata": {
        "colab": {
          "base_uri": "https://localhost:8080/"
        },
        "id": "nl067NQIXmVI",
        "outputId": "c128e84f-5e23-46ed-d722-4e52339cc0a8"
      },
      "outputs": [
        {
          "output_type": "execute_result",
          "data": {
            "text/plain": [
              "(2014, 504)"
            ]
          },
          "metadata": {},
          "execution_count": 86
        }
      ],
      "source": [
        "training_size,test_size"
      ]
    },
    {
      "cell_type": "code",
      "execution_count": 87,
      "metadata": {
        "id": "84BPAhVFXmVJ"
      },
      "outputs": [],
      "source": [
        "def create_dataset(dataset, time_step=1):\n",
        "\tdataX, dataY = [], []\n",
        "\tfor i in range(len(dataset)-time_step-1):\n",
        "\t\ta = dataset[i:(i+time_step), 0]    \n",
        "\t\tdataX.append(a)\n",
        "\t\tdataY.append(dataset[i + time_step, 0])\n",
        "\treturn np.array(dataX), np.array(dataY)"
      ]
    },
    {
      "cell_type": "code",
      "execution_count": 88,
      "metadata": {
        "id": "FycpFz1fXmVJ"
      },
      "outputs": [],
      "source": [
        "# reshape into X=t,t+1,t+2,t+3... t+99 and Y=t+100\n",
        "time_step = 100\n",
        "X_train, y_train = create_dataset(train_data, time_step)\n",
        "X_test, ytest = create_dataset(test_data, time_step)"
      ]
    },
    {
      "cell_type": "code",
      "execution_count": 89,
      "metadata": {
        "id": "H9XoTsz9XmVK"
      },
      "outputs": [],
      "source": [
        "# reshape input to be [samples, time steps, features] which is required for LSTM. Could have made 3rd dimension w/ open/volume, but seems to work well enough without\n",
        "X_train =X_train.reshape(X_train.shape[0],X_train.shape[1] , 1)\n",
        "X_test = X_test.reshape(X_test.shape[0],X_test.shape[1] , 1)"
      ]
    },
    {
      "cell_type": "code",
      "execution_count": 90,
      "metadata": {
        "id": "DCqcVGVEXmVK"
      },
      "outputs": [],
      "source": [
        "model=Sequential()\n",
        "model.add(LSTM(64,return_sequences=True,input_shape=(100,1)))\n",
        "model.add(LSTM(64,return_sequences=True))\n",
        "model.add(LSTM(64))\n",
        "model.add(Dense(1))\n",
        "model.compile(loss='mean_squared_error',optimizer='adam')\n"
      ]
    },
    {
      "cell_type": "code",
      "execution_count": 91,
      "metadata": {
        "colab": {
          "base_uri": "https://localhost:8080/"
        },
        "id": "EGNAapVLXmVK",
        "outputId": "e73f3994-5dc0-4c8b-efb2-91d71f9ede9d"
      },
      "outputs": [
        {
          "output_type": "stream",
          "name": "stdout",
          "text": [
            "Model: \"sequential_1\"\n",
            "_________________________________________________________________\n",
            " Layer (type)                Output Shape              Param #   \n",
            "=================================================================\n",
            " lstm_3 (LSTM)               (None, 100, 64)           16896     \n",
            "                                                                 \n",
            " lstm_4 (LSTM)               (None, 100, 64)           33024     \n",
            "                                                                 \n",
            " lstm_5 (LSTM)               (None, 64)                33024     \n",
            "                                                                 \n",
            " dense_1 (Dense)             (None, 1)                 65        \n",
            "                                                                 \n",
            "=================================================================\n",
            "Total params: 83,009\n",
            "Trainable params: 83,009\n",
            "Non-trainable params: 0\n",
            "_________________________________________________________________\n"
          ]
        }
      ],
      "source": [
        "model.summary()"
      ]
    },
    {
      "cell_type": "code",
      "execution_count": 131,
      "metadata": {
        "colab": {
          "base_uri": "https://localhost:8080/"
        },
        "id": "VxEG3IB2XmVL",
        "outputId": "17885cfd-5e4e-459f-91ae-712fa84669e1"
      },
      "outputs": [
        {
          "output_type": "stream",
          "name": "stdout",
          "text": [
            "Epoch 1/60\n",
            "30/30 [==============================] - 8s 268ms/step - loss: 2.5686e-05 - val_loss: 3.1793e-04\n",
            "Epoch 2/60\n",
            "30/30 [==============================] - 8s 263ms/step - loss: 2.8368e-05 - val_loss: 2.5054e-04\n",
            "Epoch 3/60\n",
            "30/30 [==============================] - 8s 264ms/step - loss: 2.6295e-05 - val_loss: 3.3395e-04\n",
            "Epoch 4/60\n",
            "30/30 [==============================] - 8s 260ms/step - loss: 2.7295e-05 - val_loss: 2.5362e-04\n",
            "Epoch 5/60\n",
            "30/30 [==============================] - 8s 252ms/step - loss: 2.6943e-05 - val_loss: 3.1004e-04\n",
            "Epoch 6/60\n",
            "30/30 [==============================] - 8s 257ms/step - loss: 2.8126e-05 - val_loss: 3.8339e-04\n",
            "Epoch 7/60\n",
            "30/30 [==============================] - 8s 255ms/step - loss: 2.7894e-05 - val_loss: 2.4550e-04\n",
            "Epoch 8/60\n",
            "30/30 [==============================] - 8s 263ms/step - loss: 2.8128e-05 - val_loss: 2.5047e-04\n",
            "Epoch 9/60\n",
            "30/30 [==============================] - 8s 268ms/step - loss: 3.3217e-05 - val_loss: 2.7898e-04\n",
            "Epoch 10/60\n",
            "30/30 [==============================] - 8s 253ms/step - loss: 3.5321e-05 - val_loss: 2.4475e-04\n",
            "Epoch 11/60\n",
            "30/30 [==============================] - 8s 263ms/step - loss: 2.8371e-05 - val_loss: 2.7875e-04\n",
            "Epoch 12/60\n",
            "30/30 [==============================] - 8s 262ms/step - loss: 2.6008e-05 - val_loss: 2.4010e-04\n",
            "Epoch 13/60\n",
            "30/30 [==============================] - 8s 255ms/step - loss: 2.9442e-05 - val_loss: 2.7579e-04\n",
            "Epoch 14/60\n",
            "30/30 [==============================] - 8s 256ms/step - loss: 3.2178e-05 - val_loss: 2.3632e-04\n",
            "Epoch 15/60\n",
            "30/30 [==============================] - 8s 264ms/step - loss: 2.7738e-05 - val_loss: 2.4618e-04\n",
            "Epoch 16/60\n",
            "30/30 [==============================] - 8s 252ms/step - loss: 2.6390e-05 - val_loss: 2.5954e-04\n",
            "Epoch 17/60\n",
            "30/30 [==============================] - 8s 254ms/step - loss: 2.9975e-05 - val_loss: 3.3123e-04\n",
            "Epoch 18/60\n",
            "30/30 [==============================] - 8s 280ms/step - loss: 2.7032e-05 - val_loss: 3.2471e-04\n",
            "Epoch 19/60\n",
            "30/30 [==============================] - 8s 257ms/step - loss: 2.7867e-05 - val_loss: 2.3580e-04\n",
            "Epoch 20/60\n",
            "30/30 [==============================] - 8s 277ms/step - loss: 2.7397e-05 - val_loss: 2.6058e-04\n",
            "Epoch 21/60\n",
            "30/30 [==============================] - 8s 277ms/step - loss: 2.8748e-05 - val_loss: 2.7976e-04\n",
            "Epoch 22/60\n",
            "30/30 [==============================] - 8s 272ms/step - loss: 3.1663e-05 - val_loss: 5.0319e-04\n",
            "Epoch 23/60\n",
            "30/30 [==============================] - 8s 261ms/step - loss: 3.6686e-05 - val_loss: 2.5489e-04\n",
            "Epoch 24/60\n",
            "30/30 [==============================] - 8s 259ms/step - loss: 2.6182e-05 - val_loss: 2.3406e-04\n",
            "Epoch 25/60\n",
            "30/30 [==============================] - 7s 248ms/step - loss: 2.6701e-05 - val_loss: 4.1879e-04\n",
            "Epoch 26/60\n",
            "30/30 [==============================] - 8s 255ms/step - loss: 2.6964e-05 - val_loss: 4.4332e-04\n",
            "Epoch 27/60\n",
            "30/30 [==============================] - 8s 254ms/step - loss: 3.2941e-05 - val_loss: 2.4704e-04\n",
            "Epoch 28/60\n",
            "30/30 [==============================] - 8s 261ms/step - loss: 2.8023e-05 - val_loss: 2.3112e-04\n",
            "Epoch 29/60\n",
            "30/30 [==============================] - 8s 255ms/step - loss: 2.8628e-05 - val_loss: 2.3094e-04\n",
            "Epoch 30/60\n",
            "30/30 [==============================] - 8s 262ms/step - loss: 3.1046e-05 - val_loss: 2.4352e-04\n",
            "Epoch 31/60\n",
            "30/30 [==============================] - 8s 264ms/step - loss: 2.9494e-05 - val_loss: 2.2503e-04\n",
            "Epoch 32/60\n",
            "30/30 [==============================] - 8s 277ms/step - loss: 2.7218e-05 - val_loss: 2.4991e-04\n",
            "Epoch 33/60\n",
            "30/30 [==============================] - 8s 264ms/step - loss: 2.5974e-05 - val_loss: 2.9643e-04\n",
            "Epoch 34/60\n",
            "30/30 [==============================] - 8s 252ms/step - loss: 2.5634e-05 - val_loss: 2.2088e-04\n",
            "Epoch 35/60\n",
            "30/30 [==============================] - 8s 260ms/step - loss: 2.6662e-05 - val_loss: 2.7332e-04\n",
            "Epoch 36/60\n",
            "30/30 [==============================] - 8s 266ms/step - loss: 2.7328e-05 - val_loss: 2.6542e-04\n",
            "Epoch 37/60\n",
            "30/30 [==============================] - 8s 269ms/step - loss: 3.3461e-05 - val_loss: 3.4662e-04\n",
            "Epoch 38/60\n",
            "30/30 [==============================] - 8s 274ms/step - loss: 3.3480e-05 - val_loss: 3.0167e-04\n",
            "Epoch 39/60\n",
            "30/30 [==============================] - 9s 289ms/step - loss: 2.8293e-05 - val_loss: 2.2449e-04\n",
            "Epoch 40/60\n",
            "30/30 [==============================] - 8s 263ms/step - loss: 3.2115e-05 - val_loss: 2.3055e-04\n",
            "Epoch 41/60\n",
            "30/30 [==============================] - 8s 258ms/step - loss: 3.0321e-05 - val_loss: 2.2505e-04\n",
            "Epoch 42/60\n",
            "30/30 [==============================] - 8s 262ms/step - loss: 3.2116e-05 - val_loss: 2.8260e-04\n",
            "Epoch 43/60\n",
            "30/30 [==============================] - 8s 277ms/step - loss: 2.9030e-05 - val_loss: 2.4917e-04\n",
            "Epoch 44/60\n",
            "30/30 [==============================] - 8s 253ms/step - loss: 2.8765e-05 - val_loss: 2.2148e-04\n",
            "Epoch 45/60\n",
            "30/30 [==============================] - 8s 262ms/step - loss: 2.7565e-05 - val_loss: 3.9204e-04\n",
            "Epoch 46/60\n",
            "30/30 [==============================] - 8s 284ms/step - loss: 2.8436e-05 - val_loss: 3.1075e-04\n",
            "Epoch 47/60\n",
            "30/30 [==============================] - 8s 258ms/step - loss: 2.9747e-05 - val_loss: 3.2818e-04\n",
            "Epoch 48/60\n",
            "30/30 [==============================] - 8s 273ms/step - loss: 2.7953e-05 - val_loss: 2.1694e-04\n",
            "Epoch 49/60\n",
            "30/30 [==============================] - 8s 265ms/step - loss: 3.4828e-05 - val_loss: 2.1606e-04\n",
            "Epoch 50/60\n",
            "30/30 [==============================] - 8s 271ms/step - loss: 3.6641e-05 - val_loss: 2.2210e-04\n",
            "Epoch 51/60\n",
            "30/30 [==============================] - 8s 278ms/step - loss: 2.7704e-05 - val_loss: 2.3493e-04\n",
            "Epoch 52/60\n",
            "30/30 [==============================] - 8s 273ms/step - loss: 2.7474e-05 - val_loss: 2.4371e-04\n",
            "Epoch 53/60\n",
            "30/30 [==============================] - 8s 260ms/step - loss: 2.5223e-05 - val_loss: 2.8581e-04\n",
            "Epoch 54/60\n",
            "30/30 [==============================] - 8s 268ms/step - loss: 2.6305e-05 - val_loss: 2.3218e-04\n",
            "Epoch 55/60\n",
            "30/30 [==============================] - 8s 261ms/step - loss: 2.6663e-05 - val_loss: 2.8363e-04\n",
            "Epoch 56/60\n",
            "30/30 [==============================] - 9s 295ms/step - loss: 3.3672e-05 - val_loss: 3.8115e-04\n",
            "Epoch 57/60\n",
            "30/30 [==============================] - 8s 268ms/step - loss: 2.6792e-05 - val_loss: 2.2043e-04\n",
            "Epoch 58/60\n",
            "30/30 [==============================] - 8s 268ms/step - loss: 2.6336e-05 - val_loss: 2.4151e-04\n",
            "Epoch 59/60\n",
            "30/30 [==============================] - 8s 252ms/step - loss: 3.0374e-05 - val_loss: 5.4922e-04\n",
            "Epoch 60/60\n",
            "30/30 [==============================] - 8s 271ms/step - loss: 2.8800e-05 - val_loss: 2.3030e-04\n"
          ]
        },
        {
          "output_type": "execute_result",
          "data": {
            "text/plain": [
              "<keras.callbacks.History at 0x7fa0a5cea550>"
            ]
          },
          "metadata": {},
          "execution_count": 131
        }
      ],
      "source": [
        "model.fit(X_train,y_train,validation_data=(X_test,ytest),epochs=60,batch_size=64,verbose=1)"
      ]
    },
    {
      "cell_type": "code",
      "execution_count": 132,
      "metadata": {
        "id": "-HwAlTnKXmVL"
      },
      "outputs": [],
      "source": [
        "### Lets Do the prediction and check performance metrics\n",
        "train_predict=model.predict(X_train)\n",
        "test_predict=model.predict(X_test)"
      ]
    },
    {
      "cell_type": "code",
      "execution_count": 133,
      "metadata": {
        "id": "lrVqKbiSXmVL"
      },
      "outputs": [],
      "source": [
        "##Transformback to original form\n",
        "train_predict=scaler.inverse_transform(train_predict)\n",
        "test_predict=scaler.inverse_transform(test_predict)"
      ]
    },
    {
      "cell_type": "code",
      "execution_count": 134,
      "metadata": {
        "colab": {
          "base_uri": "https://localhost:8080/",
          "height": 265
        },
        "id": "XwQFCdBAXmVM",
        "outputId": "d88315c7-accd-4721-d3b9-f1cb0ee3fa89"
      },
      "outputs": [
        {
          "output_type": "display_data",
          "data": {
            "text/plain": [
              "<Figure size 432x288 with 1 Axes>"
            ],
            "image/png": "[encoded data removed]"
          },
          "metadata": {
            "needs_background": "light"
          }
        }
      ],
      "source": [
        "### Plotting \n",
        "# shift train predictions for plotting\n",
        "look_back=100\n",
        "trainPredictPlot = numpy.empty_like(df1)\n",
        "trainPredictPlot[:, :] = np.nan\n",
        "trainPredictPlot[look_back:len(train_predict)+look_back, :] = train_predict\n",
        "# shift test predictions for plotting\n",
        "testPredictPlot = numpy.empty_like(df1)\n",
        "testPredictPlot[:, :] = numpy.nan\n",
        "testPredictPlot[len(train_predict)+(look_back*2)+1:len(df1)-1, :] = test_predict\n",
        "# plot baseline and predictions\n",
        "plt.plot(scaler.inverse_transform(df1))\n",
        "plt.plot(trainPredictPlot)\n",
        "plt.plot(testPredictPlot)\n",
        "plt.show()"
      ]
    },
    {
      "cell_type": "code",
      "source": [
        "#Plotting just the predicted part\n",
        "plt.plot(scaler.inverse_transform(df1)[len(train_predict)+(look_back*2)+1:len(df1)-1, :])\n",
        "plt.plot(test_predict)\n",
        "plt.show()"
      ],
      "metadata": {
        "colab": {
          "base_uri": "https://localhost:8080/",
          "height": 265
        },
        "id": "xB1Gj2--dpzh",
        "outputId": "f3f3a189-5add-4806-b073-ab6352d6e506"
      },
      "execution_count": 135,
      "outputs": [
        {
          "output_type": "display_data",
          "data": {
            "text/plain": [
              "<Figure size 432x288 with 1 Axes>"
            ],
            "image/png": "[encoded data removed]"
          },
          "metadata": {
            "needs_background": "light"
          }
        }
      ]
    },
    {
      "cell_type": "code",
      "source": [
        "y_train"
      ],
      "metadata": {
        "colab": {
          "base_uri": "https://localhost:8080/"
        },
        "id": "3AdyAxF6uRHn",
        "outputId": "0d7a2abf-d058-415a-e625-5ea6f0171af3"
      },
      "execution_count": 136,
      "outputs": [
        {
          "output_type": "execute_result",
          "data": {
            "text/plain": [
              "array([0.0241041 , 0.0245443 , 0.02422719, ..., 0.4797627 , 0.48985134,\n",
              "       0.50152053])"
            ]
          },
          "metadata": {},
          "execution_count": 136
        }
      ]
    },
    {
      "cell_type": "code",
      "source": [
        "unscaled_y_train = scaler.inverse_transform(np.array(y_train).reshape(-1,1))"
      ],
      "metadata": {
        "id": "Znf-zwwPut9a"
      },
      "execution_count": 137,
      "outputs": []
    },
    {
      "cell_type": "code",
      "source": [
        "train_predict"
      ],
      "metadata": {
        "colab": {
          "base_uri": "https://localhost:8080/"
        },
        "id": "ViMnlkm6uWGm",
        "outputId": "aab220b7-8ad8-441c-bf71-db55d578d47c"
      },
      "execution_count": 138,
      "outputs": [
        {
          "output_type": "execute_result",
          "data": {
            "text/plain": [
              "array([[ 36.69239],\n",
              "       [ 37.32723],\n",
              "       [ 37.56904],\n",
              "       ...,\n",
              "       [171.48907],\n",
              "       [173.41612],\n",
              "       [176.27072]], dtype=float32)"
            ]
          },
          "metadata": {},
          "execution_count": 138
        }
      ]
    },
    {
      "cell_type": "code",
      "source": [
        "ytest"
      ],
      "metadata": {
        "colab": {
          "base_uri": "https://localhost:8080/"
        },
        "id": "8wXJCeQEueEQ",
        "outputId": "31f6a38f-94b2-48df-bb27-c4aa8b564f2c"
      },
      "execution_count": 139,
      "outputs": [
        {
          "output_type": "execute_result",
          "data": {
            "text/plain": [
              "array([0.54402731, 0.54870171, 0.55482215, 0.55277079, 0.5419087 ,\n",
              "       0.53831042, 0.53958831, 0.57728618, 0.59709353, 0.59911126,\n",
              "       0.60274317, 0.59615193, 0.59662273, 0.60210422, 0.59756433,\n",
              "       0.60207059, 0.60502992, 0.60667774, 0.6170354 , 0.63136126,\n",
              "       0.62423196, 0.62281955, 0.62285318, 0.62433285, 0.62658598,\n",
              "       0.6325719 , 0.63849057, 0.64952081, 0.65641471, 0.66515819,\n",
              "       0.66761309, 0.6626024 , 0.64992435, 0.64387117, 0.63388342,\n",
              "       0.65244651, 0.64309771, 0.66105548, 0.65241288, 0.63237013,\n",
              "       0.63358076, 0.63401794, 0.63960032, 0.63163029, 0.6421561 ,\n",
              "       0.64686413, 0.64091184, 0.65614568, 0.65880235, 0.66391393,\n",
              "       0.67070694, 0.68008937, 0.66636883, 0.65392618, 0.65217748,\n",
              "       0.6626024 , 0.62725855, 0.62083545, 0.6465951 , 0.63062143,\n",
              "       0.64672962, 0.64350125, 0.62611517, 0.63717904, 0.6416853 ,\n",
              "       0.64868009, 0.6229877 , 0.63882685, 0.62705678, 0.61340349,\n",
              "       0.61696814, 0.63566575, 0.64696502, 0.59739619, 0.57758884,\n",
              "       0.58491991, 0.6057025 , 0.6007927 , 0.58727393, 0.55263628,\n",
              "       0.54611229, 0.52785186, 0.54335473, 0.55048404, 0.52469076,\n",
              "       0.4948284 , 0.49415582, 0.4790565 , 0.486892  , 0.48561411,\n",
              "       0.5081454 , 0.503471  , 0.500209  , 0.52119336, 0.49385316,\n",
              "       0.48722829, 0.46627756, 0.47001035, 0.46674836, 0.46832892,\n",
              "       0.47455024, 0.4561553 , 0.45097646, 0.45813939, 0.44071968,\n",
              "       0.4270664 , 0.40655284, 0.39343761, 0.42820978, 0.42477964,\n",
              "       0.42504867, 0.43012662, 0.43073193, 0.37783386, 0.39824653,\n",
              "       0.39713678, 0.4066201 , 0.41522906, 0.41687687, 0.41179893,\n",
              "       0.40409794, 0.41442197, 0.42071056, 0.4238044 , 0.42703277,\n",
              "       0.41519544, 0.41728042, 0.41317771, 0.43019387, 0.42528407,\n",
              "       0.41983621, 0.45538183, 0.45938366, 0.45965269, 0.4755591 ,\n",
              "       0.48541234, 0.48561411, 0.47451661, 0.47273429, 0.46943866,\n",
              "       0.47434847, 0.47196082, 0.47404581, 0.47276791, 0.47448298,\n",
              "       0.47818215, 0.47492016, 0.48134325, 0.48558048, 0.48591677,\n",
              "       0.48773272, 0.48194857, 0.48806901, 0.49102834, 0.48995222,\n",
              "       0.48655572, 0.4797627 , 0.48114148, 0.50128512, 0.50804451,\n",
              "       0.51073481, 0.51752783, 0.52556511, 0.53195458, 0.52694389,\n",
              "       0.53242538, 0.55573013, 0.5421441 , 0.53437585, 0.52781824,\n",
              "       0.53346787, 0.53430859, 0.53844493, 0.54278304, 0.55213185,\n",
              "       0.55660447, 0.55774785, 0.56215322, 0.57257815, 0.57056042,\n",
              "       0.57432684, 0.56871084, 0.56844181, 0.56965244, 0.5697197 ,\n",
              "       0.58276767, 0.58522257, 0.5874757 , 0.59739619, 0.59632007,\n",
              "       0.58999786, 0.58670224, 0.58774473, 0.57449499, 0.60761934,\n",
              "       0.6030122 , 0.61175568, 0.60075907, 0.58185969, 0.58199421,\n",
              "       0.57466313, 0.56275854, 0.52421996, 0.53410682, 0.54170692,\n",
              "       0.53888211, 0.5352502 , 0.51537558, 0.52717929, 0.51433309,\n",
              "       0.50384091, 0.50152053, 0.499032  , 0.49617355, 0.4992674 ,\n",
              "       0.4884053 , 0.482453  , 0.50377365, 0.513526  , 0.52253852,\n",
              "       0.53911751, 0.5472893 , 0.55478852, 0.55270354, 0.55256902,\n",
              "       0.54782736, 0.55169467, 0.5670294 , 0.56507893, 0.57042591,\n",
              "       0.56813915, 0.56746657, 0.55734431, 0.57156928, 0.57136751,\n",
              "       0.56524707, 0.57745432, 0.58142252, 0.58707215, 0.58646684,\n",
              "       0.57230912, 0.57641183, 0.58310396, 0.5781269 , 0.58333936,\n",
              "       0.58976246, 0.58737481, 0.5835075 , 0.59127575, 0.58095171,\n",
              "       0.59652184, 0.60196971, 0.60139802, 0.59584927, 0.59827054,\n",
              "       0.60479452, 0.60176793, 0.61609379, 0.60059093, 0.58576063,\n",
              "       0.54984509, 0.56215322, 0.5690135 , 0.58377653, 0.57557111,\n",
              "       0.57385604, 0.60240688, 0.58148978, 0.57809327, 0.59410057,\n",
              "       0.60704765, 0.60708128, 0.61474864, 0.61414333, 0.58111986,\n",
              "       0.59406694, 0.58623143, 0.59083858, 0.60254139, 0.60163342,\n",
              "       0.59141027, 0.60314671, 0.61690089, 0.61683363, 0.61989385,\n",
              "       0.62840193, 0.65157216, 0.64987391, 0.63529583, 0.63916314,\n",
              "       0.64185344, 0.6488146 , 0.64272779, 0.63186569, 0.63519494,\n",
              "       0.63169755, 0.64296319, 0.63912951, 0.63553123, 0.65285006,\n",
              "       0.65493504, 0.63600204, 0.64225699, 0.66307321, 0.66324135,\n",
              "       0.65429609, 0.66314046, 0.67343087, 0.69401169, 0.69286831,\n",
              "       0.69101873, 0.68782399, 0.69088421, 0.69468426, 0.70847207,\n",
              "       0.70662248, 0.71745095, 0.7187961 , 0.72888474, 0.73719105,\n",
              "       0.71782087, 0.71771998, 0.73621581, 0.75995774, 0.76560737,\n",
              "       0.76436311, 0.76473302, 0.77209773, 0.77448537, 0.7814129 ,\n",
              "       0.78060581, 0.78904663, 0.78289257, 0.79338475, 0.797891  ,\n",
              "       0.79516707, 0.78474215, 0.78077395, 0.78000049, 0.7954361 ,\n",
              "       0.78844132, 0.80037953, 0.79839544, 0.78800414, 0.77216498,\n",
              "       0.77986598, 0.79277943, 0.810031  , 0.79728569, 0.80253178,\n",
              "       0.81023277, 0.81255315, 0.82496218, 0.84080133, 0.84265092,\n",
              "       0.84039779, 0.84133939, 0.83938892, 0.85472365, 0.85563163,\n",
              "       0.87459826, 0.87422835, 0.8800125 , 0.88717543, 0.90970671,\n",
              "       0.89988711, 0.90785713, 0.90311547, 0.91925729, 0.94091423,\n",
              "       0.94326824, 0.96556412, 0.951171  , 0.94666475, 0.95977997,\n",
              "       0.97151642, 0.9642526 , 0.96805265, 0.97319786, 0.97010401,\n",
              "       0.93862747, 0.96801903, 0.99038217, 0.98880161, 0.94051068,\n",
              "       0.93765223, 0.97191996, 0.98066345, 0.99330787, 0.97588816,\n",
              "       0.98099974, 0.97447575, 1.        , 0.99216449, 0.99243352,\n",
              "       0.9724244 , 0.9879609 , 0.97679614, 0.95241527, 0.90240927,\n",
              "       0.86844419, 0.88381255, 0.81948068])"
            ]
          },
          "metadata": {},
          "execution_count": 139
        }
      ]
    },
    {
      "cell_type": "code",
      "source": [
        "unscaled_y_test = scaler.inverse_transform(np.array(ytest).reshape(-1,1))"
      ],
      "metadata": {
        "id": "LMUQyyLgu0d0"
      },
      "execution_count": 140,
      "outputs": []
    },
    {
      "cell_type": "code",
      "source": [
        "test_predict.shape"
      ],
      "metadata": {
        "colab": {
          "base_uri": "https://localhost:8080/"
        },
        "id": "ig9rb8MSuj6u",
        "outputId": "ba82f898-0353-4c53-e9dc-c87ab33c1e8e"
      },
      "execution_count": 141,
      "outputs": [
        {
          "output_type": "execute_result",
          "data": {
            "text/plain": [
              "(403, 1)"
            ]
          },
          "metadata": {},
          "execution_count": 141
        }
      ]
    },
    {
      "cell_type": "code",
      "source": [
        ""
      ],
      "metadata": {
        "id": "IJXEmLItu83C"
      },
      "execution_count": 141,
      "outputs": []
    },
    {
      "cell_type": "code",
      "execution_count": 142,
      "metadata": {
        "colab": {
          "base_uri": "https://localhost:8080/"
        },
        "outputId": "5183711d-83c3-45be-bb6f-1b161835982f",
        "id": "KPMd8eqPvALJ"
      },
      "outputs": [
        {
          "output_type": "execute_result",
          "data": {
            "text/plain": [
              "1.4840744652972881"
            ]
          },
          "metadata": {},
          "execution_count": 142
        }
      ],
      "source": [
        "### Calculate RMSE performance metrics\n",
        "\n",
        "math.sqrt(mean_squared_error(unscaled_y_train,train_predict))"
      ]
    },
    {
      "cell_type": "code",
      "execution_count": 143,
      "metadata": {
        "colab": {
          "base_uri": "https://localhost:8080/"
        },
        "outputId": "eb8769aa-a883-4272-8fd2-65e8822b9ad2",
        "id": "mFufz0gSvALK"
      },
      "outputs": [
        {
          "output_type": "execute_result",
          "data": {
            "text/plain": [
              "4.512662564422719"
            ]
          },
          "metadata": {},
          "execution_count": 143
        }
      ],
      "source": [
        "### Test Data RMSE\n",
        "math.sqrt(mean_squared_error(unscaled_y_test,test_predict))"
      ]
    },
    {
      "cell_type": "code",
      "source": [
        ""
      ],
      "metadata": {
        "id": "QGPdL6QlvEgo"
      },
      "execution_count": 143,
      "outputs": []
    }
  ],
  "metadata": {
    "kernelspec": {
      "display_name": "Python 3",
      "language": "python",
      "name": "python3"
    },
    "language_info": {
      "codemirror_mode": {
        "name": "ipython",
        "version": 3
      },
      "file_extension": ".py",
      "mimetype": "text/x-python",
      "name": "python",
      "nbconvert_exporter": "python",
      "pygments_lexer": "ipython3",
      "version": "3.6.9"
    },
    "colab": {
      "name": "ClosePriceOnly.ipynb",
      "provenance": [],
      "include_colab_link": true
    }
  },
  "nbformat": 4,
  "nbformat_minor": 0
}