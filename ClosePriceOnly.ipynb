{
  "cells": [
    {
      "cell_type": "markdown",
      "metadata": {
        "id": "view-in-github",
        "colab_type": "text"
      },
      "source": [
        "<a href=\"https://colab.research.google.com/github/delpretemarcus/156StockClosingPricePrediction/blob/main/ClosePriceOnly.ipynb\" target=\"_parent\"><img src=\"https://colab.research.google.com/assets/colab-badge.svg\" alt=\"Open In Colab\"/></a>"
      ]
    },
    {
      "cell_type": "markdown",
      "metadata": {
        "id": "OkXCFN61XmVC"
      },
      "source": [
        "### Stock Market Prediction And Forecasting Using Stacked LSTM"
      ]
    },
    {
      "cell_type": "code",
      "execution_count": 45,
      "metadata": {
        "id": "Vj9qTab9XmVD"
      },
      "outputs": [],
      "source": [
        ""
      ]
    },
    {
      "cell_type": "code",
      "execution_count": 1,
      "metadata": {
        "id": "rtiZt-RkXmVE"
      },
      "outputs": [],
      "source": [
        ""
      ]
    },
    {
      "cell_type": "code",
      "execution_count": 2,
      "metadata": {
        "id": "OCZI7vauXmVF"
      },
      "outputs": [],
      "source": [
        "import pandas as pd\n",
        "import numpy as np"
      ]
    },
    {
      "cell_type": "code",
      "execution_count": 3,
      "metadata": {
        "id": "9o97588kXmVF"
      },
      "outputs": [],
      "source": [
        "\n",
        "aplurl = 'https://raw.githubusercontent.com/delpretemarcus/156StockClosingPricePrediction/main/HistoricalQuotes.csv'\n",
        "\n",
        "df = pd.read_csv(aplurl, index_col='Date')"
      ]
    },
    {
      "cell_type": "code",
      "execution_count": 4,
      "metadata": {
        "id": "fjabJ9xXXmVF"
      },
      "outputs": [],
      "source": [
        "#Data Cleaning --\n",
        "\n",
        "df.columns = ['Close', 'Volume', 'Open', 'High', 'Low']\n",
        "df.index = pd.to_datetime(df.index)\n",
        "df.sort_index()\n",
        "\n",
        "df.Close = df.Close.apply(lambda x: x[2:]).astype(np.double)\n",
        "df.Open = df.Open.apply(lambda x: x[2:]).astype(np.double)\n",
        "df.High = df.High.apply(lambda x: x[2:]).astype(np.double)\n",
        "df.Low = df.Low.apply(lambda x: x[2:]).astype(np.double)\n",
        "\n",
        "df = df.reindex(index=df.index[::-1])\n"
      ]
    },
    {
      "cell_type": "code",
      "execution_count": 4,
      "metadata": {
        "id": "GDnLuR7wXmVF"
      },
      "outputs": [],
      "source": [
        ""
      ]
    },
    {
      "cell_type": "code",
      "source": [
        ""
      ],
      "metadata": {
        "id": "sRmzsMpqYP4v"
      },
      "execution_count": 4,
      "outputs": []
    },
    {
      "cell_type": "code",
      "execution_count": 5,
      "metadata": {
        "colab": {
          "base_uri": "https://localhost:8080/",
          "height": 455
        },
        "id": "T8Nd_OQJXmVF",
        "outputId": "03ec5191-be75-43ed-ee86-d2d241b8b40a"
      },
      "outputs": [
        {
          "output_type": "execute_result",
          "data": {
            "text/plain": [
              "               Close     Volume      Open      High       Low\n",
              "Date                                                         \n",
              "2010-03-01   29.8557  137312041   29.3928   29.9286   29.3500\n",
              "2010-03-02   29.8357  141486282   29.9900   30.1186   29.6771\n",
              "2010-03-03   29.9043   92846488   29.8486   29.9814   29.7057\n",
              "2010-03-04   30.1014   89591907   29.8971   30.1314   29.8043\n",
              "2010-03-05   31.2786  224647427   30.7057   31.3857   30.6614\n",
              "...              ...        ...       ...       ...       ...\n",
              "2020-02-24  298.1800   55548830  297.2600  304.1800  289.2300\n",
              "2020-02-25  288.0800   57668360  300.9500  302.5300  286.1300\n",
              "2020-02-26  292.6500   49678430  286.5300  297.8800  286.5000\n",
              "2020-02-27  273.5200   80151380  281.1000  286.0000  272.9600\n",
              "2020-02-28  273.3600  106721200  257.2600  278.4100  256.3700\n",
              "\n",
              "[2518 rows x 5 columns]"
            ],
            "text/html": [
              "\n",
              "  <div id=\"df-7a47d87e-4567-4636-9eb4-b3f9d2fd3e25\">\n",
              "    <div class=\"colab-df-container\">\n",
              "      <div>\n",
              "<style scoped>\n",
              "    .dataframe tbody tr th:only-of-type {\n",
              "        vertical-align: middle;\n",
              "    }\n",
              "\n",
              "    .dataframe tbody tr th {\n",
              "        vertical-align: top;\n",
              "    }\n",
              "\n",
              "    .dataframe thead th {\n",
              "        text-align: right;\n",
              "    }\n",
              "</style>\n",
              "<table border=\"1\" class=\"dataframe\">\n",
              "  <thead>\n",
              "    <tr style=\"text-align: right;\">\n",
              "      <th></th>\n",
              "      <th>Close</th>\n",
              "      <th>Volume</th>\n",
              "      <th>Open</th>\n",
              "      <th>High</th>\n",
              "      <th>Low</th>\n",
              "    </tr>\n",
              "    <tr>\n",
              "      <th>Date</th>\n",
              "      <th></th>\n",
              "      <th></th>\n",
              "      <th></th>\n",
              "      <th></th>\n",
              "      <th></th>\n",
              "    </tr>\n",
              "  </thead>\n",
              "  <tbody>\n",
              "    <tr>\n",
              "      <th>2010-03-01</th>\n",
              "      <td>29.8557</td>\n",
              "      <td>137312041</td>\n",
              "      <td>29.3928</td>\n",
              "      <td>29.9286</td>\n",
              "      <td>29.3500</td>\n",
              "    </tr>\n",
              "    <tr>\n",
              "      <th>2010-03-02</th>\n",
              "      <td>29.8357</td>\n",
              "      <td>141486282</td>\n",
              "      <td>29.9900</td>\n",
              "      <td>30.1186</td>\n",
              "      <td>29.6771</td>\n",
              "    </tr>\n",
              "    <tr>\n",
              "      <th>2010-03-03</th>\n",
              "      <td>29.9043</td>\n",
              "      <td>92846488</td>\n",
              "      <td>29.8486</td>\n",
              "      <td>29.9814</td>\n",
              "      <td>29.7057</td>\n",
              "    </tr>\n",
              "    <tr>\n",
              "      <th>2010-03-04</th>\n",
              "      <td>30.1014</td>\n",
              "      <td>89591907</td>\n",
              "      <td>29.8971</td>\n",
              "      <td>30.1314</td>\n",
              "      <td>29.8043</td>\n",
              "    </tr>\n",
              "    <tr>\n",
              "      <th>2010-03-05</th>\n",
              "      <td>31.2786</td>\n",
              "      <td>224647427</td>\n",
              "      <td>30.7057</td>\n",
              "      <td>31.3857</td>\n",
              "      <td>30.6614</td>\n",
              "    </tr>\n",
              "    <tr>\n",
              "      <th>...</th>\n",
              "      <td>...</td>\n",
              "      <td>...</td>\n",
              "      <td>...</td>\n",
              "      <td>...</td>\n",
              "      <td>...</td>\n",
              "    </tr>\n",
              "    <tr>\n",
              "      <th>2020-02-24</th>\n",
              "      <td>298.1800</td>\n",
              "      <td>55548830</td>\n",
              "      <td>297.2600</td>\n",
              "      <td>304.1800</td>\n",
              "      <td>289.2300</td>\n",
              "    </tr>\n",
              "    <tr>\n",
              "      <th>2020-02-25</th>\n",
              "      <td>288.0800</td>\n",
              "      <td>57668360</td>\n",
              "      <td>300.9500</td>\n",
              "      <td>302.5300</td>\n",
              "      <td>286.1300</td>\n",
              "    </tr>\n",
              "    <tr>\n",
              "      <th>2020-02-26</th>\n",
              "      <td>292.6500</td>\n",
              "      <td>49678430</td>\n",
              "      <td>286.5300</td>\n",
              "      <td>297.8800</td>\n",
              "      <td>286.5000</td>\n",
              "    </tr>\n",
              "    <tr>\n",
              "      <th>2020-02-27</th>\n",
              "      <td>273.5200</td>\n",
              "      <td>80151380</td>\n",
              "      <td>281.1000</td>\n",
              "      <td>286.0000</td>\n",
              "      <td>272.9600</td>\n",
              "    </tr>\n",
              "    <tr>\n",
              "      <th>2020-02-28</th>\n",
              "      <td>273.3600</td>\n",
              "      <td>106721200</td>\n",
              "      <td>257.2600</td>\n",
              "      <td>278.4100</td>\n",
              "      <td>256.3700</td>\n",
              "    </tr>\n",
              "  </tbody>\n",
              "</table>\n",
              "<p>2518 rows × 5 columns</p>\n",
              "</div>\n",
              "      <button class=\"colab-df-convert\" onclick=\"convertToInteractive('df-7a47d87e-4567-4636-9eb4-b3f9d2fd3e25')\"\n",
              "              title=\"Convert this dataframe to an interactive table.\"\n",
              "              style=\"display:none;\">\n",
              "        \n",
              "  <svg xmlns=\"http://www.w3.org/2000/svg\" height=\"24px\"viewBox=\"0 0 24 24\"\n",
              "       width=\"24px\">\n",
              "    <path d=\"M0 0h24v24H0V0z\" fill=\"none\"/>\n",
              "    <path d=\"M18.56 5.44l.94 2.06.94-2.06 2.06-.94-2.06-.94-.94-2.06-.94 2.06-2.06.94zm-11 1L8.5 8.5l.94-2.06 2.06-.94-2.06-.94L8.5 2.5l-.94 2.06-2.06.94zm10 10l.94 2.06.94-2.06 2.06-.94-2.06-.94-.94-2.06-.94 2.06-2.06.94z\"/><path d=\"M17.41 7.96l-1.37-1.37c-.4-.4-.92-.59-1.43-.59-.52 0-1.04.2-1.43.59L10.3 9.45l-7.72 7.72c-.78.78-.78 2.05 0 2.83L4 21.41c.39.39.9.59 1.41.59.51 0 1.02-.2 1.41-.59l7.78-7.78 2.81-2.81c.8-.78.8-2.07 0-2.86zM5.41 20L4 18.59l7.72-7.72 1.47 1.35L5.41 20z\"/>\n",
              "  </svg>\n",
              "      </button>\n",
              "      \n",
              "  <style>\n",
              "    .colab-df-container {\n",
              "      display:flex;\n",
              "      flex-wrap:wrap;\n",
              "      gap: 12px;\n",
              "    }\n",
              "\n",
              "    .colab-df-convert {\n",
              "      background-color: #E8F0FE;\n",
              "      border: none;\n",
              "      border-radius: 50%;\n",
              "      cursor: pointer;\n",
              "      display: none;\n",
              "      fill: #1967D2;\n",
              "      height: 32px;\n",
              "      padding: 0 0 0 0;\n",
              "      width: 32px;\n",
              "    }\n",
              "\n",
              "    .colab-df-convert:hover {\n",
              "      background-color: #E2EBFA;\n",
              "      box-shadow: 0px 1px 2px rgba(60, 64, 67, 0.3), 0px 1px 3px 1px rgba(60, 64, 67, 0.15);\n",
              "      fill: #174EA6;\n",
              "    }\n",
              "\n",
              "    [theme=dark] .colab-df-convert {\n",
              "      background-color: #3B4455;\n",
              "      fill: #D2E3FC;\n",
              "    }\n",
              "\n",
              "    [theme=dark] .colab-df-convert:hover {\n",
              "      background-color: #434B5C;\n",
              "      box-shadow: 0px 1px 3px 1px rgba(0, 0, 0, 0.15);\n",
              "      filter: drop-shadow(0px 1px 2px rgba(0, 0, 0, 0.3));\n",
              "      fill: #FFFFFF;\n",
              "    }\n",
              "  </style>\n",
              "\n",
              "      <script>\n",
              "        const buttonEl =\n",
              "          document.querySelector('#df-7a47d87e-4567-4636-9eb4-b3f9d2fd3e25 button.colab-df-convert');\n",
              "        buttonEl.style.display =\n",
              "          google.colab.kernel.accessAllowed ? 'block' : 'none';\n",
              "\n",
              "        async function convertToInteractive(key) {\n",
              "          const element = document.querySelector('#df-7a47d87e-4567-4636-9eb4-b3f9d2fd3e25');\n",
              "          const dataTable =\n",
              "            await google.colab.kernel.invokeFunction('convertToInteractive',\n",
              "                                                     [key], {});\n",
              "          if (!dataTable) return;\n",
              "\n",
              "          const docLinkHtml = 'Like what you see? Visit the ' +\n",
              "            '<a target=\"_blank\" href=https://colab.research.google.com/notebooks/data_table.ipynb>data table notebook</a>'\n",
              "            + ' to learn more about interactive tables.';\n",
              "          element.innerHTML = '';\n",
              "          dataTable['output_type'] = 'display_data';\n",
              "          await google.colab.output.renderOutput(dataTable, element);\n",
              "          const docLink = document.createElement('div');\n",
              "          docLink.innerHTML = docLinkHtml;\n",
              "          element.appendChild(docLink);\n",
              "        }\n",
              "      </script>\n",
              "    </div>\n",
              "  </div>\n",
              "  "
            ]
          },
          "metadata": {},
          "execution_count": 5
        }
      ],
      "source": [
        "df"
      ]
    },
    {
      "cell_type": "code",
      "execution_count": 5,
      "metadata": {
        "id": "vRvn6eLbXmVG"
      },
      "outputs": [],
      "source": [
        ""
      ]
    },
    {
      "cell_type": "code",
      "execution_count": 6,
      "metadata": {
        "id": "bA5L0g42XmVG"
      },
      "outputs": [],
      "source": [
        "df1=df.reset_index()['Close']"
      ]
    },
    {
      "cell_type": "code",
      "execution_count": 7,
      "metadata": {
        "colab": {
          "base_uri": "https://localhost:8080/"
        },
        "id": "wG5OV2gGXmVH",
        "outputId": "1aa5003d-8808-4e9f-ac1b-8d8026c1a563"
      },
      "outputs": [
        {
          "output_type": "execute_result",
          "data": {
            "text/plain": [
              "0        29.8557\n",
              "1        29.8357\n",
              "2        29.9043\n",
              "3        30.1014\n",
              "4        31.2786\n",
              "          ...   \n",
              "2513    298.1800\n",
              "2514    288.0800\n",
              "2515    292.6500\n",
              "2516    273.5200\n",
              "2517    273.3600\n",
              "Name: Close, Length: 2518, dtype: float64"
            ]
          },
          "metadata": {},
          "execution_count": 7
        }
      ],
      "source": [
        "df1"
      ]
    },
    {
      "cell_type": "code",
      "execution_count": 8,
      "metadata": {
        "colab": {
          "base_uri": "https://localhost:8080/",
          "height": 282
        },
        "id": "gMekuFdQXmVH",
        "outputId": "843a3226-e4fe-430c-ac1e-ea41e73f3dca"
      },
      "outputs": [
        {
          "output_type": "execute_result",
          "data": {
            "text/plain": [
              "[<matplotlib.lines.Line2D at 0x7fdfac0855d0>]"
            ]
          },
          "metadata": {},
          "execution_count": 8
        },
        {
          "output_type": "display_data",
          "data": {
            "text/plain": [
              "<Figure size 432x288 with 1 Axes>"
            ],
            "image/png": "[encoded data removed]"
          },
          "metadata": {
            "needs_background": "light"
          }
        }
      ],
      "source": [
        "import matplotlib.pyplot as plt\n",
        "plt.plot(df1)"
      ]
    },
    {
      "cell_type": "code",
      "execution_count": 8,
      "metadata": {
        "id": "DjoyWbxFXmVH"
      },
      "outputs": [],
      "source": [
        ""
      ]
    },
    {
      "cell_type": "code",
      "execution_count": 8,
      "metadata": {
        "id": "qD8Ijw2JXmVH"
      },
      "outputs": [],
      "source": [
        ""
      ]
    },
    {
      "cell_type": "code",
      "execution_count": 9,
      "metadata": {
        "colab": {
          "base_uri": "https://localhost:8080/"
        },
        "id": "sHUWsxdQXmVH",
        "outputId": "58175d88-2941-4ef9-a9cc-2809a6f93a36"
      },
      "outputs": [
        {
          "output_type": "execute_result",
          "data": {
            "text/plain": [
              "0        29.8557\n",
              "1        29.8357\n",
              "2        29.9043\n",
              "3        30.1014\n",
              "4        31.2786\n",
              "          ...   \n",
              "2513    298.1800\n",
              "2514    288.0800\n",
              "2515    292.6500\n",
              "2516    273.5200\n",
              "2517    273.3600\n",
              "Name: Close, Length: 2518, dtype: float64"
            ]
          },
          "metadata": {},
          "execution_count": 9
        }
      ],
      "source": [
        "df1"
      ]
    },
    {
      "cell_type": "code",
      "execution_count": 10,
      "metadata": {
        "id": "jYKZpZpuXmVI"
      },
      "outputs": [],
      "source": [
        "from sklearn.preprocessing import MinMaxScaler\n",
        "scaler=MinMaxScaler(feature_range=(0,1))\n",
        "df1=scaler.fit_transform(np.array(df1).reshape(-1,1))"
      ]
    },
    {
      "cell_type": "code",
      "execution_count": 10,
      "metadata": {
        "id": "FRaPDiuKXmVI"
      },
      "outputs": [],
      "source": [
        ""
      ]
    },
    {
      "cell_type": "code",
      "execution_count": 11,
      "metadata": {
        "id": "3DBJxgf6XmVI"
      },
      "outputs": [],
      "source": [
        "##splitting dataset into train and test split\n",
        "training_size=int(len(df1)*0.80)\n",
        "test_size=len(df1)-training_size\n",
        "train_data,test_data=df1[0:training_size,:],df1[training_size:len(df1),:1]"
      ]
    },
    {
      "cell_type": "code",
      "execution_count": 12,
      "metadata": {
        "colab": {
          "base_uri": "https://localhost:8080/"
        },
        "id": "nl067NQIXmVI",
        "outputId": "08192d62-39c5-4eab-f6c7-38710a4fce14"
      },
      "outputs": [
        {
          "output_type": "execute_result",
          "data": {
            "text/plain": [
              "(2014, 504)"
            ]
          },
          "metadata": {},
          "execution_count": 12
        }
      ],
      "source": [
        "training_size,test_size"
      ]
    },
    {
      "cell_type": "code",
      "execution_count": 13,
      "metadata": {
        "id": "84BPAhVFXmVJ"
      },
      "outputs": [],
      "source": [
        "import numpy\n",
        "# convert an array of values into a dataset matrix\n",
        "def create_dataset(dataset, time_step=1):\n",
        "\tdataX, dataY = [], []\n",
        "\tfor i in range(len(dataset)-time_step-1):\n",
        "\t\ta = dataset[i:(i+time_step), 0]    \n",
        "\t\tdataX.append(a)\n",
        "\t\tdataY.append(dataset[i + time_step, 0])\n",
        "\treturn numpy.array(dataX), numpy.array(dataY)"
      ]
    },
    {
      "cell_type": "code",
      "execution_count": 14,
      "metadata": {
        "id": "FycpFz1fXmVJ"
      },
      "outputs": [],
      "source": [
        "# reshape into X=t,t+1,t+2,t+3... t+99 and Y=t+4\n",
        "time_step = 100\n",
        "X_train, y_train = create_dataset(train_data, time_step)\n",
        "X_test, ytest = create_dataset(test_data, time_step)"
      ]
    },
    {
      "cell_type": "code",
      "execution_count": 15,
      "metadata": {
        "id": "H9XoTsz9XmVK"
      },
      "outputs": [],
      "source": [
        "# reshape input to be [samples, time steps, features] which is required for LSTM\n",
        "X_train =X_train.reshape(X_train.shape[0],X_train.shape[1] , 1)\n",
        "X_test = X_test.reshape(X_test.shape[0],X_test.shape[1] , 1)"
      ]
    },
    {
      "cell_type": "code",
      "execution_count": 16,
      "metadata": {
        "id": "V1x9-jlMXmVK"
      },
      "outputs": [],
      "source": [
        "### Create the Stacked LSTM model\n",
        "from keras.models import Sequential\n",
        "from keras.layers import Dense\n",
        "from keras.layers import LSTM"
      ]
    },
    {
      "cell_type": "code",
      "execution_count": 35,
      "metadata": {
        "id": "DCqcVGVEXmVK"
      },
      "outputs": [],
      "source": [
        "model=Sequential()\n",
        "model.add(LSTM(50,return_sequences=True,input_shape=(100,1)))\n",
        "model.add(LSTM(50,return_sequences=True))\n",
        "model.add(LSTM(50))\n",
        "model.add(Dense(1))\n",
        "model.compile(loss='mean_squared_error',optimizer='adam')\n"
      ]
    },
    {
      "cell_type": "code",
      "execution_count": 36,
      "metadata": {
        "colab": {
          "base_uri": "https://localhost:8080/"
        },
        "id": "EGNAapVLXmVK",
        "outputId": "5be02642-ec9b-4d2b-9cce-9383c989575f"
      },
      "outputs": [
        {
          "output_type": "stream",
          "name": "stdout",
          "text": [
            "Model: \"sequential_2\"\n",
            "_________________________________________________________________\n",
            " Layer (type)                Output Shape              Param #   \n",
            "=================================================================\n",
            " lstm_6 (LSTM)               (None, 100, 50)           10400     \n",
            "                                                                 \n",
            " lstm_7 (LSTM)               (None, 100, 50)           20200     \n",
            "                                                                 \n",
            " lstm_8 (LSTM)               (None, 50)                20200     \n",
            "                                                                 \n",
            " dense_2 (Dense)             (None, 1)                 51        \n",
            "                                                                 \n",
            "=================================================================\n",
            "Total params: 50,851\n",
            "Trainable params: 50,851\n",
            "Non-trainable params: 0\n",
            "_________________________________________________________________\n"
          ]
        }
      ],
      "source": [
        "model.summary()"
      ]
    },
    {
      "cell_type": "code",
      "execution_count": 37,
      "metadata": {
        "colab": {
          "base_uri": "https://localhost:8080/"
        },
        "id": "VxEG3IB2XmVL",
        "outputId": "f816531b-d9d6-4fd0-acc5-3e73617d2dcd"
      },
      "outputs": [
        {
          "output_type": "stream",
          "name": "stdout",
          "text": [
            "Epoch 1/100\n",
            "30/30 [==============================] - 15s 250ms/step - loss: 0.0105 - val_loss: 0.0072\n",
            "Epoch 2/100\n",
            "30/30 [==============================] - 6s 198ms/step - loss: 3.9539e-04 - val_loss: 0.0020\n",
            "Epoch 3/100\n",
            "30/30 [==============================] - 6s 198ms/step - loss: 2.2490e-04 - val_loss: 0.0019\n",
            "Epoch 4/100\n",
            "30/30 [==============================] - 6s 199ms/step - loss: 2.1919e-04 - val_loss: 0.0021\n",
            "Epoch 5/100\n",
            "30/30 [==============================] - 6s 200ms/step - loss: 2.0904e-04 - val_loss: 0.0022\n",
            "Epoch 6/100\n",
            "30/30 [==============================] - 6s 197ms/step - loss: 2.0596e-04 - val_loss: 0.0021\n",
            "Epoch 7/100\n",
            "30/30 [==============================] - 6s 198ms/step - loss: 2.0142e-04 - val_loss: 0.0020\n",
            "Epoch 8/100\n",
            "30/30 [==============================] - 6s 196ms/step - loss: 1.9601e-04 - val_loss: 0.0023\n",
            "Epoch 9/100\n",
            "30/30 [==============================] - 6s 202ms/step - loss: 2.0325e-04 - val_loss: 0.0025\n",
            "Epoch 10/100\n",
            "30/30 [==============================] - 6s 200ms/step - loss: 1.9447e-04 - val_loss: 0.0021\n",
            "Epoch 11/100\n",
            "30/30 [==============================] - 6s 199ms/step - loss: 1.8701e-04 - val_loss: 0.0016\n",
            "Epoch 12/100\n",
            "30/30 [==============================] - 6s 201ms/step - loss: 1.7831e-04 - val_loss: 0.0016\n",
            "Epoch 13/100\n",
            "30/30 [==============================] - 6s 201ms/step - loss: 1.8573e-04 - val_loss: 0.0022\n",
            "Epoch 14/100\n",
            "30/30 [==============================] - 6s 198ms/step - loss: 1.7955e-04 - val_loss: 0.0014\n",
            "Epoch 15/100\n",
            "30/30 [==============================] - 6s 205ms/step - loss: 1.7171e-04 - val_loss: 0.0015\n",
            "Epoch 16/100\n",
            "30/30 [==============================] - 6s 202ms/step - loss: 1.6336e-04 - val_loss: 0.0013\n",
            "Epoch 17/100\n",
            "30/30 [==============================] - 6s 201ms/step - loss: 1.6239e-04 - val_loss: 0.0010\n",
            "Epoch 18/100\n",
            "30/30 [==============================] - 6s 194ms/step - loss: 1.6428e-04 - val_loss: 0.0012\n",
            "Epoch 19/100\n",
            "30/30 [==============================] - 6s 196ms/step - loss: 1.5598e-04 - val_loss: 9.4019e-04\n",
            "Epoch 20/100\n",
            "30/30 [==============================] - 6s 196ms/step - loss: 1.5421e-04 - val_loss: 9.0200e-04\n",
            "Epoch 21/100\n",
            "30/30 [==============================] - 6s 197ms/step - loss: 1.5823e-04 - val_loss: 0.0011\n",
            "Epoch 22/100\n",
            "30/30 [==============================] - 6s 201ms/step - loss: 1.4866e-04 - val_loss: 8.1922e-04\n",
            "Epoch 23/100\n",
            "30/30 [==============================] - 6s 198ms/step - loss: 1.4611e-04 - val_loss: 7.7967e-04\n",
            "Epoch 24/100\n",
            "30/30 [==============================] - 6s 201ms/step - loss: 1.4069e-04 - val_loss: 0.0013\n",
            "Epoch 25/100\n",
            "30/30 [==============================] - 6s 201ms/step - loss: 1.5639e-04 - val_loss: 0.0017\n",
            "Epoch 26/100\n",
            "30/30 [==============================] - 6s 201ms/step - loss: 1.6933e-04 - val_loss: 8.6670e-04\n",
            "Epoch 27/100\n",
            "30/30 [==============================] - 6s 207ms/step - loss: 1.3571e-04 - val_loss: 0.0012\n",
            "Epoch 28/100\n",
            "30/30 [==============================] - 6s 204ms/step - loss: 1.2849e-04 - val_loss: 0.0011\n",
            "Epoch 29/100\n",
            "30/30 [==============================] - 6s 209ms/step - loss: 1.2895e-04 - val_loss: 7.9614e-04\n",
            "Epoch 30/100\n",
            "30/30 [==============================] - 6s 210ms/step - loss: 1.2419e-04 - val_loss: 9.9149e-04\n",
            "Epoch 31/100\n",
            "30/30 [==============================] - 6s 210ms/step - loss: 1.2758e-04 - val_loss: 6.7332e-04\n",
            "Epoch 32/100\n",
            "30/30 [==============================] - 6s 213ms/step - loss: 1.2217e-04 - val_loss: 0.0012\n",
            "Epoch 33/100\n",
            "30/30 [==============================] - 7s 225ms/step - loss: 1.1957e-04 - val_loss: 0.0015\n",
            "Epoch 34/100\n",
            "30/30 [==============================] - 6s 200ms/step - loss: 1.1886e-04 - val_loss: 7.2649e-04\n",
            "Epoch 35/100\n",
            "30/30 [==============================] - 6s 199ms/step - loss: 1.2546e-04 - val_loss: 5.8972e-04\n",
            "Epoch 36/100\n",
            "30/30 [==============================] - 6s 197ms/step - loss: 1.1128e-04 - val_loss: 6.2609e-04\n",
            "Epoch 37/100\n",
            "30/30 [==============================] - 6s 186ms/step - loss: 1.1881e-04 - val_loss: 0.0013\n",
            "Epoch 38/100\n",
            "30/30 [==============================] - 6s 189ms/step - loss: 1.1074e-04 - val_loss: 9.5116e-04\n",
            "Epoch 39/100\n",
            "30/30 [==============================] - 6s 190ms/step - loss: 1.2523e-04 - val_loss: 5.9217e-04\n",
            "Epoch 40/100\n",
            "30/30 [==============================] - 6s 191ms/step - loss: 1.0506e-04 - val_loss: 7.2728e-04\n",
            "Epoch 41/100\n",
            "30/30 [==============================] - 6s 195ms/step - loss: 1.0372e-04 - val_loss: 7.1072e-04\n",
            "Epoch 42/100\n",
            "30/30 [==============================] - 6s 209ms/step - loss: 1.1543e-04 - val_loss: 6.7127e-04\n",
            "Epoch 43/100\n",
            "30/30 [==============================] - 7s 236ms/step - loss: 9.8714e-05 - val_loss: 5.9624e-04\n",
            "Epoch 44/100\n",
            "30/30 [==============================] - 6s 202ms/step - loss: 1.0852e-04 - val_loss: 5.4017e-04\n",
            "Epoch 45/100\n",
            "30/30 [==============================] - 6s 189ms/step - loss: 9.6317e-05 - val_loss: 5.2304e-04\n",
            "Epoch 46/100\n",
            "30/30 [==============================] - 6s 191ms/step - loss: 9.2400e-05 - val_loss: 7.8358e-04\n",
            "Epoch 47/100\n",
            "30/30 [==============================] - 6s 192ms/step - loss: 9.6757e-05 - val_loss: 6.5250e-04\n",
            "Epoch 48/100\n",
            "30/30 [==============================] - 6s 189ms/step - loss: 1.0294e-04 - val_loss: 4.9210e-04\n",
            "Epoch 49/100\n",
            "30/30 [==============================] - 6s 191ms/step - loss: 8.8581e-05 - val_loss: 4.9211e-04\n",
            "Epoch 50/100\n",
            "30/30 [==============================] - 6s 189ms/step - loss: 9.0497e-05 - val_loss: 5.0816e-04\n",
            "Epoch 51/100\n",
            "30/30 [==============================] - 6s 188ms/step - loss: 1.0263e-04 - val_loss: 5.0175e-04\n",
            "Epoch 52/100\n",
            "30/30 [==============================] - 6s 189ms/step - loss: 9.8739e-05 - val_loss: 0.0017\n",
            "Epoch 53/100\n",
            "30/30 [==============================] - 6s 189ms/step - loss: 1.1997e-04 - val_loss: 0.0011\n",
            "Epoch 54/100\n",
            "30/30 [==============================] - 6s 190ms/step - loss: 8.4663e-05 - val_loss: 5.1098e-04\n",
            "Epoch 55/100\n",
            "30/30 [==============================] - 6s 191ms/step - loss: 8.1187e-05 - val_loss: 4.8892e-04\n",
            "Epoch 56/100\n",
            "30/30 [==============================] - 6s 190ms/step - loss: 8.0052e-05 - val_loss: 7.9976e-04\n",
            "Epoch 57/100\n",
            "30/30 [==============================] - 6s 188ms/step - loss: 7.8836e-05 - val_loss: 4.4601e-04\n",
            "Epoch 58/100\n",
            "30/30 [==============================] - 6s 190ms/step - loss: 8.0841e-05 - val_loss: 0.0011\n",
            "Epoch 59/100\n",
            "30/30 [==============================] - 6s 190ms/step - loss: 7.6803e-05 - val_loss: 4.1351e-04\n",
            "Epoch 60/100\n",
            "30/30 [==============================] - 6s 198ms/step - loss: 7.6321e-05 - val_loss: 4.1955e-04\n",
            "Epoch 61/100\n",
            "30/30 [==============================] - 6s 197ms/step - loss: 9.9344e-05 - val_loss: 4.6687e-04\n",
            "Epoch 62/100\n",
            "30/30 [==============================] - 6s 190ms/step - loss: 7.7395e-05 - val_loss: 9.3151e-04\n",
            "Epoch 63/100\n",
            "30/30 [==============================] - 6s 195ms/step - loss: 7.3917e-05 - val_loss: 5.9873e-04\n",
            "Epoch 64/100\n",
            "30/30 [==============================] - 6s 194ms/step - loss: 6.7565e-05 - val_loss: 6.1351e-04\n",
            "Epoch 65/100\n",
            "30/30 [==============================] - 6s 192ms/step - loss: 7.1167e-05 - val_loss: 4.9513e-04\n",
            "Epoch 66/100\n",
            "30/30 [==============================] - 6s 198ms/step - loss: 7.1437e-05 - val_loss: 9.6050e-04\n",
            "Epoch 67/100\n",
            "30/30 [==============================] - 6s 195ms/step - loss: 8.0077e-05 - val_loss: 5.8014e-04\n",
            "Epoch 68/100\n",
            "30/30 [==============================] - 6s 201ms/step - loss: 7.3486e-05 - val_loss: 3.6618e-04\n",
            "Epoch 69/100\n",
            "30/30 [==============================] - 6s 196ms/step - loss: 7.0067e-05 - val_loss: 3.8873e-04\n",
            "Epoch 70/100\n",
            "30/30 [==============================] - 6s 193ms/step - loss: 6.4792e-05 - val_loss: 3.5123e-04\n",
            "Epoch 71/100\n",
            "30/30 [==============================] - 6s 192ms/step - loss: 6.1762e-05 - val_loss: 3.4102e-04\n",
            "Epoch 72/100\n",
            "30/30 [==============================] - 6s 193ms/step - loss: 6.1752e-05 - val_loss: 5.8437e-04\n",
            "Epoch 73/100\n",
            "30/30 [==============================] - 6s 193ms/step - loss: 6.2224e-05 - val_loss: 4.2862e-04\n",
            "Epoch 74/100\n",
            "30/30 [==============================] - 6s 193ms/step - loss: 5.6820e-05 - val_loss: 3.2462e-04\n",
            "Epoch 75/100\n",
            "30/30 [==============================] - 6s 194ms/step - loss: 6.0627e-05 - val_loss: 6.4739e-04\n",
            "Epoch 76/100\n",
            "30/30 [==============================] - 6s 196ms/step - loss: 6.4562e-05 - val_loss: 4.1128e-04\n",
            "Epoch 77/100\n",
            "30/30 [==============================] - 6s 191ms/step - loss: 5.2797e-05 - val_loss: 3.0608e-04\n",
            "Epoch 78/100\n",
            "30/30 [==============================] - 6s 190ms/step - loss: 5.4870e-05 - val_loss: 3.0411e-04\n",
            "Epoch 79/100\n",
            "30/30 [==============================] - 6s 199ms/step - loss: 5.6699e-05 - val_loss: 2.9543e-04\n",
            "Epoch 80/100\n",
            "30/30 [==============================] - 6s 193ms/step - loss: 5.3999e-05 - val_loss: 4.2277e-04\n",
            "Epoch 81/100\n",
            "30/30 [==============================] - 6s 191ms/step - loss: 5.2223e-05 - val_loss: 2.8552e-04\n",
            "Epoch 82/100\n",
            "30/30 [==============================] - 6s 191ms/step - loss: 5.0772e-05 - val_loss: 3.8539e-04\n",
            "Epoch 83/100\n",
            "30/30 [==============================] - 6s 190ms/step - loss: 4.9521e-05 - val_loss: 2.7269e-04\n",
            "Epoch 84/100\n",
            "30/30 [==============================] - 6s 190ms/step - loss: 4.9822e-05 - val_loss: 3.4483e-04\n",
            "Epoch 85/100\n",
            "30/30 [==============================] - 6s 188ms/step - loss: 4.9605e-05 - val_loss: 3.4694e-04\n",
            "Epoch 86/100\n",
            "30/30 [==============================] - 6s 191ms/step - loss: 4.5700e-05 - val_loss: 3.9071e-04\n",
            "Epoch 87/100\n",
            "30/30 [==============================] - 6s 191ms/step - loss: 4.8032e-05 - val_loss: 2.6041e-04\n",
            "Epoch 88/100\n",
            "30/30 [==============================] - 6s 190ms/step - loss: 6.4702e-05 - val_loss: 4.1520e-04\n",
            "Epoch 89/100\n",
            "30/30 [==============================] - 6s 191ms/step - loss: 4.9469e-05 - val_loss: 3.0900e-04\n",
            "Epoch 90/100\n",
            "30/30 [==============================] - 6s 191ms/step - loss: 4.4966e-05 - val_loss: 2.7523e-04\n",
            "Epoch 91/100\n",
            "30/30 [==============================] - 6s 192ms/step - loss: 4.6105e-05 - val_loss: 4.2213e-04\n",
            "Epoch 92/100\n",
            "30/30 [==============================] - 6s 190ms/step - loss: 4.7171e-05 - val_loss: 2.2863e-04\n",
            "Epoch 93/100\n",
            "30/30 [==============================] - 6s 190ms/step - loss: 4.6921e-05 - val_loss: 2.6808e-04\n",
            "Epoch 94/100\n",
            "30/30 [==============================] - 6s 191ms/step - loss: 4.2137e-05 - val_loss: 2.3705e-04\n",
            "Epoch 95/100\n",
            "30/30 [==============================] - 6s 190ms/step - loss: 4.9470e-05 - val_loss: 2.3663e-04\n",
            "Epoch 96/100\n",
            "30/30 [==============================] - 6s 191ms/step - loss: 4.2473e-05 - val_loss: 2.6726e-04\n",
            "Epoch 97/100\n",
            "30/30 [==============================] - 6s 192ms/step - loss: 4.0763e-05 - val_loss: 2.3997e-04\n",
            "Epoch 98/100\n",
            "30/30 [==============================] - 6s 191ms/step - loss: 4.9316e-05 - val_loss: 2.3183e-04\n",
            "Epoch 99/100\n",
            "30/30 [==============================] - 6s 190ms/step - loss: 3.9745e-05 - val_loss: 2.5201e-04\n",
            "Epoch 100/100\n",
            "30/30 [==============================] - 6s 189ms/step - loss: 3.8030e-05 - val_loss: 3.3355e-04\n"
          ]
        },
        {
          "output_type": "execute_result",
          "data": {
            "text/plain": [
              "<keras.callbacks.History at 0x7fdf2d24a5d0>"
            ]
          },
          "metadata": {},
          "execution_count": 37
        }
      ],
      "source": [
        "model.fit(X_train,y_train,validation_data=(X_test,ytest),epochs=100,batch_size=64,verbose=1)"
      ]
    },
    {
      "cell_type": "code",
      "execution_count": 38,
      "metadata": {
        "id": "-HwAlTnKXmVL"
      },
      "outputs": [],
      "source": [
        "### Lets Do the prediction and check performance metrics\n",
        "train_predict=model.predict(X_train)\n",
        "test_predict=model.predict(X_test)"
      ]
    },
    {
      "cell_type": "code",
      "execution_count": 39,
      "metadata": {
        "id": "lrVqKbiSXmVL"
      },
      "outputs": [],
      "source": [
        "##Transformback to original form\n",
        "train_predict=scaler.inverse_transform(train_predict)\n",
        "test_predict=scaler.inverse_transform(test_predict)"
      ]
    },
    {
      "cell_type": "code",
      "execution_count": 40,
      "metadata": {
        "colab": {
          "base_uri": "https://localhost:8080/"
        },
        "id": "Pu7jINe4XmVL",
        "outputId": "2e5ead7f-61fa-403f-fafb-02407f9f8cbe"
      },
      "outputs": [
        {
          "output_type": "execute_result",
          "data": {
            "text/plain": [
              "99.76887338294267"
            ]
          },
          "metadata": {},
          "execution_count": 40
        }
      ],
      "source": [
        "### Calculate RMSE performance metrics\n",
        "import math\n",
        "from sklearn.metrics import mean_squared_error\n",
        "math.sqrt(mean_squared_error(y_train,train_predict))"
      ]
    },
    {
      "cell_type": "code",
      "execution_count": 41,
      "metadata": {
        "colab": {
          "base_uri": "https://localhost:8080/"
        },
        "id": "ort_iDifXmVM",
        "outputId": "95c54274-6ba1-49ed-9685-219e4c368da8"
      },
      "outputs": [
        {
          "output_type": "execute_result",
          "data": {
            "text/plain": [
              "217.17822546974162"
            ]
          },
          "metadata": {},
          "execution_count": 41
        }
      ],
      "source": [
        "### Test Data RMSE\n",
        "math.sqrt(mean_squared_error(ytest,test_predict))"
      ]
    },
    {
      "cell_type": "code",
      "execution_count": 42,
      "metadata": {
        "colab": {
          "base_uri": "https://localhost:8080/",
          "height": 265
        },
        "id": "XwQFCdBAXmVM",
        "outputId": "c5d1e37c-e0b0-4f37-af6c-6cc549014ae8"
      },
      "outputs": [
        {
          "output_type": "display_data",
          "data": {
            "text/plain": [
              "<Figure size 432x288 with 1 Axes>"
            ],
            "image/png": "[encoded data removed]"
          },
          "metadata": {
            "needs_background": "light"
          }
        }
      ],
      "source": [
        "### Plotting \n",
        "# shift train predictions for plotting\n",
        "look_back=100\n",
        "trainPredictPlot = numpy.empty_like(df1)\n",
        "trainPredictPlot[:, :] = np.nan\n",
        "trainPredictPlot[look_back:len(train_predict)+look_back, :] = train_predict\n",
        "# shift test predictions for plotting\n",
        "testPredictPlot = numpy.empty_like(df1)\n",
        "testPredictPlot[:, :] = numpy.nan\n",
        "testPredictPlot[len(train_predict)+(look_back*2)+1:len(df1)-1, :] = test_predict\n",
        "# plot baseline and predictions\n",
        "plt.plot(scaler.inverse_transform(df1))\n",
        "plt.plot(trainPredictPlot)\n",
        "plt.plot(testPredictPlot)\n",
        "plt.show()"
      ]
    },
    {
      "cell_type": "code",
      "source": [
        "plt.plot(scaler.inverse_transform(df1)[len(train_predict)+(look_back*2)+1:len(df1)-1, :])\n",
        "plt.plot(test_predict)\n",
        "plt.show()"
      ],
      "metadata": {
        "colab": {
          "base_uri": "https://localhost:8080/",
          "height": 265
        },
        "id": "xB1Gj2--dpzh",
        "outputId": "84c57412-f6e6-4e9d-8ef3-6ecfab36d0b3"
      },
      "execution_count": 43,
      "outputs": [
        {
          "output_type": "display_data",
          "data": {
            "text/plain": [
              "<Figure size 432x288 with 1 Axes>"
            ],
            "image/png": "[encoded data removed]"
          },
          "metadata": {
            "needs_background": "light"
          }
        }
      ]
    },
    {
      "cell_type": "code",
      "source": [
        "#Consider Adding some stuff of actual dates for xaxis instead of \"days since\""
      ],
      "metadata": {
        "id": "518ZAggXjyMS"
      },
      "execution_count": 44,
      "outputs": []
    },
    {
      "cell_type": "code",
      "source": [
        "#Need to flesh out regardless"
      ],
      "metadata": {
        "id": "6cDiJY3Yj919"
      },
      "execution_count": 45,
      "outputs": []
    },
    {
      "cell_type": "code",
      "source": [
        ""
      ],
      "metadata": {
        "id": "wA1yFQSkl7X7"
      },
      "execution_count": 45,
      "outputs": []
    }
  ],
  "metadata": {
    "kernelspec": {
      "display_name": "Python 3",
      "language": "python",
      "name": "python3"
    },
    "language_info": {
      "codemirror_mode": {
        "name": "ipython",
        "version": 3
      },
      "file_extension": ".py",
      "mimetype": "text/x-python",
      "name": "python",
      "nbconvert_exporter": "python",
      "pygments_lexer": "ipython3",
      "version": "3.6.9"
    },
    "colab": {
      "name": "ClosePriceOnly.ipynb",
      "provenance": [],
      "include_colab_link": true
    }
  },
  "nbformat": 4,
  "nbformat_minor": 0
}