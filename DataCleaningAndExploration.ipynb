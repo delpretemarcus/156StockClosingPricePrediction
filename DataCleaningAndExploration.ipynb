{
  "nbformat": 4,
  "nbformat_minor": 0,
  "metadata": {
    "colab": {
      "name": "DataCleaningAndExploration.ipynb",
      "provenance": [],
      "authorship_tag": "ABX9TyPG7IAl9npRmOqo/ZicSbkd",
      "include_colab_link": true
    },
    "kernelspec": {
      "name": "python3",
      "display_name": "Python 3"
    },
    "language_info": {
      "name": "python"
    }
  },
  "cells": [
    {
      "cell_type": "markdown",
      "metadata": {
        "id": "view-in-github",
        "colab_type": "text"
      },
      "source": [
        "<a href=\"https://colab.research.google.com/github/delpretemarcus/156StockClosingPricePrediction/blob/main/DataCleaningAndExploration.ipynb\" target=\"_parent\"><img src=\"https://colab.research.google.com/assets/colab-badge.svg\" alt=\"Open In Colab\"/></a>"
      ]
    },
    {
      "cell_type": "code",
      "source": [
        "#Genuinely not sure which of these I use... Will trim as necessary\n",
        "import pandas as pd\n",
        "import numpy as np\n",
        "%matplotlib inline\n",
        "import matplotlib. pyplot as plt\n",
        "import matplotlib\n",
        "from sklearn.preprocessing import MinMaxScaler\n",
        "from keras.layers import LSTM, Dense, Dropout\n",
        "from sklearn.model_selection import TimeSeriesSplit\n",
        "from sklearn.metrics import mean_squared_error, r2_score\n",
        "import matplotlib. dates as mandates\n",
        "from sklearn.preprocessing import MinMaxScaler\n",
        "from sklearn import linear_model\n",
        "from keras.models import Sequential\n",
        "from keras.layers import Dense\n",
        "import keras.backend as K\n",
        "from keras.callbacks import EarlyStopping\n",
        "from keras.optimizers import adam_v2\n",
        "from keras.models import load_model\n",
        "from keras.layers import LSTM\n",
        "from keras.utils.vis_utils import plot_model"
      ],
      "metadata": {
        "id": "8wfJkkom5ks6"
      },
      "execution_count": 16,
      "outputs": []
    },
    {
      "cell_type": "code",
      "execution_count": 69,
      "metadata": {
        "id": "sXqsK-G8381q"
      },
      "outputs": [],
      "source": [
        "\n",
        "aplurl = 'https://raw.githubusercontent.com/delpretemarcus/156StockClosingPricePrediction/main/HistoricalQuotes.csv'\n",
        "\n",
        "df = pd.read_csv(aplurl, index_col='Date')"
      ]
    },
    {
      "cell_type": "code",
      "source": [
        "#Data Cleaning --\n",
        "\n",
        "df.columns = ['Close', 'Volume', 'Open', 'High', 'Low']\n",
        "df.index = pd.to_datetime(df.index)\n",
        "df.sort_index()\n",
        "\n",
        "df.Close = df.Close.apply(lambda x: x[2:]).astype(np.double)\n",
        "df.Open = df.Open.apply(lambda x: x[2:]).astype(np.double)\n",
        "df.High = df.High.apply(lambda x: x[2:]).astype(np.double)\n",
        "df.Low = df.Low.apply(lambda x: x[2:]).astype(np.double)\n"
      ],
      "metadata": {
        "id": "RicwLpic8IBd"
      },
      "execution_count": 120,
      "outputs": []
    },
    {
      "cell_type": "code",
      "source": [
        ""
      ],
      "metadata": {
        "id": "n8H3ngi75sd6"
      },
      "execution_count": 120,
      "outputs": []
    },
    {
      "cell_type": "code",
      "source": [
        ""
      ],
      "metadata": {
        "id": "cTmodYlc5wnP"
      },
      "execution_count": 120,
      "outputs": []
    },
    {
      "cell_type": "code",
      "source": [
        "df.keys()"
      ],
      "metadata": {
        "colab": {
          "base_uri": "https://localhost:8080/"
        },
        "id": "oR44Tf8oAZTS",
        "outputId": "ded75209-d3ad-4e87-e870-e7a22a92c1fd"
      },
      "execution_count": 30,
      "outputs": [
        {
          "output_type": "execute_result",
          "data": {
            "text/plain": [
              "Index([' Close/Last', ' Volume', ' Open', ' High', ' Low'], dtype='object')"
            ]
          },
          "metadata": {},
          "execution_count": 30
        }
      ]
    },
    {
      "cell_type": "code",
      "source": [
        ""
      ],
      "metadata": {
        "id": "CSbTVV4LBXGU"
      },
      "execution_count": 99,
      "outputs": []
    },
    {
      "cell_type": "code",
      "source": [
        "#Clean the data\n",
        "\n"
      ],
      "metadata": {
        "id": "uheOoT4ElGrN"
      },
      "execution_count": 71,
      "outputs": []
    },
    {
      "cell_type": "code",
      "source": [
        ""
      ],
      "metadata": {
        "id": "VQGUIVuOmTos"
      },
      "execution_count": 74,
      "outputs": []
    },
    {
      "cell_type": "code",
      "source": [
        ""
      ],
      "metadata": {
        "id": "RdQrBNBsmZq1"
      },
      "execution_count": 103,
      "outputs": []
    },
    {
      "cell_type": "code",
      "source": [
        ""
      ],
      "metadata": {
        "id": "9oaaPXlLoDx3"
      },
      "execution_count": 120,
      "outputs": []
    },
    {
      "cell_type": "markdown",
      "source": [
        ""
      ],
      "metadata": {
        "id": "k7So68fwt4V0"
      }
    },
    {
      "cell_type": "code",
      "source": [
        ""
      ],
      "metadata": {
        "id": "wXNpvvP_ohu2"
      },
      "execution_count": 120,
      "outputs": []
    },
    {
      "cell_type": "code",
      "source": [
        ""
      ],
      "metadata": {
        "id": "eZPTTAdrprpK"
      },
      "execution_count": 120,
      "outputs": []
    },
    {
      "cell_type": "code",
      "source": [
        "#Scaling\n",
        "features = ['Open', 'High', 'Low', 'Volume']\n",
        "scaler = MinMaxScaler()\n",
        "feature_transform = scaler.fit_transform(df[features])\n",
        "feature_transform= pd.DataFrame(columns=features, data=feature_transform, index=df.index)\n",
        "feature_transform.head()"
      ],
      "metadata": {
        "colab": {
          "base_uri": "https://localhost:8080/",
          "height": 238
        },
        "id": "BYrZKyzEp3fV",
        "outputId": "77806fc2-6a73-4b21-bdbc-34e517176eae"
      },
      "execution_count": 108,
      "outputs": [
        {
          "output_type": "execute_result",
          "data": {
            "text/plain": [
              "                Open      High       Low    Volume\n",
              "Date                                              \n",
              "2020-02-28  0.771523  0.834050  0.772861  0.211402\n",
              "2020-02-27  0.852242  0.859527  0.829120  0.152499\n",
              "2020-02-26  0.870627  0.899403  0.875036  0.084944\n",
              "2020-02-25  0.919451  0.915011  0.873782  0.102656\n",
              "2020-02-24  0.906957  0.920550  0.884294  0.097958"
            ],
            "text/html": [
              "\n",
              "  <div id=\"df-3cc1b20d-a45a-4177-8551-f3ca8f1488f8\">\n",
              "    <div class=\"colab-df-container\">\n",
              "      <div>\n",
              "<style scoped>\n",
              "    .dataframe tbody tr th:only-of-type {\n",
              "        vertical-align: middle;\n",
              "    }\n",
              "\n",
              "    .dataframe tbody tr th {\n",
              "        vertical-align: top;\n",
              "    }\n",
              "\n",
              "    .dataframe thead th {\n",
              "        text-align: right;\n",
              "    }\n",
              "</style>\n",
              "<table border=\"1\" class=\"dataframe\">\n",
              "  <thead>\n",
              "    <tr style=\"text-align: right;\">\n",
              "      <th></th>\n",
              "      <th>Open</th>\n",
              "      <th>High</th>\n",
              "      <th>Low</th>\n",
              "      <th>Volume</th>\n",
              "    </tr>\n",
              "    <tr>\n",
              "      <th>Date</th>\n",
              "      <th></th>\n",
              "      <th></th>\n",
              "      <th></th>\n",
              "      <th></th>\n",
              "    </tr>\n",
              "  </thead>\n",
              "  <tbody>\n",
              "    <tr>\n",
              "      <th>2020-02-28</th>\n",
              "      <td>0.771523</td>\n",
              "      <td>0.834050</td>\n",
              "      <td>0.772861</td>\n",
              "      <td>0.211402</td>\n",
              "    </tr>\n",
              "    <tr>\n",
              "      <th>2020-02-27</th>\n",
              "      <td>0.852242</td>\n",
              "      <td>0.859527</td>\n",
              "      <td>0.829120</td>\n",
              "      <td>0.152499</td>\n",
              "    </tr>\n",
              "    <tr>\n",
              "      <th>2020-02-26</th>\n",
              "      <td>0.870627</td>\n",
              "      <td>0.899403</td>\n",
              "      <td>0.875036</td>\n",
              "      <td>0.084944</td>\n",
              "    </tr>\n",
              "    <tr>\n",
              "      <th>2020-02-25</th>\n",
              "      <td>0.919451</td>\n",
              "      <td>0.915011</td>\n",
              "      <td>0.873782</td>\n",
              "      <td>0.102656</td>\n",
              "    </tr>\n",
              "    <tr>\n",
              "      <th>2020-02-24</th>\n",
              "      <td>0.906957</td>\n",
              "      <td>0.920550</td>\n",
              "      <td>0.884294</td>\n",
              "      <td>0.097958</td>\n",
              "    </tr>\n",
              "  </tbody>\n",
              "</table>\n",
              "</div>\n",
              "      <button class=\"colab-df-convert\" onclick=\"convertToInteractive('df-3cc1b20d-a45a-4177-8551-f3ca8f1488f8')\"\n",
              "              title=\"Convert this dataframe to an interactive table.\"\n",
              "              style=\"display:none;\">\n",
              "        \n",
              "  <svg xmlns=\"http://www.w3.org/2000/svg\" height=\"24px\"viewBox=\"0 0 24 24\"\n",
              "       width=\"24px\">\n",
              "    <path d=\"M0 0h24v24H0V0z\" fill=\"none\"/>\n",
              "    <path d=\"M18.56 5.44l.94 2.06.94-2.06 2.06-.94-2.06-.94-.94-2.06-.94 2.06-2.06.94zm-11 1L8.5 8.5l.94-2.06 2.06-.94-2.06-.94L8.5 2.5l-.94 2.06-2.06.94zm10 10l.94 2.06.94-2.06 2.06-.94-2.06-.94-.94-2.06-.94 2.06-2.06.94z\"/><path d=\"M17.41 7.96l-1.37-1.37c-.4-.4-.92-.59-1.43-.59-.52 0-1.04.2-1.43.59L10.3 9.45l-7.72 7.72c-.78.78-.78 2.05 0 2.83L4 21.41c.39.39.9.59 1.41.59.51 0 1.02-.2 1.41-.59l7.78-7.78 2.81-2.81c.8-.78.8-2.07 0-2.86zM5.41 20L4 18.59l7.72-7.72 1.47 1.35L5.41 20z\"/>\n",
              "  </svg>\n",
              "      </button>\n",
              "      \n",
              "  <style>\n",
              "    .colab-df-container {\n",
              "      display:flex;\n",
              "      flex-wrap:wrap;\n",
              "      gap: 12px;\n",
              "    }\n",
              "\n",
              "    .colab-df-convert {\n",
              "      background-color: #E8F0FE;\n",
              "      border: none;\n",
              "      border-radius: 50%;\n",
              "      cursor: pointer;\n",
              "      display: none;\n",
              "      fill: #1967D2;\n",
              "      height: 32px;\n",
              "      padding: 0 0 0 0;\n",
              "      width: 32px;\n",
              "    }\n",
              "\n",
              "    .colab-df-convert:hover {\n",
              "      background-color: #E2EBFA;\n",
              "      box-shadow: 0px 1px 2px rgba(60, 64, 67, 0.3), 0px 1px 3px 1px rgba(60, 64, 67, 0.15);\n",
              "      fill: #174EA6;\n",
              "    }\n",
              "\n",
              "    [theme=dark] .colab-df-convert {\n",
              "      background-color: #3B4455;\n",
              "      fill: #D2E3FC;\n",
              "    }\n",
              "\n",
              "    [theme=dark] .colab-df-convert:hover {\n",
              "      background-color: #434B5C;\n",
              "      box-shadow: 0px 1px 3px 1px rgba(0, 0, 0, 0.15);\n",
              "      filter: drop-shadow(0px 1px 2px rgba(0, 0, 0, 0.3));\n",
              "      fill: #FFFFFF;\n",
              "    }\n",
              "  </style>\n",
              "\n",
              "      <script>\n",
              "        const buttonEl =\n",
              "          document.querySelector('#df-3cc1b20d-a45a-4177-8551-f3ca8f1488f8 button.colab-df-convert');\n",
              "        buttonEl.style.display =\n",
              "          google.colab.kernel.accessAllowed ? 'block' : 'none';\n",
              "\n",
              "        async function convertToInteractive(key) {\n",
              "          const element = document.querySelector('#df-3cc1b20d-a45a-4177-8551-f3ca8f1488f8');\n",
              "          const dataTable =\n",
              "            await google.colab.kernel.invokeFunction('convertToInteractive',\n",
              "                                                     [key], {});\n",
              "          if (!dataTable) return;\n",
              "\n",
              "          const docLinkHtml = 'Like what you see? Visit the ' +\n",
              "            '<a target=\"_blank\" href=https://colab.research.google.com/notebooks/data_table.ipynb>data table notebook</a>'\n",
              "            + ' to learn more about interactive tables.';\n",
              "          element.innerHTML = '';\n",
              "          dataTable['output_type'] = 'display_data';\n",
              "          await google.colab.output.renderOutput(dataTable, element);\n",
              "          const docLink = document.createElement('div');\n",
              "          docLink.innerHTML = docLinkHtml;\n",
              "          element.appendChild(docLink);\n",
              "        }\n",
              "      </script>\n",
              "    </div>\n",
              "  </div>\n",
              "  "
            ]
          },
          "metadata": {},
          "execution_count": 108
        }
      ]
    },
    {
      "cell_type": "code",
      "source": [
        "#Splitting to Training set and Test set\n",
        "output_var = pd.DataFrame(df['Close'])\n",
        "timesplit= TimeSeriesSplit(n_splits=10)\n",
        "for train_index, test_index in timesplit.split(feature_transform):\n",
        "  X_train, X_test = feature_transform[:len(train_index)], feature_transform[len(train_index): (len(train_index)+len(test_index))]\n",
        "  y_train, y_test = output_var[:len(train_index)].values.ravel(), output_var[len(train_index): (len(train_index)+len(test_index))].values.ravel()\n"
      ],
      "metadata": {
        "id": "C9sh3iTRrH1l"
      },
      "execution_count": 109,
      "outputs": []
    },
    {
      "cell_type": "code",
      "source": [
        "#Process the data for LSTM\n",
        "trainX =np.array(X_train)\n",
        "testX =np.array(X_test)\n",
        "X_train = trainX.reshape(X_train.shape[0], 1, X_train.shape[1])\n",
        "X_test = testX.reshape(X_test.shape[0], 1, X_test.shape[1])"
      ],
      "metadata": {
        "id": "rcVtwBiJrkeH"
      },
      "execution_count": 110,
      "outputs": []
    },
    {
      "cell_type": "code",
      "source": [
        "#Building the LSTM Model\n",
        "lstm = Sequential()\n",
        "lstm.add(LSTM(32, input_shape=(1, trainX.shape[1]), activation='relu', return_sequences=False))\n",
        "lstm.add(Dense(1))\n",
        "lstm.compile(loss='mean_squared_error', optimizer='adam')\n",
        "plot_model(lstm, show_shapes=True, show_layer_names=True)"
      ],
      "metadata": {
        "colab": {
          "base_uri": "https://localhost:8080/",
          "height": 312
        },
        "id": "MI1ikEU2rozi",
        "outputId": "17b4b638-6dca-4dc3-9029-53f7ead15bf7"
      },
      "execution_count": 111,
      "outputs": [
        {
          "output_type": "execute_result",
          "data": {
            "text/plain": [
              "<IPython.core.display.Image object>"
            ],
            "image/png": "[encoded data removed]"
          },
          "metadata": {},
          "execution_count": 111
        }
      ]
    },
    {
      "cell_type": "code",
      "source": [
        "history=lstm.fit(X_train, y_train, epochs=100, batch_size=16, verbose=1, shuffle=False)\n"
      ],
      "metadata": {
        "colab": {
          "base_uri": "https://localhost:8080/"
        },
        "id": "4GOrmg21r2UM",
        "outputId": "3bdeb4db-6eb5-4ae9-ad3e-5955bca7bf25"
      },
      "execution_count": 117,
      "outputs": [
        {
          "output_type": "stream",
          "name": "stdout",
          "text": [
            "Epoch 1/100\n",
            "144/144 [==============================] - 1s 4ms/step - loss: 2.5593\n",
            "Epoch 2/100\n",
            "144/144 [==============================] - 1s 5ms/step - loss: 2.5254\n",
            "Epoch 3/100\n",
            "144/144 [==============================] - 1s 5ms/step - loss: 2.5626\n",
            "Epoch 4/100\n",
            "144/144 [==============================] - 1s 4ms/step - loss: 2.5644\n",
            "Epoch 5/100\n",
            "144/144 [==============================] - 1s 4ms/step - loss: 2.5517\n",
            "Epoch 6/100\n",
            "144/144 [==============================] - 1s 4ms/step - loss: 2.5350\n",
            "Epoch 7/100\n",
            "144/144 [==============================] - 1s 4ms/step - loss: 2.5165\n",
            "Epoch 8/100\n",
            "144/144 [==============================] - 1s 4ms/step - loss: 2.4974\n",
            "Epoch 9/100\n",
            "144/144 [==============================] - 1s 4ms/step - loss: 2.4784\n",
            "Epoch 10/100\n",
            "144/144 [==============================] - 1s 4ms/step - loss: 2.4596\n",
            "Epoch 11/100\n",
            "144/144 [==============================] - 1s 4ms/step - loss: 2.4413\n",
            "Epoch 12/100\n",
            "144/144 [==============================] - 1s 4ms/step - loss: 2.4237\n",
            "Epoch 13/100\n",
            "144/144 [==============================] - 1s 5ms/step - loss: 2.4068\n",
            "Epoch 14/100\n",
            "144/144 [==============================] - 0s 3ms/step - loss: 2.3906\n",
            "Epoch 15/100\n",
            "144/144 [==============================] - 0s 3ms/step - loss: 2.3751\n",
            "Epoch 16/100\n",
            "144/144 [==============================] - 0s 3ms/step - loss: 2.3604\n",
            "Epoch 17/100\n",
            "144/144 [==============================] - 0s 3ms/step - loss: 2.3463\n",
            "Epoch 18/100\n",
            "144/144 [==============================] - 0s 3ms/step - loss: 2.3330\n",
            "Epoch 19/100\n",
            "144/144 [==============================] - 0s 3ms/step - loss: 2.3203\n",
            "Epoch 20/100\n",
            "144/144 [==============================] - 0s 3ms/step - loss: 2.3082\n",
            "Epoch 21/100\n",
            "144/144 [==============================] - 0s 3ms/step - loss: 2.2967\n",
            "Epoch 22/100\n",
            "144/144 [==============================] - 0s 3ms/step - loss: 2.2858\n",
            "Epoch 23/100\n",
            "144/144 [==============================] - 0s 3ms/step - loss: 2.2754\n",
            "Epoch 24/100\n",
            "144/144 [==============================] - 0s 3ms/step - loss: 2.2655\n",
            "Epoch 25/100\n",
            "144/144 [==============================] - 0s 3ms/step - loss: 2.2560\n",
            "Epoch 26/100\n",
            "144/144 [==============================] - 0s 3ms/step - loss: 2.2467\n",
            "Epoch 27/100\n",
            "144/144 [==============================] - 0s 3ms/step - loss: 2.2381\n",
            "Epoch 28/100\n",
            "144/144 [==============================] - 0s 3ms/step - loss: 2.2304\n",
            "Epoch 29/100\n",
            "144/144 [==============================] - 0s 3ms/step - loss: 2.2222\n",
            "Epoch 30/100\n",
            "144/144 [==============================] - 0s 3ms/step - loss: 2.2147\n",
            "Epoch 31/100\n",
            "144/144 [==============================] - 0s 3ms/step - loss: 2.2080\n",
            "Epoch 32/100\n",
            "144/144 [==============================] - 0s 3ms/step - loss: 2.2007\n",
            "Epoch 33/100\n",
            "144/144 [==============================] - 0s 3ms/step - loss: 2.1944\n",
            "Epoch 34/100\n",
            "144/144 [==============================] - 0s 3ms/step - loss: 2.1880\n",
            "Epoch 35/100\n",
            "144/144 [==============================] - 0s 3ms/step - loss: 2.1815\n",
            "Epoch 36/100\n",
            "144/144 [==============================] - 0s 3ms/step - loss: 2.1757\n",
            "Epoch 37/100\n",
            "144/144 [==============================] - 0s 3ms/step - loss: 2.1703\n",
            "Epoch 38/100\n",
            "144/144 [==============================] - 0s 3ms/step - loss: 2.1647\n",
            "Epoch 39/100\n",
            "144/144 [==============================] - 0s 3ms/step - loss: 2.1593\n",
            "Epoch 40/100\n",
            "144/144 [==============================] - 0s 3ms/step - loss: 2.1537\n",
            "Epoch 41/100\n",
            "144/144 [==============================] - 0s 3ms/step - loss: 2.1490\n",
            "Epoch 42/100\n",
            "144/144 [==============================] - 0s 3ms/step - loss: 2.1436\n",
            "Epoch 43/100\n",
            "144/144 [==============================] - 0s 3ms/step - loss: 2.1392\n",
            "Epoch 44/100\n",
            "144/144 [==============================] - 0s 3ms/step - loss: 2.1344\n",
            "Epoch 45/100\n",
            "144/144 [==============================] - 0s 3ms/step - loss: 2.1298\n",
            "Epoch 46/100\n",
            "144/144 [==============================] - 0s 3ms/step - loss: 2.1249\n",
            "Epoch 47/100\n",
            "144/144 [==============================] - 0s 3ms/step - loss: 2.1208\n",
            "Epoch 48/100\n",
            "144/144 [==============================] - 0s 3ms/step - loss: 2.1164\n",
            "Epoch 49/100\n",
            "144/144 [==============================] - 0s 3ms/step - loss: 2.1120\n",
            "Epoch 50/100\n",
            "144/144 [==============================] - 0s 3ms/step - loss: 2.1078\n",
            "Epoch 51/100\n",
            "144/144 [==============================] - 0s 3ms/step - loss: 2.1035\n",
            "Epoch 52/100\n",
            "144/144 [==============================] - 0s 3ms/step - loss: 2.0994\n",
            "Epoch 53/100\n",
            "144/144 [==============================] - 0s 3ms/step - loss: 2.0949\n",
            "Epoch 54/100\n",
            "144/144 [==============================] - 0s 3ms/step - loss: 2.0912\n",
            "Epoch 55/100\n",
            "144/144 [==============================] - 0s 3ms/step - loss: 2.0872\n",
            "Epoch 56/100\n",
            "144/144 [==============================] - 0s 3ms/step - loss: 2.0828\n",
            "Epoch 57/100\n",
            "144/144 [==============================] - 0s 3ms/step - loss: 2.0793\n",
            "Epoch 58/100\n",
            "144/144 [==============================] - 0s 3ms/step - loss: 2.0753\n",
            "Epoch 59/100\n",
            "144/144 [==============================] - 1s 5ms/step - loss: 2.0714\n",
            "Epoch 60/100\n",
            "144/144 [==============================] - 1s 6ms/step - loss: 2.0675\n",
            "Epoch 61/100\n",
            "144/144 [==============================] - 0s 3ms/step - loss: 2.0633\n",
            "Epoch 62/100\n",
            "144/144 [==============================] - 0s 3ms/step - loss: 2.0599\n",
            "Epoch 63/100\n",
            "144/144 [==============================] - 0s 3ms/step - loss: 2.0560\n",
            "Epoch 64/100\n",
            "144/144 [==============================] - 0s 3ms/step - loss: 2.0522\n",
            "Epoch 65/100\n",
            "144/144 [==============================] - 0s 3ms/step - loss: 2.0484\n",
            "Epoch 66/100\n",
            "144/144 [==============================] - 0s 3ms/step - loss: 2.0446\n",
            "Epoch 67/100\n",
            "144/144 [==============================] - 0s 3ms/step - loss: 2.0409\n",
            "Epoch 68/100\n",
            "144/144 [==============================] - 0s 3ms/step - loss: 2.0371\n",
            "Epoch 69/100\n",
            "144/144 [==============================] - 0s 3ms/step - loss: 2.0334\n",
            "Epoch 70/100\n",
            "144/144 [==============================] - 0s 3ms/step - loss: 2.0297\n",
            "Epoch 71/100\n",
            "144/144 [==============================] - 0s 3ms/step - loss: 2.0257\n",
            "Epoch 72/100\n",
            "144/144 [==============================] - 0s 3ms/step - loss: 2.0223\n",
            "Epoch 73/100\n",
            "144/144 [==============================] - 0s 3ms/step - loss: 2.0186\n",
            "Epoch 74/100\n",
            "144/144 [==============================] - 0s 2ms/step - loss: 2.0149\n",
            "Epoch 75/100\n",
            "144/144 [==============================] - 0s 3ms/step - loss: 2.0112\n",
            "Epoch 76/100\n",
            "144/144 [==============================] - 0s 2ms/step - loss: 2.0076\n",
            "Epoch 77/100\n",
            "144/144 [==============================] - 0s 3ms/step - loss: 2.0039\n",
            "Epoch 78/100\n",
            "144/144 [==============================] - 0s 3ms/step - loss: 2.0003\n",
            "Epoch 79/100\n",
            "144/144 [==============================] - 0s 3ms/step - loss: 1.9966\n",
            "Epoch 80/100\n",
            "144/144 [==============================] - 0s 3ms/step - loss: 1.9930\n",
            "Epoch 81/100\n",
            "144/144 [==============================] - 0s 3ms/step - loss: 1.9891\n",
            "Epoch 82/100\n",
            "144/144 [==============================] - 0s 3ms/step - loss: 1.9855\n",
            "Epoch 83/100\n",
            "144/144 [==============================] - 0s 3ms/step - loss: 1.9823\n",
            "Epoch 84/100\n",
            "144/144 [==============================] - 0s 3ms/step - loss: 1.9786\n",
            "Epoch 85/100\n",
            "144/144 [==============================] - 0s 3ms/step - loss: 1.9750\n",
            "Epoch 86/100\n",
            "144/144 [==============================] - 0s 3ms/step - loss: 1.9714\n",
            "Epoch 87/100\n",
            "144/144 [==============================] - 0s 3ms/step - loss: 1.9678\n",
            "Epoch 88/100\n",
            "144/144 [==============================] - 0s 3ms/step - loss: 1.9643\n",
            "Epoch 89/100\n",
            "144/144 [==============================] - 0s 3ms/step - loss: 1.9607\n",
            "Epoch 90/100\n",
            "144/144 [==============================] - 0s 3ms/step - loss: 1.9571\n",
            "Epoch 91/100\n",
            "144/144 [==============================] - 0s 3ms/step - loss: 1.9533\n",
            "Epoch 92/100\n",
            "144/144 [==============================] - 0s 3ms/step - loss: 1.9501\n",
            "Epoch 93/100\n",
            "144/144 [==============================] - 0s 3ms/step - loss: 1.9465\n",
            "Epoch 94/100\n",
            "144/144 [==============================] - 0s 3ms/step - loss: 1.9430\n",
            "Epoch 95/100\n",
            "144/144 [==============================] - 0s 3ms/step - loss: 1.9394\n",
            "Epoch 96/100\n",
            "144/144 [==============================] - 0s 3ms/step - loss: 1.9359\n",
            "Epoch 97/100\n",
            "144/144 [==============================] - 0s 3ms/step - loss: 1.9324\n",
            "Epoch 98/100\n",
            "144/144 [==============================] - 0s 3ms/step - loss: 1.9289\n",
            "Epoch 99/100\n",
            "144/144 [==============================] - 0s 3ms/step - loss: 1.9253\n",
            "Epoch 100/100\n",
            "144/144 [==============================] - 0s 3ms/step - loss: 1.9218\n"
          ]
        }
      ]
    },
    {
      "cell_type": "code",
      "source": [
        "y_pred = lstm.predict(X_test)"
      ],
      "metadata": {
        "id": "3WwnERYhr7nq"
      },
      "execution_count": 118,
      "outputs": []
    },
    {
      "cell_type": "code",
      "source": [
        "plt.plot(y_test, label='True Val')\n",
        "plt.plot(y_pred, label='Predicted')\n",
        "plt.title('Prediction by LSTM')\n",
        "plt.xlabel('Time Scale')\n",
        "plt.ylabel('Scaled USD')\n",
        "plt.legend()\n",
        "plt.show()"
      ],
      "metadata": {
        "colab": {
          "base_uri": "https://localhost:8080/",
          "height": 295
        },
        "id": "7HrtvendsSsY",
        "outputId": "d136851a-e184-4db9-c166-c6bd6abe96e4"
      },
      "execution_count": 119,
      "outputs": [
        {
          "output_type": "display_data",
          "data": {
            "text/plain": [
              "<Figure size 432x288 with 1 Axes>"
            ],
            "image/png": "[encoded data removed]"
          },
          "metadata": {
            "needs_background": "light"
          }
        }
      ]
    },
    {
      "cell_type": "code",
      "source": [
        "#Maybe add Covid cases... / general covid sentiment. Seems to be quite poor indicator as covid begins"
      ],
      "metadata": {
        "id": "-5jNtYYqsUmN"
      },
      "execution_count": 120,
      "outputs": []
    },
    {
      "cell_type": "code",
      "source": [
        ""
      ],
      "metadata": {
        "id": "zxti4wC4trcg"
      },
      "execution_count": null,
      "outputs": []
    }
  ]
}