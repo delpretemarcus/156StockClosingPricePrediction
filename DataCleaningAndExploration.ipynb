{
  "nbformat": 4,
  "nbformat_minor": 0,
  "metadata": {
    "colab": {
      "name": "DataCleaningAndExploration.ipynb",
      "provenance": [],
      "authorship_tag": "ABX9TyOGC9C4pymS5QI4S9Q5t9tu",
      "include_colab_link": true
    },
    "kernelspec": {
      "name": "python3",
      "display_name": "Python 3"
    },
    "language_info": {
      "name": "python"
    }
  },
  "cells": [
    {
      "cell_type": "markdown",
      "metadata": {
        "id": "view-in-github",
        "colab_type": "text"
      },
      "source": [
        "<a href=\"https://colab.research.google.com/github/delpretemarcus/156StockClosingPricePrediction/blob/main/DataCleaningAndExploration.ipynb\" target=\"_parent\"><img src=\"https://colab.research.google.com/assets/colab-badge.svg\" alt=\"Open In Colab\"/></a>"
      ]
    },
    {
      "cell_type": "code",
      "source": [
        "#Genuinely not sure which of these I use... Will trim as necessary\n",
        "import pandas as pd\n",
        "import numpy as np\n",
        "%matplotlib inline\n",
        "import matplotlib.pyplot as plt\n",
        "import matplotlib\n",
        "from sklearn.preprocessing import MinMaxScaler\n",
        "from keras.layers import LSTM, Dense\n",
        "from sklearn.model_selection import TimeSeriesSplit\n",
        "from sklearn.metrics import mean_squared_error\n",
        "from sklearn.preprocessing import MinMaxScaler\n",
        "from sklearn import linear_model\n",
        "from keras.models import Sequential\n",
        "from keras.optimizers import adam_v2\n",
        "from keras.utils.vis_utils import plot_model"
      ],
      "metadata": {
        "id": "8wfJkkom5ks6"
      },
      "execution_count": null,
      "outputs": []
    },
    {
      "cell_type": "code",
      "execution_count": null,
      "metadata": {
        "id": "sXqsK-G8381q"
      },
      "outputs": [],
      "source": [
        "\n",
        "aplurl = 'https://raw.githubusercontent.com/delpretemarcus/156StockClosingPricePrediction/main/HistoricalQuotes.csv'\n",
        "\n",
        "df = pd.read_csv(aplurl, index_col='Date')"
      ]
    },
    {
      "cell_type": "code",
      "source": [
        "#Data Cleaning --\n",
        "\n",
        "df.columns = ['Close', 'Volume', 'Open', 'High', 'Low']\n",
        "df.index = pd.to_datetime(df.index)\n",
        "df.sort_index()\n",
        "\n",
        "df.Close = df.Close.apply(lambda x: x[2:]).astype(np.double)\n",
        "df.Open = df.Open.apply(lambda x: x[2:]).astype(np.double)\n",
        "df.High = df.High.apply(lambda x: x[2:]).astype(np.double)\n",
        "df.Low = df.Low.apply(lambda x: x[2:]).astype(np.double)\n",
        "\n",
        "\n",
        "df = df.reindex(index=df.index[::-1])\n"
      ],
      "metadata": {
        "id": "RicwLpic8IBd"
      },
      "execution_count": null,
      "outputs": []
    },
    {
      "cell_type": "code",
      "source": [
        "#Scaling\n",
        "features = ['Open', 'High', 'Low', 'Volume']\n",
        "scaler = MinMaxScaler()\n",
        "with_transform = scaler.fit_transform(df[features])\n",
        "with_transform= pd.DataFrame(columns=features, data=with_transform, index=df.index)\n",
        "with_transform.head()"
      ],
      "metadata": {
        "colab": {
          "base_uri": "https://localhost:8080/",
          "height": 238
        },
        "id": "BYrZKyzEp3fV",
        "outputId": "d6f96670-871c-4ecf-f263-9d4934fc6745"
      },
      "execution_count": null,
      "outputs": [
        {
          "output_type": "execute_result",
          "data": {
            "text/plain": [
              "                Open      High       Low    Volume\n",
              "Date                                              \n",
              "2010-03-01  0.000000  0.000000  0.003004  0.279219\n",
              "2010-03-02  0.002022  0.000638  0.004113  0.288472\n",
              "2010-03-03  0.001543  0.000177  0.004210  0.180643\n",
              "2010-03-04  0.001707  0.000681  0.004544  0.173428\n",
              "2010-03-05  0.004445  0.004891  0.007451  0.472832"
            ],
            "text/html": [
              "\n",
              "  <div id=\"df-e2f1fd94-7cd0-4de7-bcfe-be3f50c6d797\">\n",
              "    <div class=\"colab-df-container\">\n",
              "      <div>\n",
              "<style scoped>\n",
              "    .dataframe tbody tr th:only-of-type {\n",
              "        vertical-align: middle;\n",
              "    }\n",
              "\n",
              "    .dataframe tbody tr th {\n",
              "        vertical-align: top;\n",
              "    }\n",
              "\n",
              "    .dataframe thead th {\n",
              "        text-align: right;\n",
              "    }\n",
              "</style>\n",
              "<table border=\"1\" class=\"dataframe\">\n",
              "  <thead>\n",
              "    <tr style=\"text-align: right;\">\n",
              "      <th></th>\n",
              "      <th>Open</th>\n",
              "      <th>High</th>\n",
              "      <th>Low</th>\n",
              "      <th>Volume</th>\n",
              "    </tr>\n",
              "    <tr>\n",
              "      <th>Date</th>\n",
              "      <th></th>\n",
              "      <th></th>\n",
              "      <th></th>\n",
              "      <th></th>\n",
              "    </tr>\n",
              "  </thead>\n",
              "  <tbody>\n",
              "    <tr>\n",
              "      <th>2010-03-01</th>\n",
              "      <td>0.000000</td>\n",
              "      <td>0.000000</td>\n",
              "      <td>0.003004</td>\n",
              "      <td>0.279219</td>\n",
              "    </tr>\n",
              "    <tr>\n",
              "      <th>2010-03-02</th>\n",
              "      <td>0.002022</td>\n",
              "      <td>0.000638</td>\n",
              "      <td>0.004113</td>\n",
              "      <td>0.288472</td>\n",
              "    </tr>\n",
              "    <tr>\n",
              "      <th>2010-03-03</th>\n",
              "      <td>0.001543</td>\n",
              "      <td>0.000177</td>\n",
              "      <td>0.004210</td>\n",
              "      <td>0.180643</td>\n",
              "    </tr>\n",
              "    <tr>\n",
              "      <th>2010-03-04</th>\n",
              "      <td>0.001707</td>\n",
              "      <td>0.000681</td>\n",
              "      <td>0.004544</td>\n",
              "      <td>0.173428</td>\n",
              "    </tr>\n",
              "    <tr>\n",
              "      <th>2010-03-05</th>\n",
              "      <td>0.004445</td>\n",
              "      <td>0.004891</td>\n",
              "      <td>0.007451</td>\n",
              "      <td>0.472832</td>\n",
              "    </tr>\n",
              "  </tbody>\n",
              "</table>\n",
              "</div>\n",
              "      <button class=\"colab-df-convert\" onclick=\"convertToInteractive('df-e2f1fd94-7cd0-4de7-bcfe-be3f50c6d797')\"\n",
              "              title=\"Convert this dataframe to an interactive table.\"\n",
              "              style=\"display:none;\">\n",
              "        \n",
              "  <svg xmlns=\"http://www.w3.org/2000/svg\" height=\"24px\"viewBox=\"0 0 24 24\"\n",
              "       width=\"24px\">\n",
              "    <path d=\"M0 0h24v24H0V0z\" fill=\"none\"/>\n",
              "    <path d=\"M18.56 5.44l.94 2.06.94-2.06 2.06-.94-2.06-.94-.94-2.06-.94 2.06-2.06.94zm-11 1L8.5 8.5l.94-2.06 2.06-.94-2.06-.94L8.5 2.5l-.94 2.06-2.06.94zm10 10l.94 2.06.94-2.06 2.06-.94-2.06-.94-.94-2.06-.94 2.06-2.06.94z\"/><path d=\"M17.41 7.96l-1.37-1.37c-.4-.4-.92-.59-1.43-.59-.52 0-1.04.2-1.43.59L10.3 9.45l-7.72 7.72c-.78.78-.78 2.05 0 2.83L4 21.41c.39.39.9.59 1.41.59.51 0 1.02-.2 1.41-.59l7.78-7.78 2.81-2.81c.8-.78.8-2.07 0-2.86zM5.41 20L4 18.59l7.72-7.72 1.47 1.35L5.41 20z\"/>\n",
              "  </svg>\n",
              "      </button>\n",
              "      \n",
              "  <style>\n",
              "    .colab-df-container {\n",
              "      display:flex;\n",
              "      flex-wrap:wrap;\n",
              "      gap: 12px;\n",
              "    }\n",
              "\n",
              "    .colab-df-convert {\n",
              "      background-color: #E8F0FE;\n",
              "      border: none;\n",
              "      border-radius: 50%;\n",
              "      cursor: pointer;\n",
              "      display: none;\n",
              "      fill: #1967D2;\n",
              "      height: 32px;\n",
              "      padding: 0 0 0 0;\n",
              "      width: 32px;\n",
              "    }\n",
              "\n",
              "    .colab-df-convert:hover {\n",
              "      background-color: #E2EBFA;\n",
              "      box-shadow: 0px 1px 2px rgba(60, 64, 67, 0.3), 0px 1px 3px 1px rgba(60, 64, 67, 0.15);\n",
              "      fill: #174EA6;\n",
              "    }\n",
              "\n",
              "    [theme=dark] .colab-df-convert {\n",
              "      background-color: #3B4455;\n",
              "      fill: #D2E3FC;\n",
              "    }\n",
              "\n",
              "    [theme=dark] .colab-df-convert:hover {\n",
              "      background-color: #434B5C;\n",
              "      box-shadow: 0px 1px 3px 1px rgba(0, 0, 0, 0.15);\n",
              "      filter: drop-shadow(0px 1px 2px rgba(0, 0, 0, 0.3));\n",
              "      fill: #FFFFFF;\n",
              "    }\n",
              "  </style>\n",
              "\n",
              "      <script>\n",
              "        const buttonEl =\n",
              "          document.querySelector('#df-e2f1fd94-7cd0-4de7-bcfe-be3f50c6d797 button.colab-df-convert');\n",
              "        buttonEl.style.display =\n",
              "          google.colab.kernel.accessAllowed ? 'block' : 'none';\n",
              "\n",
              "        async function convertToInteractive(key) {\n",
              "          const element = document.querySelector('#df-e2f1fd94-7cd0-4de7-bcfe-be3f50c6d797');\n",
              "          const dataTable =\n",
              "            await google.colab.kernel.invokeFunction('convertToInteractive',\n",
              "                                                     [key], {});\n",
              "          if (!dataTable) return;\n",
              "\n",
              "          const docLinkHtml = 'Like what you see? Visit the ' +\n",
              "            '<a target=\"_blank\" href=https://colab.research.google.com/notebooks/data_table.ipynb>data table notebook</a>'\n",
              "            + ' to learn more about interactive tables.';\n",
              "          element.innerHTML = '';\n",
              "          dataTable['output_type'] = 'display_data';\n",
              "          await google.colab.output.renderOutput(dataTable, element);\n",
              "          const docLink = document.createElement('div');\n",
              "          docLink.innerHTML = docLinkHtml;\n",
              "          element.appendChild(docLink);\n",
              "        }\n",
              "      </script>\n",
              "    </div>\n",
              "  </div>\n",
              "  "
            ]
          },
          "metadata": {},
          "execution_count": 7
        }
      ]
    },
    {
      "cell_type": "code",
      "source": [
        "#Splitting to Training set and Test set\n",
        "output_var = pd.DataFrame(df['Close'])\n",
        "timesplit= TimeSeriesSplit(n_splits=10)\n",
        "for train_index, test_index in timesplit.split(with_transform):\n",
        "  X_train, X_test = with_transform[:len(train_index)], with_transform[len(train_index): (len(train_index)+len(test_index))]\n",
        "  y_train, y_test = output_var[:len(train_index)].values.ravel(), output_var[len(train_index): (len(train_index)+len(test_index))].values.ravel()\n",
        "#Just want the last one out of all the options. Makes life easier\n"
      ],
      "metadata": {
        "id": "C9sh3iTRrH1l"
      },
      "execution_count": null,
      "outputs": []
    },
    {
      "cell_type": "code",
      "source": [
        "#Process the data for LSTM\n",
        "trainXnp = np.array(X_train)\n",
        "testXnp = np.array(X_test)\n",
        "X_train = trainXnp.reshape(X_train.shape[0], 1, X_train.shape[1])\n",
        "X_test = testXnp.reshape(X_test.shape[0], 1, X_test.shape[1])"
      ],
      "metadata": {
        "id": "rcVtwBiJrkeH"
      },
      "execution_count": null,
      "outputs": []
    },
    {
      "cell_type": "code",
      "source": [
        "#Building the LSTM Model\n",
        "lstm = Sequential()\n",
        "lstm.add(LSTM(32, input_shape=(1, trainXnp.shape[1]), activation='relu', return_sequences=False))\n",
        "lstm.add(Dense(1))\n",
        "lstm.compile(loss='mean_squared_error', optimizer='adam', metrics='accuracy')\n",
        "#plot_model(lstm, show_shapes=True, show_layer_names=True)"
      ],
      "metadata": {
        "colab": {
          "base_uri": "https://localhost:8080/",
          "height": 312
        },
        "id": "MI1ikEU2rozi",
        "outputId": "dae9ee83-9318-4f8b-d000-9befec3297d2"
      },
      "execution_count": null,
      "outputs": [
        {
          "output_type": "execute_result",
          "data": {
            "text/plain": [
              "<IPython.core.display.Image object>"
            ],
            "image/png": "[encoded data removed]"
          },
          "metadata": {},
          "execution_count": 11
        }
      ]
    },
    {
      "cell_type": "code",
      "source": [
        "lstm.summary()"
      ],
      "metadata": {
        "colab": {
          "base_uri": "https://localhost:8080/"
        },
        "id": "7bmQ5dURuG5C",
        "outputId": "25c9815d-3041-4d68-d56e-3c203f93f845"
      },
      "execution_count": null,
      "outputs": [
        {
          "output_type": "stream",
          "name": "stdout",
          "text": [
            "Model: \"sequential\"\n",
            "_________________________________________________________________\n",
            " Layer (type)                Output Shape              Param #   \n",
            "=================================================================\n",
            " lstm (LSTM)                 (None, 32)                4736      \n",
            "                                                                 \n",
            " dense (Dense)               (None, 1)                 33        \n",
            "                                                                 \n",
            "=================================================================\n",
            "Total params: 4,769\n",
            "Trainable params: 4,769\n",
            "Non-trainable params: 0\n",
            "_________________________________________________________________\n"
          ]
        }
      ]
    },
    {
      "cell_type": "code",
      "source": [
        "history=lstm.fit(X_train, y_train, epochs=100, batch_size=8, verbose=1, shuffle=False)"
      ],
      "metadata": {
        "id": "4GOrmg21r2UM",
        "colab": {
          "base_uri": "https://localhost:8080/"
        },
        "outputId": "a0a73539-0ae5-4143-ad8b-de9122b4feef"
      },
      "execution_count": null,
      "outputs": [
        {
          "output_type": "stream",
          "name": "stdout",
          "text": [
            "Epoch 1/100\n",
            "287/287 [==============================] - 2s 3ms/step - loss: 12348.9639 - accuracy: 0.0000e+00\n",
            "Epoch 2/100\n",
            "287/287 [==============================] - 1s 3ms/step - loss: 10724.3096 - accuracy: 0.0000e+00\n",
            "Epoch 3/100\n",
            "287/287 [==============================] - 1s 3ms/step - loss: 7871.3369 - accuracy: 0.0000e+00\n",
            "Epoch 4/100\n",
            "287/287 [==============================] - 1s 4ms/step - loss: 4865.1274 - accuracy: 0.0000e+00\n",
            "Epoch 5/100\n",
            "287/287 [==============================] - 1s 3ms/step - loss: 2596.2166 - accuracy: 0.0000e+00\n",
            "Epoch 6/100\n",
            "287/287 [==============================] - 1s 3ms/step - loss: 1303.5914 - accuracy: 0.0000e+00\n",
            "Epoch 7/100\n",
            "287/287 [==============================] - 1s 3ms/step - loss: 739.0327 - accuracy: 0.0000e+00\n",
            "Epoch 8/100\n",
            "287/287 [==============================] - 1s 3ms/step - loss: 533.3089 - accuracy: 0.0000e+00\n",
            "Epoch 9/100\n",
            "287/287 [==============================] - 1s 3ms/step - loss: 444.5005 - accuracy: 0.0000e+00\n",
            "Epoch 10/100\n",
            "287/287 [==============================] - 1s 3ms/step - loss: 377.8638 - accuracy: 0.0000e+00\n",
            "Epoch 11/100\n",
            "287/287 [==============================] - 2s 6ms/step - loss: 311.3477 - accuracy: 0.0000e+00\n",
            "Epoch 12/100\n",
            "287/287 [==============================] - 2s 6ms/step - loss: 245.2357 - accuracy: 0.0000e+00\n",
            "Epoch 13/100\n",
            "287/287 [==============================] - 2s 6ms/step - loss: 183.9354 - accuracy: 0.0000e+00\n",
            "Epoch 14/100\n",
            "287/287 [==============================] - 2s 6ms/step - loss: 130.7429 - accuracy: 0.0000e+00\n",
            "Epoch 15/100\n",
            "287/287 [==============================] - 2s 6ms/step - loss: 87.4608 - accuracy: 0.0000e+00\n",
            "Epoch 16/100\n",
            "287/287 [==============================] - 2s 8ms/step - loss: 54.6319 - accuracy: 0.0000e+00\n",
            "Epoch 17/100\n",
            "287/287 [==============================] - 2s 6ms/step - loss: 31.6650 - accuracy: 0.0000e+00\n",
            "Epoch 18/100\n",
            "287/287 [==============================] - 2s 6ms/step - loss: 17.0426 - accuracy: 0.0000e+00\n",
            "Epoch 19/100\n",
            "287/287 [==============================] - 2s 6ms/step - loss: 8.7188 - accuracy: 0.0000e+00\n",
            "Epoch 20/100\n",
            "287/287 [==============================] - 2s 5ms/step - loss: 4.5430 - accuracy: 0.0000e+00\n",
            "Epoch 21/100\n",
            "287/287 [==============================] - 1s 5ms/step - loss: 2.7339 - accuracy: 0.0000e+00\n",
            "Epoch 22/100\n",
            "287/287 [==============================] - 1s 3ms/step - loss: 2.0637 - accuracy: 0.0000e+00\n",
            "Epoch 23/100\n",
            "287/287 [==============================] - 2s 5ms/step - loss: 1.8466 - accuracy: 0.0000e+00\n",
            "Epoch 24/100\n",
            "287/287 [==============================] - 1s 5ms/step - loss: 1.7762 - accuracy: 0.0000e+00\n",
            "Epoch 25/100\n",
            "287/287 [==============================] - 1s 5ms/step - loss: 1.7490 - accuracy: 0.0000e+00\n",
            "Epoch 26/100\n",
            "287/287 [==============================] - 2s 7ms/step - loss: 1.7295 - accuracy: 0.0000e+00\n",
            "Epoch 27/100\n",
            "287/287 [==============================] - 2s 7ms/step - loss: 1.7116 - accuracy: 0.0000e+00\n",
            "Epoch 28/100\n",
            "287/287 [==============================] - 2s 5ms/step - loss: 1.6930 - accuracy: 0.0000e+00\n",
            "Epoch 29/100\n",
            "287/287 [==============================] - 1s 5ms/step - loss: 1.6721 - accuracy: 0.0000e+00\n",
            "Epoch 30/100\n",
            "287/287 [==============================] - 1s 5ms/step - loss: 1.6491 - accuracy: 0.0000e+00\n",
            "Epoch 31/100\n",
            "287/287 [==============================] - 1s 3ms/step - loss: 1.6243 - accuracy: 0.0000e+00\n",
            "Epoch 32/100\n",
            "287/287 [==============================] - 1s 3ms/step - loss: 1.5990 - accuracy: 0.0000e+00\n",
            "Epoch 33/100\n",
            "287/287 [==============================] - 1s 3ms/step - loss: 1.5750 - accuracy: 0.0000e+00\n",
            "Epoch 34/100\n",
            "287/287 [==============================] - 1s 3ms/step - loss: 1.5539 - accuracy: 0.0000e+00\n",
            "Epoch 35/100\n",
            "287/287 [==============================] - 1s 3ms/step - loss: 1.5374 - accuracy: 0.0000e+00\n",
            "Epoch 36/100\n",
            "287/287 [==============================] - 1s 3ms/step - loss: 1.5257 - accuracy: 0.0000e+00\n",
            "Epoch 37/100\n",
            "287/287 [==============================] - 1s 3ms/step - loss: 1.5185 - accuracy: 0.0000e+00\n",
            "Epoch 38/100\n",
            "287/287 [==============================] - 1s 3ms/step - loss: 1.5151 - accuracy: 0.0000e+00\n",
            "Epoch 39/100\n",
            "287/287 [==============================] - 1s 4ms/step - loss: 1.5147 - accuracy: 0.0000e+00\n",
            "Epoch 40/100\n",
            "287/287 [==============================] - 1s 5ms/step - loss: 1.5162 - accuracy: 0.0000e+00\n",
            "Epoch 41/100\n",
            "287/287 [==============================] - 1s 5ms/step - loss: 1.5189 - accuracy: 0.0000e+00\n",
            "Epoch 42/100\n",
            "287/287 [==============================] - 2s 5ms/step - loss: 1.5222 - accuracy: 0.0000e+00\n",
            "Epoch 43/100\n",
            "287/287 [==============================] - 1s 5ms/step - loss: 1.5256 - accuracy: 0.0000e+00\n",
            "Epoch 44/100\n",
            "287/287 [==============================] - 1s 5ms/step - loss: 1.5288 - accuracy: 0.0000e+00\n",
            "Epoch 45/100\n",
            "287/287 [==============================] - 1s 5ms/step - loss: 1.5317 - accuracy: 0.0000e+00\n",
            "Epoch 46/100\n",
            "287/287 [==============================] - 1s 4ms/step - loss: 1.5339 - accuracy: 0.0000e+00\n",
            "Epoch 47/100\n",
            "287/287 [==============================] - 1s 3ms/step - loss: 1.5355 - accuracy: 0.0000e+00\n",
            "Epoch 48/100\n",
            "287/287 [==============================] - 1s 3ms/step - loss: 1.5364 - accuracy: 0.0000e+00\n",
            "Epoch 49/100\n",
            "287/287 [==============================] - 1s 3ms/step - loss: 1.5367 - accuracy: 0.0000e+00\n",
            "Epoch 50/100\n",
            "287/287 [==============================] - 1s 3ms/step - loss: 1.5365 - accuracy: 0.0000e+00\n",
            "Epoch 51/100\n",
            "287/287 [==============================] - 1s 3ms/step - loss: 1.5358 - accuracy: 0.0000e+00\n",
            "Epoch 52/100\n",
            "287/287 [==============================] - 1s 3ms/step - loss: 1.5348 - accuracy: 0.0000e+00\n",
            "Epoch 53/100\n",
            "287/287 [==============================] - 1s 4ms/step - loss: 1.5333 - accuracy: 0.0000e+00\n",
            "Epoch 54/100\n",
            "287/287 [==============================] - 1s 3ms/step - loss: 1.5317 - accuracy: 0.0000e+00\n",
            "Epoch 55/100\n",
            "287/287 [==============================] - 1s 3ms/step - loss: 1.5300 - accuracy: 0.0000e+00\n",
            "Epoch 56/100\n",
            "287/287 [==============================] - 1s 3ms/step - loss: 1.5279 - accuracy: 0.0000e+00\n",
            "Epoch 57/100\n",
            "287/287 [==============================] - 1s 3ms/step - loss: 1.5257 - accuracy: 0.0000e+00\n",
            "Epoch 58/100\n",
            "287/287 [==============================] - 1s 3ms/step - loss: 1.5235 - accuracy: 0.0000e+00\n",
            "Epoch 59/100\n",
            "287/287 [==============================] - 1s 3ms/step - loss: 1.5209 - accuracy: 0.0000e+00\n",
            "Epoch 60/100\n",
            "287/287 [==============================] - 1s 3ms/step - loss: 1.5187 - accuracy: 0.0000e+00\n",
            "Epoch 61/100\n",
            "287/287 [==============================] - 1s 3ms/step - loss: 1.5160 - accuracy: 0.0000e+00\n",
            "Epoch 62/100\n",
            "287/287 [==============================] - 1s 3ms/step - loss: 1.5136 - accuracy: 0.0000e+00\n",
            "Epoch 63/100\n",
            "287/287 [==============================] - 1s 3ms/step - loss: 1.5110 - accuracy: 0.0000e+00\n",
            "Epoch 64/100\n",
            "287/287 [==============================] - 1s 3ms/step - loss: 1.5083 - accuracy: 0.0000e+00\n",
            "Epoch 65/100\n",
            "287/287 [==============================] - 1s 3ms/step - loss: 1.5058 - accuracy: 0.0000e+00\n",
            "Epoch 66/100\n",
            "287/287 [==============================] - 1s 3ms/step - loss: 1.5030 - accuracy: 0.0000e+00\n",
            "Epoch 67/100\n",
            "287/287 [==============================] - 1s 3ms/step - loss: 1.5006 - accuracy: 0.0000e+00\n",
            "Epoch 68/100\n",
            "287/287 [==============================] - 1s 3ms/step - loss: 1.4979 - accuracy: 0.0000e+00\n",
            "Epoch 69/100\n",
            "287/287 [==============================] - 1s 3ms/step - loss: 1.4951 - accuracy: 0.0000e+00\n",
            "Epoch 70/100\n",
            "287/287 [==============================] - 1s 3ms/step - loss: 1.4927 - accuracy: 0.0000e+00\n",
            "Epoch 71/100\n",
            "287/287 [==============================] - 2s 6ms/step - loss: 1.4898 - accuracy: 0.0000e+00\n",
            "Epoch 72/100\n",
            "287/287 [==============================] - 1s 5ms/step - loss: 1.4873 - accuracy: 0.0000e+00\n",
            "Epoch 73/100\n",
            "287/287 [==============================] - 1s 5ms/step - loss: 1.4845 - accuracy: 0.0000e+00\n",
            "Epoch 74/100\n",
            "287/287 [==============================] - 1s 5ms/step - loss: 1.4821 - accuracy: 0.0000e+00\n",
            "Epoch 75/100\n",
            "287/287 [==============================] - 1s 5ms/step - loss: 1.4794 - accuracy: 0.0000e+00\n",
            "Epoch 76/100\n",
            "287/287 [==============================] - 1s 4ms/step - loss: 1.4767 - accuracy: 0.0000e+00\n",
            "Epoch 77/100\n",
            "287/287 [==============================] - 2s 6ms/step - loss: 1.4742 - accuracy: 0.0000e+00\n",
            "Epoch 78/100\n",
            "287/287 [==============================] - 1s 5ms/step - loss: 1.4714 - accuracy: 0.0000e+00\n",
            "Epoch 79/100\n",
            "287/287 [==============================] - 1s 3ms/step - loss: 1.4690 - accuracy: 0.0000e+00\n",
            "Epoch 80/100\n",
            "287/287 [==============================] - 1s 3ms/step - loss: 1.4663 - accuracy: 0.0000e+00\n",
            "Epoch 81/100\n",
            "287/287 [==============================] - 1s 3ms/step - loss: 1.4636 - accuracy: 0.0000e+00\n",
            "Epoch 82/100\n",
            "287/287 [==============================] - 1s 3ms/step - loss: 1.4612 - accuracy: 0.0000e+00\n",
            "Epoch 83/100\n",
            "287/287 [==============================] - 1s 3ms/step - loss: 1.4584 - accuracy: 0.0000e+00\n",
            "Epoch 84/100\n",
            "287/287 [==============================] - 1s 3ms/step - loss: 1.4560 - accuracy: 0.0000e+00\n",
            "Epoch 85/100\n",
            "287/287 [==============================] - 1s 3ms/step - loss: 1.4534 - accuracy: 0.0000e+00\n",
            "Epoch 86/100\n",
            "287/287 [==============================] - 1s 3ms/step - loss: 1.4508 - accuracy: 0.0000e+00\n",
            "Epoch 87/100\n",
            "287/287 [==============================] - 1s 3ms/step - loss: 1.4484 - accuracy: 0.0000e+00\n",
            "Epoch 88/100\n",
            "287/287 [==============================] - 1s 3ms/step - loss: 1.4456 - accuracy: 0.0000e+00\n",
            "Epoch 89/100\n",
            "287/287 [==============================] - 1s 3ms/step - loss: 1.4433 - accuracy: 0.0000e+00\n",
            "Epoch 90/100\n",
            "287/287 [==============================] - 1s 3ms/step - loss: 1.4407 - accuracy: 0.0000e+00\n",
            "Epoch 91/100\n",
            "287/287 [==============================] - 1s 3ms/step - loss: 1.4381 - accuracy: 0.0000e+00\n",
            "Epoch 92/100\n",
            "287/287 [==============================] - 1s 3ms/step - loss: 1.4357 - accuracy: 0.0000e+00\n",
            "Epoch 93/100\n",
            "287/287 [==============================] - 1s 3ms/step - loss: 1.4330 - accuracy: 0.0000e+00\n",
            "Epoch 94/100\n",
            "287/287 [==============================] - 1s 3ms/step - loss: 1.4307 - accuracy: 0.0000e+00\n",
            "Epoch 95/100\n",
            "287/287 [==============================] - 1s 3ms/step - loss: 1.4282 - accuracy: 0.0000e+00\n",
            "Epoch 96/100\n",
            "287/287 [==============================] - 1s 3ms/step - loss: 1.4256 - accuracy: 0.0000e+00\n",
            "Epoch 97/100\n",
            "287/287 [==============================] - 1s 3ms/step - loss: 1.4232 - accuracy: 0.0000e+00\n",
            "Epoch 98/100\n",
            "287/287 [==============================] - 1s 3ms/step - loss: 1.4206 - accuracy: 0.0000e+00\n",
            "Epoch 99/100\n",
            "287/287 [==============================] - 1s 3ms/step - loss: 1.4183 - accuracy: 0.0000e+00\n",
            "Epoch 100/100\n",
            "287/287 [==============================] - 1s 3ms/step - loss: 1.4158 - accuracy: 0.0000e+00\n"
          ]
        }
      ]
    },
    {
      "cell_type": "code",
      "source": [
        "y_pred = lstm.predict(X_test)"
      ],
      "metadata": {
        "id": "3WwnERYhr7nq"
      },
      "execution_count": null,
      "outputs": []
    },
    {
      "cell_type": "code",
      "source": [
        "plt.plot(y_test, label='True Val')\n",
        "plt.plot(y_pred, label='Predicted')\n",
        "plt.title('Prediction by LSTM')\n",
        "plt.xlabel('Time Scale')\n",
        "plt.ylabel('USD')\n",
        "plt.legend()\n",
        "plt.show()"
      ],
      "metadata": {
        "colab": {
          "base_uri": "https://localhost:8080/",
          "height": 295
        },
        "id": "cR2LlBZVa6PG",
        "outputId": "dccb9ed0-34e6-4599-af86-5ea03aac4a5a"
      },
      "execution_count": null,
      "outputs": [
        {
          "output_type": "display_data",
          "data": {
            "text/plain": [
              "<Figure size 432x288 with 1 Axes>"
            ],
            "image/png": "[encoded data removed]"
          },
          "metadata": {
            "needs_background": "light"
          }
        }
      ]
    },
    {
      "cell_type": "code",
      "source": [
        ""
      ],
      "metadata": {
        "id": "7HrtvendsSsY"
      },
      "execution_count": null,
      "outputs": []
    }
  ]
}