{
  "nbformat": 4,
  "nbformat_minor": 0,
  "metadata": {
    "colab": {
      "name": "DataCleaningAndExploration.ipynb",
      "provenance": [],
      "authorship_tag": "ABX9TyPGSCiSP6PXcjUSQYkIZGD0",
      "include_colab_link": true
    },
    "kernelspec": {
      "name": "python3",
      "display_name": "Python 3"
    },
    "language_info": {
      "name": "python"
    }
  },
  "cells": [
    {
      "cell_type": "markdown",
      "metadata": {
        "id": "view-in-github",
        "colab_type": "text"
      },
      "source": [
        "<a href=\"https://colab.research.google.com/github/delpretemarcus/156StockClosingPricePrediction/blob/main/DataCleaningAndExploration.ipynb\" target=\"_parent\"><img src=\"https://colab.research.google.com/assets/colab-badge.svg\" alt=\"Open In Colab\"/></a>"
      ]
    },
    {
      "cell_type": "code",
      "source": [
        "import pandas as pd"
      ],
      "metadata": {
        "id": "8wfJkkom5ks6"
      },
      "execution_count": 3,
      "outputs": []
    },
    {
      "cell_type": "code",
      "execution_count": 9,
      "metadata": {
        "id": "sXqsK-G8381q"
      },
      "outputs": [],
      "source": [
        "\n",
        "aplurl = 'https://raw.githubusercontent.com/delpretemarcus/156StockClosingPricePrediction/main/HistoricalQuotes.csv'\n",
        "\n",
        "dataset = pd.read_csv(aplurl, index_col='Date')"
      ]
    },
    {
      "cell_type": "code",
      "source": [
        "dataset.index.nunique()"
      ],
      "metadata": {
        "colab": {
          "base_uri": "https://localhost:8080/"
        },
        "id": "RicwLpic8IBd",
        "outputId": "bdd67530-cff1-4f1a-ab62-02ddd82f1552"
      },
      "execution_count": 29,
      "outputs": [
        {
          "output_type": "execute_result",
          "data": {
            "text/plain": [
              "2518"
            ]
          },
          "metadata": {},
          "execution_count": 29
        }
      ]
    },
    {
      "cell_type": "code",
      "source": [
        "dataset.loc['02/28/2020']"
      ],
      "metadata": {
        "colab": {
          "base_uri": "https://localhost:8080/"
        },
        "id": "n8H3ngi75sd6",
        "outputId": "e401a1d6-12d9-4530-cc86-d8ef611eef9b"
      },
      "execution_count": 30,
      "outputs": [
        {
          "output_type": "execute_result",
          "data": {
            "text/plain": [
              " Close/Last      $273.36\n",
              " Volume        106721200\n",
              " Open            $257.26\n",
              " High            $278.41\n",
              " Low             $256.37\n",
              "Name: 02/28/2020, dtype: object"
            ]
          },
          "metadata": {},
          "execution_count": 30
        }
      ]
    },
    {
      "cell_type": "code",
      "source": [
        ""
      ],
      "metadata": {
        "id": "cTmodYlc5wnP"
      },
      "execution_count": null,
      "outputs": []
    }
  ]
}