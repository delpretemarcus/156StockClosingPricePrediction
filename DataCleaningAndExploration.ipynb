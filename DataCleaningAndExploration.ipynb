{
  "nbformat": 4,
  "nbformat_minor": 0,
  "metadata": {
    "colab": {
      "name": "DataCleaningAndExploration.ipynb",
      "provenance": [],
      "authorship_tag": "ABX9TyObun6firSV6vzONCn+sARa",
      "include_colab_link": true
    },
    "kernelspec": {
      "name": "python3",
      "display_name": "Python 3"
    },
    "language_info": {
      "name": "python"
    }
  },
  "cells": [
    {
      "cell_type": "markdown",
      "metadata": {
        "id": "view-in-github",
        "colab_type": "text"
      },
      "source": [
        "<a href=\"https://colab.research.google.com/github/delpretemarcus/156StockClosingPricePrediction/blob/main/DataCleaningAndExploration.ipynb\" target=\"_parent\"><img src=\"https://colab.research.google.com/assets/colab-badge.svg\" alt=\"Open In Colab\"/></a>"
      ]
    },
    {
      "cell_type": "code",
      "source": [
        "#Genuinely not sure which of these I use... Will trim as necessary\n",
        "import pandas as pd\n",
        "import numpy as np\n",
        "%matplotlib inline\n",
        "import matplotlib.pyplot as plt\n",
        "import matplotlib\n",
        "from sklearn.preprocessing import MinMaxScaler\n",
        "from keras.layers import LSTM, Dense\n",
        "from sklearn.model_selection import TimeSeriesSplit\n",
        "from sklearn.metrics import mean_squared_error\n",
        "from sklearn.preprocessing import MinMaxScaler\n",
        "from sklearn import linear_model\n",
        "from keras.models import Sequential\n",
        "from keras.optimizers import adam_v2\n",
        "from keras.utils.vis_utils import plot_model\n",
        "import math"
      ],
      "metadata": {
        "id": "8wfJkkom5ks6"
      },
      "execution_count": 1,
      "outputs": []
    },
    {
      "cell_type": "code",
      "execution_count": 2,
      "metadata": {
        "id": "sXqsK-G8381q"
      },
      "outputs": [],
      "source": [
        "\n",
        "aplurl = 'https://raw.githubusercontent.com/delpretemarcus/156StockClosingPricePrediction/main/HistoricalQuotes.csv'\n",
        "\n",
        "df = pd.read_csv(aplurl, index_col='Date')"
      ]
    },
    {
      "cell_type": "code",
      "source": [
        "#Data Cleaning --\n",
        "\n",
        "df.columns = ['Close', 'Volume', 'Open', 'High', 'Low']\n",
        "df.index = pd.to_datetime(df.index)\n",
        "df.sort_index()\n",
        "\n",
        "df.Close = df.Close.apply(lambda x: x[2:]).astype(np.double)\n",
        "df.Open = df.Open.apply(lambda x: x[2:]).astype(np.double)\n",
        "df.High = df.High.apply(lambda x: x[2:]).astype(np.double)\n",
        "df.Low = df.Low.apply(lambda x: x[2:]).astype(np.double)\n",
        "\n",
        "\n",
        "df = df.reindex(index=df.index[::-1])\n"
      ],
      "metadata": {
        "id": "RicwLpic8IBd"
      },
      "execution_count": 3,
      "outputs": []
    },
    {
      "cell_type": "code",
      "source": [
        "#Scaling\n",
        "features = ['Open', 'High', 'Low', 'Volume']\n",
        "scaler = MinMaxScaler()\n",
        "with_transform = scaler.fit_transform(df[features])\n",
        "with_transform= pd.DataFrame(columns=features, data=with_transform, index=df.index)\n",
        "with_transform.head()"
      ],
      "metadata": {
        "colab": {
          "base_uri": "https://localhost:8080/",
          "height": 238
        },
        "id": "BYrZKyzEp3fV",
        "outputId": "00e51062-58a3-4d1f-9c28-8ce622c634f4"
      },
      "execution_count": 4,
      "outputs": [
        {
          "output_type": "execute_result",
          "data": {
            "text/plain": [
              "                Open      High       Low    Volume\n",
              "Date                                              \n",
              "2010-03-01  0.000000  0.000000  0.003004  0.279219\n",
              "2010-03-02  0.002022  0.000638  0.004113  0.288472\n",
              "2010-03-03  0.001543  0.000177  0.004210  0.180643\n",
              "2010-03-04  0.001707  0.000681  0.004544  0.173428\n",
              "2010-03-05  0.004445  0.004891  0.007451  0.472832"
            ],
            "text/html": [
              "\n",
              "  <div id=\"df-e204f203-5e5d-4fbc-9402-ee79c239c189\">\n",
              "    <div class=\"colab-df-container\">\n",
              "      <div>\n",
              "<style scoped>\n",
              "    .dataframe tbody tr th:only-of-type {\n",
              "        vertical-align: middle;\n",
              "    }\n",
              "\n",
              "    .dataframe tbody tr th {\n",
              "        vertical-align: top;\n",
              "    }\n",
              "\n",
              "    .dataframe thead th {\n",
              "        text-align: right;\n",
              "    }\n",
              "</style>\n",
              "<table border=\"1\" class=\"dataframe\">\n",
              "  <thead>\n",
              "    <tr style=\"text-align: right;\">\n",
              "      <th></th>\n",
              "      <th>Open</th>\n",
              "      <th>High</th>\n",
              "      <th>Low</th>\n",
              "      <th>Volume</th>\n",
              "    </tr>\n",
              "    <tr>\n",
              "      <th>Date</th>\n",
              "      <th></th>\n",
              "      <th></th>\n",
              "      <th></th>\n",
              "      <th></th>\n",
              "    </tr>\n",
              "  </thead>\n",
              "  <tbody>\n",
              "    <tr>\n",
              "      <th>2010-03-01</th>\n",
              "      <td>0.000000</td>\n",
              "      <td>0.000000</td>\n",
              "      <td>0.003004</td>\n",
              "      <td>0.279219</td>\n",
              "    </tr>\n",
              "    <tr>\n",
              "      <th>2010-03-02</th>\n",
              "      <td>0.002022</td>\n",
              "      <td>0.000638</td>\n",
              "      <td>0.004113</td>\n",
              "      <td>0.288472</td>\n",
              "    </tr>\n",
              "    <tr>\n",
              "      <th>2010-03-03</th>\n",
              "      <td>0.001543</td>\n",
              "      <td>0.000177</td>\n",
              "      <td>0.004210</td>\n",
              "      <td>0.180643</td>\n",
              "    </tr>\n",
              "    <tr>\n",
              "      <th>2010-03-04</th>\n",
              "      <td>0.001707</td>\n",
              "      <td>0.000681</td>\n",
              "      <td>0.004544</td>\n",
              "      <td>0.173428</td>\n",
              "    </tr>\n",
              "    <tr>\n",
              "      <th>2010-03-05</th>\n",
              "      <td>0.004445</td>\n",
              "      <td>0.004891</td>\n",
              "      <td>0.007451</td>\n",
              "      <td>0.472832</td>\n",
              "    </tr>\n",
              "  </tbody>\n",
              "</table>\n",
              "</div>\n",
              "      <button class=\"colab-df-convert\" onclick=\"convertToInteractive('df-e204f203-5e5d-4fbc-9402-ee79c239c189')\"\n",
              "              title=\"Convert this dataframe to an interactive table.\"\n",
              "              style=\"display:none;\">\n",
              "        \n",
              "  <svg xmlns=\"http://www.w3.org/2000/svg\" height=\"24px\"viewBox=\"0 0 24 24\"\n",
              "       width=\"24px\">\n",
              "    <path d=\"M0 0h24v24H0V0z\" fill=\"none\"/>\n",
              "    <path d=\"M18.56 5.44l.94 2.06.94-2.06 2.06-.94-2.06-.94-.94-2.06-.94 2.06-2.06.94zm-11 1L8.5 8.5l.94-2.06 2.06-.94-2.06-.94L8.5 2.5l-.94 2.06-2.06.94zm10 10l.94 2.06.94-2.06 2.06-.94-2.06-.94-.94-2.06-.94 2.06-2.06.94z\"/><path d=\"M17.41 7.96l-1.37-1.37c-.4-.4-.92-.59-1.43-.59-.52 0-1.04.2-1.43.59L10.3 9.45l-7.72 7.72c-.78.78-.78 2.05 0 2.83L4 21.41c.39.39.9.59 1.41.59.51 0 1.02-.2 1.41-.59l7.78-7.78 2.81-2.81c.8-.78.8-2.07 0-2.86zM5.41 20L4 18.59l7.72-7.72 1.47 1.35L5.41 20z\"/>\n",
              "  </svg>\n",
              "      </button>\n",
              "      \n",
              "  <style>\n",
              "    .colab-df-container {\n",
              "      display:flex;\n",
              "      flex-wrap:wrap;\n",
              "      gap: 12px;\n",
              "    }\n",
              "\n",
              "    .colab-df-convert {\n",
              "      background-color: #E8F0FE;\n",
              "      border: none;\n",
              "      border-radius: 50%;\n",
              "      cursor: pointer;\n",
              "      display: none;\n",
              "      fill: #1967D2;\n",
              "      height: 32px;\n",
              "      padding: 0 0 0 0;\n",
              "      width: 32px;\n",
              "    }\n",
              "\n",
              "    .colab-df-convert:hover {\n",
              "      background-color: #E2EBFA;\n",
              "      box-shadow: 0px 1px 2px rgba(60, 64, 67, 0.3), 0px 1px 3px 1px rgba(60, 64, 67, 0.15);\n",
              "      fill: #174EA6;\n",
              "    }\n",
              "\n",
              "    [theme=dark] .colab-df-convert {\n",
              "      background-color: #3B4455;\n",
              "      fill: #D2E3FC;\n",
              "    }\n",
              "\n",
              "    [theme=dark] .colab-df-convert:hover {\n",
              "      background-color: #434B5C;\n",
              "      box-shadow: 0px 1px 3px 1px rgba(0, 0, 0, 0.15);\n",
              "      filter: drop-shadow(0px 1px 2px rgba(0, 0, 0, 0.3));\n",
              "      fill: #FFFFFF;\n",
              "    }\n",
              "  </style>\n",
              "\n",
              "      <script>\n",
              "        const buttonEl =\n",
              "          document.querySelector('#df-e204f203-5e5d-4fbc-9402-ee79c239c189 button.colab-df-convert');\n",
              "        buttonEl.style.display =\n",
              "          google.colab.kernel.accessAllowed ? 'block' : 'none';\n",
              "\n",
              "        async function convertToInteractive(key) {\n",
              "          const element = document.querySelector('#df-e204f203-5e5d-4fbc-9402-ee79c239c189');\n",
              "          const dataTable =\n",
              "            await google.colab.kernel.invokeFunction('convertToInteractive',\n",
              "                                                     [key], {});\n",
              "          if (!dataTable) return;\n",
              "\n",
              "          const docLinkHtml = 'Like what you see? Visit the ' +\n",
              "            '<a target=\"_blank\" href=https://colab.research.google.com/notebooks/data_table.ipynb>data table notebook</a>'\n",
              "            + ' to learn more about interactive tables.';\n",
              "          element.innerHTML = '';\n",
              "          dataTable['output_type'] = 'display_data';\n",
              "          await google.colab.output.renderOutput(dataTable, element);\n",
              "          const docLink = document.createElement('div');\n",
              "          docLink.innerHTML = docLinkHtml;\n",
              "          element.appendChild(docLink);\n",
              "        }\n",
              "      </script>\n",
              "    </div>\n",
              "  </div>\n",
              "  "
            ]
          },
          "metadata": {},
          "execution_count": 4
        }
      ]
    },
    {
      "cell_type": "code",
      "source": [
        "#Splitting to Training set and Test set\n",
        "output_var = pd.DataFrame(df['Close'])\n",
        "timesplit= TimeSeriesSplit(n_splits=5)\n",
        "for train_index, test_index in timesplit.split(with_transform):\n",
        "  X_train, X_test = with_transform[:len(train_index)], with_transform[len(train_index): (len(train_index)+len(test_index))]\n",
        "  y_train, y_test = output_var[:len(train_index)].values.ravel(), output_var[len(train_index): (len(train_index)+len(test_index))].values.ravel()\n",
        "#Just want the last one out of all the options. Makes life easier\n"
      ],
      "metadata": {
        "id": "C9sh3iTRrH1l"
      },
      "execution_count": 5,
      "outputs": []
    },
    {
      "cell_type": "code",
      "source": [
        "#Process the data for LSTM\n",
        "trainXnp = np.array(X_train)\n",
        "testXnp = np.array(X_test)\n",
        "X_train = trainXnp.reshape(X_train.shape[0], 1, X_train.shape[1])\n",
        "X_test = testXnp.reshape(X_test.shape[0], 1, X_test.shape[1])"
      ],
      "metadata": {
        "id": "rcVtwBiJrkeH"
      },
      "execution_count": 6,
      "outputs": []
    },
    {
      "cell_type": "code",
      "source": [
        "#Building the LSTM Model\n",
        "lstm = Sequential()\n",
        "lstm.add(LSTM(32, input_shape=(1, trainXnp.shape[1]), activation='relu', return_sequences=False))\n",
        "lstm.add(Dense(1))\n",
        "lstm.compile(loss='mean_squared_error', optimizer='adam', metrics='accuracy')\n",
        "#plot_model(lstm, show_shapes=True, show_layer_names=True)"
      ],
      "metadata": {
        "id": "MI1ikEU2rozi"
      },
      "execution_count": 7,
      "outputs": []
    },
    {
      "cell_type": "code",
      "source": [
        "lstm.summary()"
      ],
      "metadata": {
        "colab": {
          "base_uri": "https://localhost:8080/"
        },
        "id": "7bmQ5dURuG5C",
        "outputId": "f3728d58-3939-4963-f327-0787b80a93cc"
      },
      "execution_count": 8,
      "outputs": [
        {
          "output_type": "stream",
          "name": "stdout",
          "text": [
            "Model: \"sequential\"\n",
            "_________________________________________________________________\n",
            " Layer (type)                Output Shape              Param #   \n",
            "=================================================================\n",
            " lstm (LSTM)                 (None, 32)                4736      \n",
            "                                                                 \n",
            " dense (Dense)               (None, 1)                 33        \n",
            "                                                                 \n",
            "=================================================================\n",
            "Total params: 4,769\n",
            "Trainable params: 4,769\n",
            "Non-trainable params: 0\n",
            "_________________________________________________________________\n"
          ]
        }
      ]
    },
    {
      "cell_type": "code",
      "source": [
        "history=lstm.fit(X_train, y_train, epochs=100, batch_size=8, verbose=1, shuffle=False)"
      ],
      "metadata": {
        "id": "4GOrmg21r2UM",
        "colab": {
          "base_uri": "https://localhost:8080/"
        },
        "outputId": "b4c65690-94d1-4c8d-bd73-d6a9e743dc0f"
      },
      "execution_count": 9,
      "outputs": [
        {
          "output_type": "stream",
          "name": "stdout",
          "text": [
            "Epoch 1/100\n",
            "263/263 [==============================] - 5s 6ms/step - loss: 10128.2227 - accuracy: 0.0000e+00\n",
            "Epoch 2/100\n",
            "263/263 [==============================] - 2s 6ms/step - loss: 8598.8398 - accuracy: 0.0000e+00\n",
            "Epoch 3/100\n",
            "263/263 [==============================] - 1s 5ms/step - loss: 6019.6743 - accuracy: 0.0000e+00\n",
            "Epoch 4/100\n",
            "263/263 [==============================] - 1s 5ms/step - loss: 3388.4995 - accuracy: 0.0000e+00\n",
            "Epoch 5/100\n",
            "263/263 [==============================] - 1s 5ms/step - loss: 1591.4293 - accuracy: 0.0000e+00\n",
            "Epoch 6/100\n",
            "263/263 [==============================] - 2s 7ms/step - loss: 738.4172 - accuracy: 0.0000e+00\n",
            "Epoch 7/100\n",
            "263/263 [==============================] - 2s 7ms/step - loss: 449.4736 - accuracy: 0.0000e+00\n",
            "Epoch 8/100\n",
            "263/263 [==============================] - 2s 7ms/step - loss: 360.9181 - accuracy: 0.0000e+00\n",
            "Epoch 9/100\n",
            "263/263 [==============================] - 1s 5ms/step - loss: 310.6905 - accuracy: 0.0000e+00\n",
            "Epoch 10/100\n",
            "263/263 [==============================] - 1s 5ms/step - loss: 260.1609 - accuracy: 0.0000e+00\n",
            "Epoch 11/100\n",
            "263/263 [==============================] - 1s 5ms/step - loss: 207.8110 - accuracy: 0.0000e+00\n",
            "Epoch 12/100\n",
            "263/263 [==============================] - 2s 8ms/step - loss: 157.7910 - accuracy: 0.0000e+00\n",
            "Epoch 13/100\n",
            "263/263 [==============================] - 1s 5ms/step - loss: 113.6254 - accuracy: 0.0000e+00\n",
            "Epoch 14/100\n",
            "263/263 [==============================] - 1s 5ms/step - loss: 77.2673 - accuracy: 0.0000e+00\n",
            "Epoch 15/100\n",
            "263/263 [==============================] - 2s 8ms/step - loss: 49.2264 - accuracy: 0.0000e+00\n",
            "Epoch 16/100\n",
            "263/263 [==============================] - 2s 7ms/step - loss: 29.1847 - accuracy: 0.0000e+00\n",
            "Epoch 17/100\n",
            "263/263 [==============================] - 2s 6ms/step - loss: 16.0132 - accuracy: 0.0000e+00\n",
            "Epoch 18/100\n",
            "263/263 [==============================] - 2s 7ms/step - loss: 8.1815 - accuracy: 0.0000e+00\n",
            "Epoch 19/100\n",
            "263/263 [==============================] - 2s 6ms/step - loss: 4.0216 - accuracy: 0.0000e+00\n",
            "Epoch 20/100\n",
            "263/263 [==============================] - 1s 5ms/step - loss: 2.0845 - accuracy: 0.0000e+00\n",
            "Epoch 21/100\n",
            "263/263 [==============================] - 2s 6ms/step - loss: 1.2996 - accuracy: 0.0000e+00\n",
            "Epoch 22/100\n",
            "263/263 [==============================] - 2s 6ms/step - loss: 1.0251 - accuracy: 0.0000e+00\n",
            "Epoch 23/100\n",
            "263/263 [==============================] - 2s 7ms/step - loss: 0.9419 - accuracy: 0.0000e+00\n",
            "Epoch 24/100\n",
            "263/263 [==============================] - 2s 6ms/step - loss: 0.9165 - accuracy: 0.0000e+00\n",
            "Epoch 25/100\n",
            "263/263 [==============================] - 1s 5ms/step - loss: 0.9054 - accuracy: 0.0000e+00\n",
            "Epoch 26/100\n",
            "263/263 [==============================] - 1s 5ms/step - loss: 0.8959 - accuracy: 0.0000e+00\n",
            "Epoch 27/100\n",
            "263/263 [==============================] - 1s 5ms/step - loss: 0.8876 - accuracy: 0.0000e+00\n",
            "Epoch 28/100\n",
            "263/263 [==============================] - 1s 5ms/step - loss: 0.8801 - accuracy: 0.0000e+00\n",
            "Epoch 29/100\n",
            "263/263 [==============================] - 2s 6ms/step - loss: 0.8738 - accuracy: 0.0000e+00\n",
            "Epoch 30/100\n",
            "263/263 [==============================] - 1s 5ms/step - loss: 0.8683 - accuracy: 0.0000e+00\n",
            "Epoch 31/100\n",
            "263/263 [==============================] - 2s 6ms/step - loss: 0.8639 - accuracy: 0.0000e+00\n",
            "Epoch 32/100\n",
            "263/263 [==============================] - 2s 6ms/step - loss: 0.8595 - accuracy: 0.0000e+00\n",
            "Epoch 33/100\n",
            "263/263 [==============================] - 2s 6ms/step - loss: 0.8534 - accuracy: 0.0000e+00\n",
            "Epoch 34/100\n",
            "263/263 [==============================] - 2s 7ms/step - loss: 0.8460 - accuracy: 0.0000e+00\n",
            "Epoch 35/100\n",
            "263/263 [==============================] - 1s 5ms/step - loss: 0.8378 - accuracy: 0.0000e+00\n",
            "Epoch 36/100\n",
            "263/263 [==============================] - 2s 6ms/step - loss: 0.8297 - accuracy: 0.0000e+00\n",
            "Epoch 37/100\n",
            "263/263 [==============================] - 1s 4ms/step - loss: 0.8222 - accuracy: 0.0000e+00\n",
            "Epoch 38/100\n",
            "263/263 [==============================] - 2s 6ms/step - loss: 0.8155 - accuracy: 0.0000e+00\n",
            "Epoch 39/100\n",
            "263/263 [==============================] - 2s 6ms/step - loss: 0.8098 - accuracy: 0.0000e+00\n",
            "Epoch 40/100\n",
            "263/263 [==============================] - 2s 6ms/step - loss: 0.8049 - accuracy: 0.0000e+00\n",
            "Epoch 41/100\n",
            "263/263 [==============================] - 1s 5ms/step - loss: 0.8008 - accuracy: 0.0000e+00\n",
            "Epoch 42/100\n",
            "263/263 [==============================] - 1s 5ms/step - loss: 0.7974 - accuracy: 0.0000e+00\n",
            "Epoch 43/100\n",
            "263/263 [==============================] - 1s 5ms/step - loss: 0.7949 - accuracy: 0.0000e+00\n",
            "Epoch 44/100\n",
            "263/263 [==============================] - 1s 3ms/step - loss: 0.7928 - accuracy: 0.0000e+00\n",
            "Epoch 45/100\n",
            "263/263 [==============================] - 1s 3ms/step - loss: 0.7910 - accuracy: 0.0000e+00\n",
            "Epoch 46/100\n",
            "263/263 [==============================] - 1s 3ms/step - loss: 0.7895 - accuracy: 0.0000e+00\n",
            "Epoch 47/100\n",
            "263/263 [==============================] - 1s 3ms/step - loss: 0.7882 - accuracy: 0.0000e+00\n",
            "Epoch 48/100\n",
            "263/263 [==============================] - 1s 3ms/step - loss: 0.7871 - accuracy: 0.0000e+00\n",
            "Epoch 49/100\n",
            "263/263 [==============================] - 1s 3ms/step - loss: 0.7861 - accuracy: 0.0000e+00\n",
            "Epoch 50/100\n",
            "263/263 [==============================] - 1s 3ms/step - loss: 0.7851 - accuracy: 0.0000e+00\n",
            "Epoch 51/100\n",
            "263/263 [==============================] - 1s 3ms/step - loss: 0.7843 - accuracy: 0.0000e+00\n",
            "Epoch 52/100\n",
            "263/263 [==============================] - 1s 3ms/step - loss: 0.7836 - accuracy: 0.0000e+00\n",
            "Epoch 53/100\n",
            "263/263 [==============================] - 1s 3ms/step - loss: 0.7829 - accuracy: 0.0000e+00\n",
            "Epoch 54/100\n",
            "263/263 [==============================] - 1s 3ms/step - loss: 0.7824 - accuracy: 0.0000e+00\n",
            "Epoch 55/100\n",
            "263/263 [==============================] - 1s 3ms/step - loss: 0.7819 - accuracy: 0.0000e+00\n",
            "Epoch 56/100\n",
            "263/263 [==============================] - 1s 3ms/step - loss: 0.7816 - accuracy: 0.0000e+00\n",
            "Epoch 57/100\n",
            "263/263 [==============================] - 1s 3ms/step - loss: 0.7813 - accuracy: 0.0000e+00\n",
            "Epoch 58/100\n",
            "263/263 [==============================] - 1s 3ms/step - loss: 0.7811 - accuracy: 0.0000e+00\n",
            "Epoch 59/100\n",
            "263/263 [==============================] - 1s 3ms/step - loss: 0.7811 - accuracy: 0.0000e+00\n",
            "Epoch 60/100\n",
            "263/263 [==============================] - 1s 3ms/step - loss: 0.7811 - accuracy: 0.0000e+00\n",
            "Epoch 61/100\n",
            "263/263 [==============================] - 1s 3ms/step - loss: 0.7812 - accuracy: 0.0000e+00\n",
            "Epoch 62/100\n",
            "263/263 [==============================] - 1s 3ms/step - loss: 0.7813 - accuracy: 0.0000e+00\n",
            "Epoch 63/100\n",
            "263/263 [==============================] - 1s 3ms/step - loss: 0.7815 - accuracy: 0.0000e+00\n",
            "Epoch 64/100\n",
            "263/263 [==============================] - 1s 3ms/step - loss: 0.7817 - accuracy: 0.0000e+00\n",
            "Epoch 65/100\n",
            "263/263 [==============================] - 1s 3ms/step - loss: 0.7820 - accuracy: 0.0000e+00\n",
            "Epoch 66/100\n",
            "263/263 [==============================] - 1s 3ms/step - loss: 0.7822 - accuracy: 0.0000e+00\n",
            "Epoch 67/100\n",
            "263/263 [==============================] - 1s 3ms/step - loss: 0.7825 - accuracy: 0.0000e+00\n",
            "Epoch 68/100\n",
            "263/263 [==============================] - 1s 3ms/step - loss: 0.7828 - accuracy: 0.0000e+00\n",
            "Epoch 69/100\n",
            "263/263 [==============================] - 1s 3ms/step - loss: 0.7831 - accuracy: 0.0000e+00\n",
            "Epoch 70/100\n",
            "263/263 [==============================] - 1s 3ms/step - loss: 0.7834 - accuracy: 0.0000e+00\n",
            "Epoch 71/100\n",
            "263/263 [==============================] - 1s 3ms/step - loss: 0.7837 - accuracy: 0.0000e+00\n",
            "Epoch 72/100\n",
            "263/263 [==============================] - 1s 3ms/step - loss: 0.7839 - accuracy: 0.0000e+00\n",
            "Epoch 73/100\n",
            "263/263 [==============================] - 1s 3ms/step - loss: 0.7842 - accuracy: 0.0000e+00\n",
            "Epoch 74/100\n",
            "263/263 [==============================] - 1s 3ms/step - loss: 0.7845 - accuracy: 0.0000e+00\n",
            "Epoch 75/100\n",
            "263/263 [==============================] - 1s 3ms/step - loss: 0.7847 - accuracy: 0.0000e+00\n",
            "Epoch 76/100\n",
            "263/263 [==============================] - 1s 4ms/step - loss: 0.7849 - accuracy: 0.0000e+00\n",
            "Epoch 77/100\n",
            "263/263 [==============================] - 1s 5ms/step - loss: 0.7851 - accuracy: 0.0000e+00\n",
            "Epoch 78/100\n",
            "263/263 [==============================] - 1s 4ms/step - loss: 0.7853 - accuracy: 0.0000e+00\n",
            "Epoch 79/100\n",
            "263/263 [==============================] - 1s 3ms/step - loss: 0.7854 - accuracy: 0.0000e+00\n",
            "Epoch 80/100\n",
            "263/263 [==============================] - 1s 3ms/step - loss: 0.7855 - accuracy: 0.0000e+00\n",
            "Epoch 81/100\n",
            "263/263 [==============================] - 1s 3ms/step - loss: 0.7856 - accuracy: 0.0000e+00\n",
            "Epoch 82/100\n",
            "263/263 [==============================] - 1s 3ms/step - loss: 0.7857 - accuracy: 0.0000e+00\n",
            "Epoch 83/100\n",
            "263/263 [==============================] - 1s 3ms/step - loss: 0.7857 - accuracy: 0.0000e+00\n",
            "Epoch 84/100\n",
            "263/263 [==============================] - 1s 3ms/step - loss: 0.7858 - accuracy: 0.0000e+00\n",
            "Epoch 85/100\n",
            "263/263 [==============================] - 1s 3ms/step - loss: 0.7858 - accuracy: 0.0000e+00\n",
            "Epoch 86/100\n",
            "263/263 [==============================] - 1s 3ms/step - loss: 0.7857 - accuracy: 0.0000e+00\n",
            "Epoch 87/100\n",
            "263/263 [==============================] - 1s 3ms/step - loss: 0.7857 - accuracy: 0.0000e+00\n",
            "Epoch 88/100\n",
            "263/263 [==============================] - 1s 3ms/step - loss: 0.7856 - accuracy: 0.0000e+00\n",
            "Epoch 89/100\n",
            "263/263 [==============================] - 1s 3ms/step - loss: 0.7855 - accuracy: 0.0000e+00\n",
            "Epoch 90/100\n",
            "263/263 [==============================] - 1s 3ms/step - loss: 0.7854 - accuracy: 0.0000e+00\n",
            "Epoch 91/100\n",
            "263/263 [==============================] - 1s 3ms/step - loss: 0.7853 - accuracy: 0.0000e+00\n",
            "Epoch 92/100\n",
            "263/263 [==============================] - 1s 3ms/step - loss: 0.7851 - accuracy: 0.0000e+00\n",
            "Epoch 93/100\n",
            "263/263 [==============================] - 1s 3ms/step - loss: 0.7850 - accuracy: 0.0000e+00\n",
            "Epoch 94/100\n",
            "263/263 [==============================] - 1s 3ms/step - loss: 0.7848 - accuracy: 0.0000e+00\n",
            "Epoch 95/100\n",
            "263/263 [==============================] - 1s 3ms/step - loss: 0.7846 - accuracy: 0.0000e+00\n",
            "Epoch 96/100\n",
            "263/263 [==============================] - 1s 3ms/step - loss: 0.7843 - accuracy: 0.0000e+00\n",
            "Epoch 97/100\n",
            "263/263 [==============================] - 1s 3ms/step - loss: 0.7841 - accuracy: 0.0000e+00\n",
            "Epoch 98/100\n",
            "263/263 [==============================] - 1s 3ms/step - loss: 0.7838 - accuracy: 0.0000e+00\n",
            "Epoch 99/100\n",
            "263/263 [==============================] - 1s 3ms/step - loss: 0.7836 - accuracy: 0.0000e+00\n",
            "Epoch 100/100\n",
            "263/263 [==============================] - 1s 3ms/step - loss: 0.7833 - accuracy: 0.0000e+00\n"
          ]
        }
      ]
    },
    {
      "cell_type": "code",
      "source": [
        "y_pred = lstm.predict(X_test)\n",
        "train_predict=lstm.predict(X_train)"
      ],
      "metadata": {
        "id": "3WwnERYhr7nq"
      },
      "execution_count": 10,
      "outputs": []
    },
    {
      "cell_type": "code",
      "source": [
        "plt.plot(y_test, label='True Val')\n",
        "plt.plot(y_pred, label='Predicted')\n",
        "plt.title('Prediction by 1 layered LSTM')\n",
        "plt.xlabel('Time Scale (Days)')\n",
        "plt.ylabel('USD')\n",
        "plt.legend()\n",
        "plt.savefig('singleLayerLSTM.png')\n",
        "plt.show()\n"
      ],
      "metadata": {
        "colab": {
          "base_uri": "https://localhost:8080/",
          "height": 295
        },
        "id": "cR2LlBZVa6PG",
        "outputId": "c31582bb-38f2-46d9-a8df-bf62de5de231"
      },
      "execution_count": 15,
      "outputs": [
        {
          "output_type": "display_data",
          "data": {
            "text/plain": [
              "<Figure size 432x288 with 1 Axes>"
            ],
            "image/png": "[encoded data removed]"
          },
          "metadata": {
            "needs_background": "light"
          }
        }
      ]
    },
    {
      "cell_type": "code",
      "source": [
        ""
      ],
      "metadata": {
        "id": "mHxhw3aZqMxq"
      },
      "execution_count": 11,
      "outputs": []
    },
    {
      "cell_type": "code",
      "source": [
        "### Calculate RMSE performance metrics\n",
        "\n",
        "math.sqrt(mean_squared_error(y_train,train_predict))"
      ],
      "metadata": {
        "id": "7HrtvendsSsY",
        "colab": {
          "base_uri": "https://localhost:8080/"
        },
        "outputId": "e4f5d009-b175-415f-f188-19e1ec446f02"
      },
      "execution_count": 12,
      "outputs": [
        {
          "output_type": "execute_result",
          "data": {
            "text/plain": [
              "1.0636015230460447"
            ]
          },
          "metadata": {},
          "execution_count": 12
        }
      ]
    },
    {
      "cell_type": "code",
      "source": [
        "### Test Data RMSE\n",
        "math.sqrt(mean_squared_error(y_test,y_pred))"
      ],
      "metadata": {
        "colab": {
          "base_uri": "https://localhost:8080/"
        },
        "id": "XBKk5Sw9p30x",
        "outputId": "7042a2cd-0e63-4728-fe76-ae95b14dcfd2"
      },
      "execution_count": 13,
      "outputs": [
        {
          "output_type": "execute_result",
          "data": {
            "text/plain": [
              "5.903568432875884"
            ]
          },
          "metadata": {},
          "execution_count": 13
        }
      ]
    },
    {
      "cell_type": "code",
      "source": [
        "plot_model(lstm, show_shapes=True, show_layer_names=True)"
      ],
      "metadata": {
        "id": "xkgG-CUiqzHf",
        "colab": {
          "base_uri": "https://localhost:8080/",
          "height": 312
        },
        "outputId": "5b80a7aa-30e9-47b0-fb85-1db6cb8a1a66"
      },
      "execution_count": 16,
      "outputs": [
        {
          "output_type": "execute_result",
          "data": {
            "text/plain": [
              "<IPython.core.display.Image object>"
            ],
            "image/png": "[encoded data removed]"
          },
          "metadata": {},
          "execution_count": 16
        }
      ]
    },
    {
      "cell_type": "code",
      "source": [
        ""
      ],
      "metadata": {
        "id": "AGS3WWkd0c9r"
      },
      "execution_count": null,
      "outputs": []
    }
  ]
}