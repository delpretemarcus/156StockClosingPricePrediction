{
  "nbformat": 4,
  "nbformat_minor": 0,
  "metadata": {
    "colab": {
      "name": "DataCleaningAndExploration.ipynb",
      "provenance": [],
      "authorship_tag": "ABX9TyPGPklY72DiuPkDAXLbnxXH",
      "include_colab_link": true
    },
    "kernelspec": {
      "name": "python3",
      "display_name": "Python 3"
    },
    "language_info": {
      "name": "python"
    }
  },
  "cells": [
    {
      "cell_type": "markdown",
      "metadata": {
        "id": "view-in-github",
        "colab_type": "text"
      },
      "source": [
        "<a href=\"https://colab.research.google.com/github/delpretemarcus/156StockClosingPricePrediction/blob/main/DataCleaningAndExploration.ipynb\" target=\"_parent\"><img src=\"https://colab.research.google.com/assets/colab-badge.svg\" alt=\"Open In Colab\"/></a>"
      ]
    },
    {
      "cell_type": "code",
      "source": [
        "#Genuinely not sure which of these I use... Will trim as necessary\n",
        "import pandas as pd\n",
        "import numpy as np\n",
        "%matplotlib inline\n",
        "import matplotlib.pyplot as plt\n",
        "import matplotlib\n",
        "from sklearn.preprocessing import MinMaxScaler\n",
        "from keras.layers import LSTM, Dense\n",
        "from sklearn.model_selection import TimeSeriesSplit\n",
        "from sklearn.metrics import mean_squared_error\n",
        "from sklearn.preprocessing import MinMaxScaler\n",
        "from sklearn import linear_model\n",
        "from keras.models import Sequential\n",
        "from keras.optimizers import adam_v2\n",
        "from keras.utils.vis_utils import plot_model\n",
        "import math"
      ],
      "metadata": {
        "id": "8wfJkkom5ks6"
      },
      "execution_count": 12,
      "outputs": []
    },
    {
      "cell_type": "code",
      "execution_count": 2,
      "metadata": {
        "id": "sXqsK-G8381q"
      },
      "outputs": [],
      "source": [
        "\n",
        "aplurl = 'https://raw.githubusercontent.com/delpretemarcus/156StockClosingPricePrediction/main/HistoricalQuotes.csv'\n",
        "\n",
        "df = pd.read_csv(aplurl, index_col='Date')"
      ]
    },
    {
      "cell_type": "code",
      "source": [
        "#Data Cleaning --\n",
        "\n",
        "df.columns = ['Close', 'Volume', 'Open', 'High', 'Low']\n",
        "df.index = pd.to_datetime(df.index)\n",
        "df.sort_index()\n",
        "\n",
        "df.Close = df.Close.apply(lambda x: x[2:]).astype(np.double)\n",
        "df.Open = df.Open.apply(lambda x: x[2:]).astype(np.double)\n",
        "df.High = df.High.apply(lambda x: x[2:]).astype(np.double)\n",
        "df.Low = df.Low.apply(lambda x: x[2:]).astype(np.double)\n",
        "\n",
        "\n",
        "df = df.reindex(index=df.index[::-1])\n"
      ],
      "metadata": {
        "id": "RicwLpic8IBd"
      },
      "execution_count": 3,
      "outputs": []
    },
    {
      "cell_type": "code",
      "source": [
        "#Scaling\n",
        "features = ['Open', 'High', 'Low', 'Volume']\n",
        "scaler = MinMaxScaler()\n",
        "with_transform = scaler.fit_transform(df[features])\n",
        "with_transform= pd.DataFrame(columns=features, data=with_transform, index=df.index)\n",
        "with_transform.head()"
      ],
      "metadata": {
        "colab": {
          "base_uri": "https://localhost:8080/",
          "height": 238
        },
        "id": "BYrZKyzEp3fV",
        "outputId": "44d99993-a143-4317-c7b6-13c3641bf31c"
      },
      "execution_count": 4,
      "outputs": [
        {
          "output_type": "execute_result",
          "data": {
            "text/plain": [
              "                Open      High       Low    Volume\n",
              "Date                                              \n",
              "2010-03-01  0.000000  0.000000  0.003004  0.279219\n",
              "2010-03-02  0.002022  0.000638  0.004113  0.288472\n",
              "2010-03-03  0.001543  0.000177  0.004210  0.180643\n",
              "2010-03-04  0.001707  0.000681  0.004544  0.173428\n",
              "2010-03-05  0.004445  0.004891  0.007451  0.472832"
            ],
            "text/html": [
              "\n",
              "  <div id=\"df-eb573de8-c218-4ad8-a9ef-6af031794a62\">\n",
              "    <div class=\"colab-df-container\">\n",
              "      <div>\n",
              "<style scoped>\n",
              "    .dataframe tbody tr th:only-of-type {\n",
              "        vertical-align: middle;\n",
              "    }\n",
              "\n",
              "    .dataframe tbody tr th {\n",
              "        vertical-align: top;\n",
              "    }\n",
              "\n",
              "    .dataframe thead th {\n",
              "        text-align: right;\n",
              "    }\n",
              "</style>\n",
              "<table border=\"1\" class=\"dataframe\">\n",
              "  <thead>\n",
              "    <tr style=\"text-align: right;\">\n",
              "      <th></th>\n",
              "      <th>Open</th>\n",
              "      <th>High</th>\n",
              "      <th>Low</th>\n",
              "      <th>Volume</th>\n",
              "    </tr>\n",
              "    <tr>\n",
              "      <th>Date</th>\n",
              "      <th></th>\n",
              "      <th></th>\n",
              "      <th></th>\n",
              "      <th></th>\n",
              "    </tr>\n",
              "  </thead>\n",
              "  <tbody>\n",
              "    <tr>\n",
              "      <th>2010-03-01</th>\n",
              "      <td>0.000000</td>\n",
              "      <td>0.000000</td>\n",
              "      <td>0.003004</td>\n",
              "      <td>0.279219</td>\n",
              "    </tr>\n",
              "    <tr>\n",
              "      <th>2010-03-02</th>\n",
              "      <td>0.002022</td>\n",
              "      <td>0.000638</td>\n",
              "      <td>0.004113</td>\n",
              "      <td>0.288472</td>\n",
              "    </tr>\n",
              "    <tr>\n",
              "      <th>2010-03-03</th>\n",
              "      <td>0.001543</td>\n",
              "      <td>0.000177</td>\n",
              "      <td>0.004210</td>\n",
              "      <td>0.180643</td>\n",
              "    </tr>\n",
              "    <tr>\n",
              "      <th>2010-03-04</th>\n",
              "      <td>0.001707</td>\n",
              "      <td>0.000681</td>\n",
              "      <td>0.004544</td>\n",
              "      <td>0.173428</td>\n",
              "    </tr>\n",
              "    <tr>\n",
              "      <th>2010-03-05</th>\n",
              "      <td>0.004445</td>\n",
              "      <td>0.004891</td>\n",
              "      <td>0.007451</td>\n",
              "      <td>0.472832</td>\n",
              "    </tr>\n",
              "  </tbody>\n",
              "</table>\n",
              "</div>\n",
              "      <button class=\"colab-df-convert\" onclick=\"convertToInteractive('df-eb573de8-c218-4ad8-a9ef-6af031794a62')\"\n",
              "              title=\"Convert this dataframe to an interactive table.\"\n",
              "              style=\"display:none;\">\n",
              "        \n",
              "  <svg xmlns=\"http://www.w3.org/2000/svg\" height=\"24px\"viewBox=\"0 0 24 24\"\n",
              "       width=\"24px\">\n",
              "    <path d=\"M0 0h24v24H0V0z\" fill=\"none\"/>\n",
              "    <path d=\"M18.56 5.44l.94 2.06.94-2.06 2.06-.94-2.06-.94-.94-2.06-.94 2.06-2.06.94zm-11 1L8.5 8.5l.94-2.06 2.06-.94-2.06-.94L8.5 2.5l-.94 2.06-2.06.94zm10 10l.94 2.06.94-2.06 2.06-.94-2.06-.94-.94-2.06-.94 2.06-2.06.94z\"/><path d=\"M17.41 7.96l-1.37-1.37c-.4-.4-.92-.59-1.43-.59-.52 0-1.04.2-1.43.59L10.3 9.45l-7.72 7.72c-.78.78-.78 2.05 0 2.83L4 21.41c.39.39.9.59 1.41.59.51 0 1.02-.2 1.41-.59l7.78-7.78 2.81-2.81c.8-.78.8-2.07 0-2.86zM5.41 20L4 18.59l7.72-7.72 1.47 1.35L5.41 20z\"/>\n",
              "  </svg>\n",
              "      </button>\n",
              "      \n",
              "  <style>\n",
              "    .colab-df-container {\n",
              "      display:flex;\n",
              "      flex-wrap:wrap;\n",
              "      gap: 12px;\n",
              "    }\n",
              "\n",
              "    .colab-df-convert {\n",
              "      background-color: #E8F0FE;\n",
              "      border: none;\n",
              "      border-radius: 50%;\n",
              "      cursor: pointer;\n",
              "      display: none;\n",
              "      fill: #1967D2;\n",
              "      height: 32px;\n",
              "      padding: 0 0 0 0;\n",
              "      width: 32px;\n",
              "    }\n",
              "\n",
              "    .colab-df-convert:hover {\n",
              "      background-color: #E2EBFA;\n",
              "      box-shadow: 0px 1px 2px rgba(60, 64, 67, 0.3), 0px 1px 3px 1px rgba(60, 64, 67, 0.15);\n",
              "      fill: #174EA6;\n",
              "    }\n",
              "\n",
              "    [theme=dark] .colab-df-convert {\n",
              "      background-color: #3B4455;\n",
              "      fill: #D2E3FC;\n",
              "    }\n",
              "\n",
              "    [theme=dark] .colab-df-convert:hover {\n",
              "      background-color: #434B5C;\n",
              "      box-shadow: 0px 1px 3px 1px rgba(0, 0, 0, 0.15);\n",
              "      filter: drop-shadow(0px 1px 2px rgba(0, 0, 0, 0.3));\n",
              "      fill: #FFFFFF;\n",
              "    }\n",
              "  </style>\n",
              "\n",
              "      <script>\n",
              "        const buttonEl =\n",
              "          document.querySelector('#df-eb573de8-c218-4ad8-a9ef-6af031794a62 button.colab-df-convert');\n",
              "        buttonEl.style.display =\n",
              "          google.colab.kernel.accessAllowed ? 'block' : 'none';\n",
              "\n",
              "        async function convertToInteractive(key) {\n",
              "          const element = document.querySelector('#df-eb573de8-c218-4ad8-a9ef-6af031794a62');\n",
              "          const dataTable =\n",
              "            await google.colab.kernel.invokeFunction('convertToInteractive',\n",
              "                                                     [key], {});\n",
              "          if (!dataTable) return;\n",
              "\n",
              "          const docLinkHtml = 'Like what you see? Visit the ' +\n",
              "            '<a target=\"_blank\" href=https://colab.research.google.com/notebooks/data_table.ipynb>data table notebook</a>'\n",
              "            + ' to learn more about interactive tables.';\n",
              "          element.innerHTML = '';\n",
              "          dataTable['output_type'] = 'display_data';\n",
              "          await google.colab.output.renderOutput(dataTable, element);\n",
              "          const docLink = document.createElement('div');\n",
              "          docLink.innerHTML = docLinkHtml;\n",
              "          element.appendChild(docLink);\n",
              "        }\n",
              "      </script>\n",
              "    </div>\n",
              "  </div>\n",
              "  "
            ]
          },
          "metadata": {},
          "execution_count": 4
        }
      ]
    },
    {
      "cell_type": "code",
      "source": [
        "#Splitting to Training set and Test set\n",
        "output_var = pd.DataFrame(df['Close'])\n",
        "timesplit= TimeSeriesSplit(n_splits=5)\n",
        "for train_index, test_index in timesplit.split(with_transform):\n",
        "  X_train, X_test = with_transform[:len(train_index)], with_transform[len(train_index): (len(train_index)+len(test_index))]\n",
        "  y_train, y_test = output_var[:len(train_index)].values.ravel(), output_var[len(train_index): (len(train_index)+len(test_index))].values.ravel()\n",
        "#Just want the last one out of all the options. Makes life easier\n"
      ],
      "metadata": {
        "id": "C9sh3iTRrH1l"
      },
      "execution_count": 5,
      "outputs": []
    },
    {
      "cell_type": "code",
      "source": [
        "#Process the data for LSTM\n",
        "trainXnp = np.array(X_train)\n",
        "testXnp = np.array(X_test)\n",
        "X_train = trainXnp.reshape(X_train.shape[0], 1, X_train.shape[1])\n",
        "X_test = testXnp.reshape(X_test.shape[0], 1, X_test.shape[1])"
      ],
      "metadata": {
        "id": "rcVtwBiJrkeH"
      },
      "execution_count": 6,
      "outputs": []
    },
    {
      "cell_type": "code",
      "source": [
        "#Building the LSTM Model\n",
        "lstm = Sequential()\n",
        "lstm.add(LSTM(32, input_shape=(1, trainXnp.shape[1]), activation='relu', return_sequences=False))\n",
        "lstm.add(Dense(1))\n",
        "lstm.compile(loss='mean_squared_error', optimizer='adam', metrics='accuracy')\n",
        "#plot_model(lstm, show_shapes=True, show_layer_names=True)"
      ],
      "metadata": {
        "id": "MI1ikEU2rozi"
      },
      "execution_count": 7,
      "outputs": []
    },
    {
      "cell_type": "code",
      "source": [
        "lstm.summary()"
      ],
      "metadata": {
        "colab": {
          "base_uri": "https://localhost:8080/"
        },
        "id": "7bmQ5dURuG5C",
        "outputId": "0bc9af9d-fd29-4e68-cfea-24bd5fce3caf"
      },
      "execution_count": 8,
      "outputs": [
        {
          "output_type": "stream",
          "name": "stdout",
          "text": [
            "Model: \"sequential\"\n",
            "_________________________________________________________________\n",
            " Layer (type)                Output Shape              Param #   \n",
            "=================================================================\n",
            " lstm (LSTM)                 (None, 32)                4736      \n",
            "                                                                 \n",
            " dense (Dense)               (None, 1)                 33        \n",
            "                                                                 \n",
            "=================================================================\n",
            "Total params: 4,769\n",
            "Trainable params: 4,769\n",
            "Non-trainable params: 0\n",
            "_________________________________________________________________\n"
          ]
        }
      ]
    },
    {
      "cell_type": "code",
      "source": [
        "history=lstm.fit(X_train, y_train, epochs=100, batch_size=8, verbose=1, shuffle=False)"
      ],
      "metadata": {
        "id": "4GOrmg21r2UM",
        "colab": {
          "base_uri": "https://localhost:8080/"
        },
        "outputId": "9e958a13-a8ae-41f1-da52-2198f6df12ff"
      },
      "execution_count": 9,
      "outputs": [
        {
          "output_type": "stream",
          "name": "stdout",
          "text": [
            "Epoch 1/100\n",
            "263/263 [==============================] - 4s 4ms/step - loss: 10261.0996 - accuracy: 0.0000e+00\n",
            "Epoch 2/100\n",
            "263/263 [==============================] - 1s 4ms/step - loss: 9181.8574 - accuracy: 0.0000e+00\n",
            "Epoch 3/100\n",
            "263/263 [==============================] - 1s 4ms/step - loss: 7193.9165 - accuracy: 0.0000e+00\n",
            "Epoch 4/100\n",
            "263/263 [==============================] - 1s 4ms/step - loss: 4877.2544 - accuracy: 0.0000e+00\n",
            "Epoch 5/100\n",
            "263/263 [==============================] - 1s 4ms/step - loss: 2902.6763 - accuracy: 0.0000e+00\n",
            "Epoch 6/100\n",
            "263/263 [==============================] - 1s 5ms/step - loss: 1579.3583 - accuracy: 0.0000e+00\n",
            "Epoch 7/100\n",
            "263/263 [==============================] - 1s 4ms/step - loss: 870.1743 - accuracy: 0.0000e+00\n",
            "Epoch 8/100\n",
            "263/263 [==============================] - 1s 4ms/step - loss: 559.4211 - accuracy: 0.0000e+00\n",
            "Epoch 9/100\n",
            "263/263 [==============================] - 1s 4ms/step - loss: 435.8380 - accuracy: 0.0000e+00\n",
            "Epoch 10/100\n",
            "263/263 [==============================] - 1s 5ms/step - loss: 371.6500 - accuracy: 0.0000e+00\n",
            "Epoch 11/100\n",
            "263/263 [==============================] - 1s 4ms/step - loss: 315.4903 - accuracy: 0.0000e+00\n",
            "Epoch 12/100\n",
            "263/263 [==============================] - 1s 3ms/step - loss: 257.6938 - accuracy: 0.0000e+00\n",
            "Epoch 13/100\n",
            "263/263 [==============================] - 1s 4ms/step - loss: 199.4239 - accuracy: 0.0000e+00\n",
            "Epoch 14/100\n",
            "263/263 [==============================] - 1s 5ms/step - loss: 145.5482 - accuracy: 0.0000e+00\n",
            "Epoch 15/100\n",
            "263/263 [==============================] - 1s 4ms/step - loss: 99.8114 - accuracy: 0.0000e+00\n",
            "Epoch 16/100\n",
            "263/263 [==============================] - 1s 4ms/step - loss: 63.8327 - accuracy: 0.0000e+00\n",
            "Epoch 17/100\n",
            "263/263 [==============================] - 1s 3ms/step - loss: 37.7456 - accuracy: 0.0000e+00\n",
            "Epoch 18/100\n",
            "263/263 [==============================] - 1s 4ms/step - loss: 20.4872 - accuracy: 0.0000e+00\n",
            "Epoch 19/100\n",
            "263/263 [==============================] - 1s 4ms/step - loss: 10.2831 - accuracy: 0.0000e+00\n",
            "Epoch 20/100\n",
            "263/263 [==============================] - 1s 3ms/step - loss: 4.9781 - accuracy: 0.0000e+00\n",
            "Epoch 21/100\n",
            "263/263 [==============================] - 1s 2ms/step - loss: 2.6074 - accuracy: 0.0000e+00\n",
            "Epoch 22/100\n",
            "263/263 [==============================] - 1s 2ms/step - loss: 1.7288 - accuracy: 0.0000e+00\n",
            "Epoch 23/100\n",
            "263/263 [==============================] - 1s 2ms/step - loss: 1.4421 - accuracy: 0.0000e+00\n",
            "Epoch 24/100\n",
            "263/263 [==============================] - 1s 2ms/step - loss: 1.3379 - accuracy: 0.0000e+00\n",
            "Epoch 25/100\n",
            "263/263 [==============================] - 1s 2ms/step - loss: 1.2764 - accuracy: 0.0000e+00\n",
            "Epoch 26/100\n",
            "263/263 [==============================] - 1s 2ms/step - loss: 1.2201 - accuracy: 0.0000e+00\n",
            "Epoch 27/100\n",
            "263/263 [==============================] - 1s 2ms/step - loss: 1.1636 - accuracy: 0.0000e+00\n",
            "Epoch 28/100\n",
            "263/263 [==============================] - 1s 2ms/step - loss: 1.1069 - accuracy: 0.0000e+00\n",
            "Epoch 29/100\n",
            "263/263 [==============================] - 1s 2ms/step - loss: 1.0526 - accuracy: 0.0000e+00\n",
            "Epoch 30/100\n",
            "263/263 [==============================] - 1s 2ms/step - loss: 1.0041 - accuracy: 0.0000e+00\n",
            "Epoch 31/100\n",
            "263/263 [==============================] - 1s 2ms/step - loss: 0.9628 - accuracy: 0.0000e+00\n",
            "Epoch 32/100\n",
            "263/263 [==============================] - 1s 2ms/step - loss: 0.9286 - accuracy: 0.0000e+00\n",
            "Epoch 33/100\n",
            "263/263 [==============================] - 1s 2ms/step - loss: 0.8997 - accuracy: 0.0000e+00\n",
            "Epoch 34/100\n",
            "263/263 [==============================] - 1s 2ms/step - loss: 0.8769 - accuracy: 0.0000e+00\n",
            "Epoch 35/100\n",
            "263/263 [==============================] - 1s 2ms/step - loss: 0.8590 - accuracy: 0.0000e+00\n",
            "Epoch 36/100\n",
            "263/263 [==============================] - 1s 2ms/step - loss: 0.8452 - accuracy: 0.0000e+00\n",
            "Epoch 37/100\n",
            "263/263 [==============================] - 1s 2ms/step - loss: 0.8329 - accuracy: 0.0000e+00\n",
            "Epoch 38/100\n",
            "263/263 [==============================] - 1s 2ms/step - loss: 0.8208 - accuracy: 0.0000e+00\n",
            "Epoch 39/100\n",
            "263/263 [==============================] - 1s 2ms/step - loss: 0.8099 - accuracy: 0.0000e+00\n",
            "Epoch 40/100\n",
            "263/263 [==============================] - 1s 2ms/step - loss: 0.8004 - accuracy: 0.0000e+00\n",
            "Epoch 41/100\n",
            "263/263 [==============================] - 1s 2ms/step - loss: 0.7925 - accuracy: 0.0000e+00\n",
            "Epoch 42/100\n",
            "263/263 [==============================] - 1s 2ms/step - loss: 0.7859 - accuracy: 0.0000e+00\n",
            "Epoch 43/100\n",
            "263/263 [==============================] - 1s 2ms/step - loss: 0.7805 - accuracy: 0.0000e+00\n",
            "Epoch 44/100\n",
            "263/263 [==============================] - 1s 2ms/step - loss: 0.7762 - accuracy: 0.0000e+00\n",
            "Epoch 45/100\n",
            "263/263 [==============================] - 1s 2ms/step - loss: 0.7726 - accuracy: 0.0000e+00\n",
            "Epoch 46/100\n",
            "263/263 [==============================] - 1s 2ms/step - loss: 0.7695 - accuracy: 0.0000e+00\n",
            "Epoch 47/100\n",
            "263/263 [==============================] - 1s 2ms/step - loss: 0.7669 - accuracy: 0.0000e+00\n",
            "Epoch 48/100\n",
            "263/263 [==============================] - 1s 2ms/step - loss: 0.7647 - accuracy: 0.0000e+00\n",
            "Epoch 49/100\n",
            "263/263 [==============================] - 1s 2ms/step - loss: 0.7629 - accuracy: 0.0000e+00\n",
            "Epoch 50/100\n",
            "263/263 [==============================] - 1s 2ms/step - loss: 0.7614 - accuracy: 0.0000e+00\n",
            "Epoch 51/100\n",
            "263/263 [==============================] - 1s 2ms/step - loss: 0.7598 - accuracy: 0.0000e+00\n",
            "Epoch 52/100\n",
            "263/263 [==============================] - 1s 2ms/step - loss: 0.7581 - accuracy: 0.0000e+00\n",
            "Epoch 53/100\n",
            "263/263 [==============================] - 1s 2ms/step - loss: 0.7563 - accuracy: 0.0000e+00\n",
            "Epoch 54/100\n",
            "263/263 [==============================] - 1s 2ms/step - loss: 0.7545 - accuracy: 0.0000e+00\n",
            "Epoch 55/100\n",
            "263/263 [==============================] - 1s 2ms/step - loss: 0.7528 - accuracy: 0.0000e+00\n",
            "Epoch 56/100\n",
            "263/263 [==============================] - 1s 2ms/step - loss: 0.7511 - accuracy: 0.0000e+00\n",
            "Epoch 57/100\n",
            "263/263 [==============================] - 1s 2ms/step - loss: 0.7495 - accuracy: 0.0000e+00\n",
            "Epoch 58/100\n",
            "263/263 [==============================] - 1s 2ms/step - loss: 0.7480 - accuracy: 0.0000e+00\n",
            "Epoch 59/100\n",
            "263/263 [==============================] - 1s 2ms/step - loss: 0.7466 - accuracy: 0.0000e+00\n",
            "Epoch 60/100\n",
            "263/263 [==============================] - 1s 2ms/step - loss: 0.7454 - accuracy: 0.0000e+00\n",
            "Epoch 61/100\n",
            "263/263 [==============================] - 1s 2ms/step - loss: 0.7443 - accuracy: 0.0000e+00\n",
            "Epoch 62/100\n",
            "263/263 [==============================] - 1s 2ms/step - loss: 0.7433 - accuracy: 0.0000e+00\n",
            "Epoch 63/100\n",
            "263/263 [==============================] - 1s 2ms/step - loss: 0.7424 - accuracy: 0.0000e+00\n",
            "Epoch 64/100\n",
            "263/263 [==============================] - 1s 2ms/step - loss: 0.7416 - accuracy: 0.0000e+00\n",
            "Epoch 65/100\n",
            "263/263 [==============================] - 1s 2ms/step - loss: 0.7410 - accuracy: 0.0000e+00\n",
            "Epoch 66/100\n",
            "263/263 [==============================] - 1s 2ms/step - loss: 0.7404 - accuracy: 0.0000e+00\n",
            "Epoch 67/100\n",
            "263/263 [==============================] - 1s 2ms/step - loss: 0.7399 - accuracy: 0.0000e+00\n",
            "Epoch 68/100\n",
            "263/263 [==============================] - 1s 2ms/step - loss: 0.7395 - accuracy: 0.0000e+00\n",
            "Epoch 69/100\n",
            "263/263 [==============================] - 1s 2ms/step - loss: 0.7392 - accuracy: 0.0000e+00\n",
            "Epoch 70/100\n",
            "263/263 [==============================] - 1s 2ms/step - loss: 0.7389 - accuracy: 0.0000e+00\n",
            "Epoch 71/100\n",
            "263/263 [==============================] - 1s 2ms/step - loss: 0.7387 - accuracy: 0.0000e+00\n",
            "Epoch 72/100\n",
            "263/263 [==============================] - 1s 2ms/step - loss: 0.7385 - accuracy: 0.0000e+00\n",
            "Epoch 73/100\n",
            "263/263 [==============================] - 1s 2ms/step - loss: 0.7384 - accuracy: 0.0000e+00\n",
            "Epoch 74/100\n",
            "263/263 [==============================] - 1s 2ms/step - loss: 0.7383 - accuracy: 0.0000e+00\n",
            "Epoch 75/100\n",
            "263/263 [==============================] - 1s 2ms/step - loss: 0.7382 - accuracy: 0.0000e+00\n",
            "Epoch 76/100\n",
            "263/263 [==============================] - 1s 2ms/step - loss: 0.7382 - accuracy: 0.0000e+00\n",
            "Epoch 77/100\n",
            "263/263 [==============================] - 1s 2ms/step - loss: 0.7381 - accuracy: 0.0000e+00\n",
            "Epoch 78/100\n",
            "263/263 [==============================] - 1s 2ms/step - loss: 0.7381 - accuracy: 0.0000e+00\n",
            "Epoch 79/100\n",
            "263/263 [==============================] - 1s 2ms/step - loss: 0.7381 - accuracy: 0.0000e+00\n",
            "Epoch 80/100\n",
            "263/263 [==============================] - 1s 2ms/step - loss: 0.7381 - accuracy: 0.0000e+00\n",
            "Epoch 81/100\n",
            "263/263 [==============================] - 1s 2ms/step - loss: 0.7381 - accuracy: 0.0000e+00\n",
            "Epoch 82/100\n",
            "263/263 [==============================] - 1s 2ms/step - loss: 0.7381 - accuracy: 0.0000e+00\n",
            "Epoch 83/100\n",
            "263/263 [==============================] - 1s 2ms/step - loss: 0.7380 - accuracy: 0.0000e+00\n",
            "Epoch 84/100\n",
            "263/263 [==============================] - 1s 2ms/step - loss: 0.7380 - accuracy: 0.0000e+00\n",
            "Epoch 85/100\n",
            "263/263 [==============================] - 1s 2ms/step - loss: 0.7380 - accuracy: 0.0000e+00\n",
            "Epoch 86/100\n",
            "263/263 [==============================] - 1s 2ms/step - loss: 0.7380 - accuracy: 0.0000e+00\n",
            "Epoch 87/100\n",
            "263/263 [==============================] - 1s 2ms/step - loss: 0.7379 - accuracy: 0.0000e+00\n",
            "Epoch 88/100\n",
            "263/263 [==============================] - 1s 2ms/step - loss: 0.7378 - accuracy: 0.0000e+00\n",
            "Epoch 89/100\n",
            "263/263 [==============================] - 1s 2ms/step - loss: 0.7378 - accuracy: 0.0000e+00\n",
            "Epoch 90/100\n",
            "263/263 [==============================] - 1s 2ms/step - loss: 0.7376 - accuracy: 0.0000e+00\n",
            "Epoch 91/100\n",
            "263/263 [==============================] - 1s 2ms/step - loss: 0.7376 - accuracy: 0.0000e+00\n",
            "Epoch 92/100\n",
            "263/263 [==============================] - 1s 2ms/step - loss: 0.7375 - accuracy: 0.0000e+00\n",
            "Epoch 93/100\n",
            "263/263 [==============================] - 1s 2ms/step - loss: 0.7373 - accuracy: 0.0000e+00\n",
            "Epoch 94/100\n",
            "263/263 [==============================] - 1s 2ms/step - loss: 0.7372 - accuracy: 0.0000e+00\n",
            "Epoch 95/100\n",
            "263/263 [==============================] - 1s 2ms/step - loss: 0.7370 - accuracy: 0.0000e+00\n",
            "Epoch 96/100\n",
            "263/263 [==============================] - 1s 2ms/step - loss: 0.7369 - accuracy: 0.0000e+00\n",
            "Epoch 97/100\n",
            "263/263 [==============================] - 1s 2ms/step - loss: 0.7367 - accuracy: 0.0000e+00\n",
            "Epoch 98/100\n",
            "263/263 [==============================] - 1s 2ms/step - loss: 0.7365 - accuracy: 0.0000e+00\n",
            "Epoch 99/100\n",
            "263/263 [==============================] - 1s 2ms/step - loss: 0.7364 - accuracy: 0.0000e+00\n",
            "Epoch 100/100\n",
            "263/263 [==============================] - 1s 2ms/step - loss: 0.7361 - accuracy: 0.0000e+00\n"
          ]
        }
      ]
    },
    {
      "cell_type": "code",
      "source": [
        "y_pred = lstm.predict(X_test)\n",
        "train_predict=lstm.predict(X_train)"
      ],
      "metadata": {
        "id": "3WwnERYhr7nq"
      },
      "execution_count": 13,
      "outputs": []
    },
    {
      "cell_type": "code",
      "source": [
        "plt.plot(y_test, label='True Val')\n",
        "plt.plot(y_pred, label='Predicted')\n",
        "plt.title('Prediction by LSTM')\n",
        "plt.xlabel('Time Scale')\n",
        "plt.ylabel('USD')\n",
        "plt.legend()\n",
        "plt.show()"
      ],
      "metadata": {
        "colab": {
          "base_uri": "https://localhost:8080/",
          "height": 295
        },
        "id": "cR2LlBZVa6PG",
        "outputId": "9e8dca3e-84d1-4e19-958e-bbe33a63d17d"
      },
      "execution_count": 11,
      "outputs": [
        {
          "output_type": "display_data",
          "data": {
            "text/plain": [
              "<Figure size 432x288 with 1 Axes>"
            ],
            "image/png": "[encoded data removed]"
          },
          "metadata": {
            "needs_background": "light"
          }
        }
      ]
    },
    {
      "cell_type": "code",
      "source": [
        ""
      ],
      "metadata": {
        "id": "mHxhw3aZqMxq"
      },
      "execution_count": null,
      "outputs": []
    },
    {
      "cell_type": "code",
      "source": [
        "### Calculate RMSE performance metrics\n",
        "\n",
        "math.sqrt(mean_squared_error(y_train,train_predict))"
      ],
      "metadata": {
        "id": "7HrtvendsSsY",
        "colab": {
          "base_uri": "https://localhost:8080/"
        },
        "outputId": "4189ecc2-da0f-4ddb-c231-dfdd6c43f0de"
      },
      "execution_count": 14,
      "outputs": [
        {
          "output_type": "execute_result",
          "data": {
            "text/plain": [
              "0.9517606442588807"
            ]
          },
          "metadata": {},
          "execution_count": 14
        }
      ]
    },
    {
      "cell_type": "code",
      "source": [
        "### Test Data RMSE\n",
        "math.sqrt(mean_squared_error(y_test,y_pred))"
      ],
      "metadata": {
        "colab": {
          "base_uri": "https://localhost:8080/"
        },
        "id": "XBKk5Sw9p30x",
        "outputId": "9c4ec56a-b949-4bc3-8447-2d22a8399a5a"
      },
      "execution_count": 15,
      "outputs": [
        {
          "output_type": "execute_result",
          "data": {
            "text/plain": [
              "7.3881209956372045"
            ]
          },
          "metadata": {},
          "execution_count": 15
        }
      ]
    },
    {
      "cell_type": "code",
      "source": [
        ""
      ],
      "metadata": {
        "id": "xkgG-CUiqzHf"
      },
      "execution_count": null,
      "outputs": []
    }
  ]
}